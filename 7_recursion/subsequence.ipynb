{
 "cells": [
  {
   "cell_type": "markdown",
   "metadata": {},
   "source": [
    "## Generate all binary strings"
   ]
  },
  {
   "cell_type": "code",
   "execution_count": 9,
   "metadata": {},
   "outputs": [],
   "source": [
    "\n",
    "def generate_binary(n):\n",
    "    binary = []\n",
    "\n",
    "    def helper(s,n):\n",
    "        if n==0:\n",
    "            binary.append(s)\n",
    "            return\n",
    "        \n",
    "        helper(s+\"0\", n-1)\n",
    "        helper(s+\"1\" , n-1)\n",
    "\n",
    "    s = \"\"\n",
    "    helper(s, n)\n",
    "    return binary"
   ]
  },
  {
   "cell_type": "code",
   "execution_count": 10,
   "metadata": {},
   "outputs": [
    {
     "data": {
      "text/plain": [
       "['000', '001', '010', '011', '100', '101', '110', '111']"
      ]
     },
     "execution_count": 10,
     "metadata": {},
     "output_type": "execute_result"
    }
   ],
   "source": [
    "generate_binary(3)"
   ]
  },
  {
   "cell_type": "code",
   "execution_count": 1,
   "metadata": {},
   "outputs": [
    {
     "data": {
      "text/plain": [
       "['000', '001', '010', '100', '101']"
      ]
     },
     "execution_count": 1,
     "metadata": {},
     "output_type": "execute_result"
    }
   ],
   "source": [
    "def gbs(n):\n",
    "    if n==0:\n",
    "        return []\n",
    "    if n==1:\n",
    "        return [\"0\", \"1\"]\n",
    "    result = []\n",
    "    for s in gbs(n-1):\n",
    "        result.append(s+\"0\")\n",
    "\n",
    "        if s[-1] != \"1\":\n",
    "            result.append(s+\"1\")\n",
    "    return result\n",
    "\n",
    "\n",
    "gbs(3)"
   ]
  },
  {
   "cell_type": "markdown",
   "metadata": {},
   "source": [
    "## Generate Parentheses\n"
   ]
  },
  {
   "cell_type": "code",
   "execution_count": 3,
   "metadata": {},
   "outputs": [
    {
     "name": "stdout",
     "output_type": "stream",
     "text": [
      "\n",
      "(\n",
      "((\n",
      "(((\n",
      "((()\n",
      "((())\n",
      "((()))\n",
      "\n",
      "(()\n",
      "(()(\n",
      "(()()\n",
      "(()())\n",
      "\n",
      "(())\n",
      "(())(\n",
      "(())()\n",
      "\n",
      "()\n",
      "()(\n",
      "()((\n",
      "()(()\n",
      "()(())\n",
      "\n",
      "()()\n",
      "()()(\n",
      "()()()\n",
      "\n"
     ]
    },
    {
     "data": {
      "text/plain": [
       "['((()))', '(()())', '(())()', '()(())', '()()()']"
      ]
     },
     "execution_count": 3,
     "metadata": {},
     "output_type": "execute_result"
    }
   ],
   "source": [
    "def generateParenthesis(n):\n",
    "    result = []\n",
    "\n",
    "    def helper(curr_str, open_count, close_count):\n",
    "        print(curr_str)\n",
    "        if len(curr_str) == 2*n:\n",
    "            result.append(curr_str)\n",
    "            print()\n",
    "            return\n",
    "        \n",
    "        if open_count<n:\n",
    "            helper(curr_str+\"(\" , open_count+1, close_count)\n",
    "        if close_count<open_count:\n",
    "            helper(curr_str+\")\", open_count, close_count+1)\n",
    "\n",
    "\n",
    "    helper(\"\", 0 , 0)\n",
    "    return result\n",
    "\n",
    "generateParenthesis(3)"
   ]
  },
  {
   "cell_type": "markdown",
   "metadata": {},
   "source": [
    "## Print all subsequences/Power Set"
   ]
  },
  {
   "cell_type": "code",
   "execution_count": 14,
   "metadata": {},
   "outputs": [
    {
     "data": {
      "text/plain": [
       "['', 'c', 'b', 'bc', 'a', 'ac', 'ab', 'abc']"
      ]
     },
     "execution_count": 14,
     "metadata": {},
     "output_type": "execute_result"
    }
   ],
   "source": [
    "def subset(s):\n",
    "    result = []\n",
    "    n = len(s)\n",
    "    def helper(curr,index):\n",
    "        if index==n:\n",
    "            result.append(curr)\n",
    "            return\n",
    "        \n",
    "        helper(curr, index+1)\n",
    "        helper(curr+s[index], index+1)\n",
    "    \n",
    "    helper(\"\",0)\n",
    "\n",
    "    return result\n",
    "\n",
    "\n",
    "s = \"abc\"\n",
    "subset(s)"
   ]
  },
  {
   "cell_type": "code",
   "execution_count": 23,
   "metadata": {},
   "outputs": [
    {
     "data": {
      "text/plain": [
       "[[],\n",
       " [8],\n",
       " [6],\n",
       " [6, 8],\n",
       " [10],\n",
       " [10, 8],\n",
       " [10, 6],\n",
       " [10, 6, 8],\n",
       " [3],\n",
       " [3, 8],\n",
       " [3, 6],\n",
       " [3, 6, 8],\n",
       " [3, 10],\n",
       " [3, 10, 8],\n",
       " [3, 10, 6],\n",
       " [3, 10, 6, 8],\n",
       " [2],\n",
       " [2, 8],\n",
       " [2, 6],\n",
       " [2, 6, 8],\n",
       " [2, 10],\n",
       " [2, 10, 8],\n",
       " [2, 10, 6],\n",
       " [2, 10, 6, 8],\n",
       " [2, 3],\n",
       " [2, 3, 8],\n",
       " [2, 3, 6],\n",
       " [2, 3, 6, 8],\n",
       " [2, 3, 10],\n",
       " [2, 3, 10, 8],\n",
       " [2, 3, 10, 6],\n",
       " [2, 3, 10, 6, 8],\n",
       " [5],\n",
       " [5, 8],\n",
       " [5, 6],\n",
       " [5, 6, 8],\n",
       " [5, 10],\n",
       " [5, 10, 8],\n",
       " [5, 10, 6],\n",
       " [5, 10, 6, 8],\n",
       " [5, 3],\n",
       " [5, 3, 8],\n",
       " [5, 3, 6],\n",
       " [5, 3, 6, 8],\n",
       " [5, 3, 10],\n",
       " [5, 3, 10, 8],\n",
       " [5, 3, 10, 6],\n",
       " [5, 3, 10, 6, 8],\n",
       " [5, 2],\n",
       " [5, 2, 8],\n",
       " [5, 2, 6],\n",
       " [5, 2, 6, 8],\n",
       " [5, 2, 10],\n",
       " [5, 2, 10, 8],\n",
       " [5, 2, 10, 6],\n",
       " [5, 2, 10, 6, 8],\n",
       " [5, 2, 3],\n",
       " [5, 2, 3, 8],\n",
       " [5, 2, 3, 6],\n",
       " [5, 2, 3, 6, 8],\n",
       " [5, 2, 3, 10],\n",
       " [5, 2, 3, 10, 8],\n",
       " [5, 2, 3, 10, 6],\n",
       " [5, 2, 3, 10, 6, 8]]"
      ]
     },
     "execution_count": 23,
     "metadata": {},
     "output_type": "execute_result"
    }
   ],
   "source": [
    "def subset2(s):\n",
    "    result = []\n",
    "    n = len(s)\n",
    "    def helper(curr,index):\n",
    "        if index==n:\n",
    "            result.append(curr)\n",
    "            return\n",
    "        \n",
    "        helper(curr, index+1)\n",
    "        helper(curr+[s[index]], index+1)\n",
    "    \n",
    "    helper([],0)\n",
    "    return result\n",
    "    # return result\n",
    "    # sm = 10\n",
    "    # cnt=0\n",
    "\n",
    "    # # print(result)\n",
    "    # for i in result:\n",
    "    #     print(sum(i))\n",
    "    #     if sum(i)==sm:\n",
    "    #         cnt+1\n",
    "\n",
    "    # return cnt\n",
    "\n",
    "\n",
    "s = [5, 2, 3, 10, 6, 8]\n",
    "subset2(s)"
   ]
  },
  {
   "cell_type": "markdown",
   "metadata": {},
   "source": [
    "## Better String"
   ]
  },
  {
   "cell_type": "code",
   "execution_count": 18,
   "metadata": {},
   "outputs": [
    {
     "data": {
      "text/plain": [
       "'gfg'"
      ]
     },
     "execution_count": 18,
     "metadata": {},
     "output_type": "execute_result"
    }
   ],
   "source": [
    "def betterString(a,b):\n",
    "    lst1 = subset(a)\n",
    "    lst2 = subset(b)\n",
    "\n",
    "    st1 = set(lst1)\n",
    "    st2 = set(lst2)\n",
    "    if len(st1)>=len(st2):\n",
    "        return a\n",
    "    else:\n",
    "        return b\n",
    "\n",
    "\n",
    "str1 = \"gfg\"\n",
    "str2 = \"ggg\"\n",
    "betterString(str1,str2)"
   ]
  },
  {
   "cell_type": "markdown",
   "metadata": {},
   "source": [
    "## Combination sum"
   ]
  },
  {
   "cell_type": "code",
   "execution_count": 27,
   "metadata": {},
   "outputs": [
    {
     "name": "stdout",
     "output_type": "stream",
     "text": [
      "[]\n",
      "[2]\n",
      "[2, 2]\n",
      "[2, 2, 2]\n",
      "[2, 2, 2, 2]\n",
      "\n",
      "[2, 2, 2]\n",
      "[2, 2, 2, 3]\n",
      "[2, 2, 2]\n",
      "[2, 2, 2, 5]\n",
      "[2, 2, 2]\n",
      "[2, 2]\n",
      "[2, 2, 3]\n",
      "[2, 2, 3, 3]\n",
      "[2, 2, 3]\n",
      "[2, 2, 3, 5]\n",
      "[2, 2, 3]\n",
      "[2, 2]\n",
      "[2, 2, 5]\n",
      "[2, 2]\n",
      "[2]\n",
      "[2, 3]\n",
      "[2, 3, 3]\n",
      "\n",
      "[2, 3]\n",
      "[2, 3, 5]\n",
      "[2, 3]\n",
      "[2]\n",
      "[2, 5]\n",
      "[2, 5, 5]\n",
      "[2, 5]\n",
      "[2]\n",
      "[]\n",
      "[3]\n",
      "[3, 3]\n",
      "[3, 3, 3]\n",
      "[3, 3]\n",
      "[3, 3, 5]\n",
      "[3, 3]\n",
      "[3]\n",
      "[3, 5]\n",
      "\n",
      "[3]\n",
      "[]\n",
      "[5]\n",
      "[5, 5]\n",
      "[5]\n",
      "[]\n"
     ]
    },
    {
     "data": {
      "text/plain": [
       "[[2, 2, 2, 2], [2, 3, 3], [3, 5]]"
      ]
     },
     "execution_count": 27,
     "metadata": {},
     "output_type": "execute_result"
    }
   ],
   "source": [
    "def combinationSum(candidates, target):\n",
    "    curr , res = [] , []\n",
    "\n",
    "    def dfs(index):\n",
    "        print(curr)\n",
    "        total = sum(curr)\n",
    "        if total==target:\n",
    "            res.append(curr[:])\n",
    "            print()\n",
    "            return\n",
    "        \n",
    "        if total>target: return\n",
    "        if index>=len(candidates): return\n",
    "\n",
    "        curr.append(candidates[index])\n",
    "        dfs(index)\n",
    "        curr.pop()\n",
    "        dfs(index+1)\n",
    "\n",
    "    dfs(0)\n",
    "    return res\n",
    "\n",
    "candidates = [2,3,5]\n",
    "target = 8\n",
    "combinationSum(candidates, target)"
   ]
  },
  {
   "cell_type": "markdown",
   "metadata": {},
   "source": [
    "## Combination Sum II"
   ]
  },
  {
   "cell_type": "code",
   "execution_count": 15,
   "metadata": {},
   "outputs": [
    {
     "name": "stdout",
     "output_type": "stream",
     "text": [
      "[1, 1, 2, 2, 5, 6, 7, 10] \n",
      "\n",
      "\n",
      "[]\n",
      "[1]\n",
      "[1, 1]\n",
      "[1, 1, 2]\n",
      "[1, 1, 2, 2]\n",
      "[1, 1, 2, 2, 5]\n",
      "[1, 1, 2, 2, 6]\n",
      "[1, 1, 2, 2, 7]\n",
      "[1, 1, 2, 2, 10]\n",
      "[1, 1, 2, 5]\n",
      "[1, 1, 2, 6]\n",
      "[1, 1, 2, 7]\n",
      "[1, 1, 2, 10]\n",
      "[1, 1, 5]\n",
      "[1, 1, 5, 6]\n",
      "[1, 1, 5, 7]\n",
      "[1, 1, 5, 10]\n",
      "[1, 1, 6]\n",
      "curr:  [1, 1, 6]\n",
      "\n",
      "[1, 1, 7]\n",
      "[1, 1, 10]\n",
      "[1, 2]\n",
      "[1, 2, 2]\n",
      "[1, 2, 2, 5]\n",
      "[1, 2, 2, 6]\n",
      "[1, 2, 2, 7]\n",
      "[1, 2, 2, 10]\n",
      "[1, 2, 5]\n",
      "curr:  [1, 2, 5]\n",
      "\n",
      "[1, 2, 6]\n",
      "[1, 2, 7]\n",
      "[1, 2, 10]\n",
      "[1, 5]\n",
      "[1, 5, 6]\n",
      "[1, 5, 7]\n",
      "[1, 5, 10]\n",
      "[1, 6]\n",
      "[1, 6, 7]\n",
      "[1, 6, 10]\n",
      "[1, 7]\n",
      "curr:  [1, 7]\n",
      "\n",
      "[1, 10]\n",
      "[2]\n",
      "[2, 2]\n",
      "[2, 2, 5]\n",
      "[2, 2, 6]\n",
      "[2, 2, 7]\n",
      "[2, 2, 10]\n",
      "[2, 5]\n",
      "[2, 5, 6]\n",
      "[2, 5, 7]\n",
      "[2, 5, 10]\n",
      "[2, 6]\n",
      "curr:  [2, 6]\n",
      "\n",
      "[2, 7]\n",
      "[2, 10]\n",
      "[5]\n",
      "[5, 6]\n",
      "[5, 7]\n",
      "[5, 10]\n",
      "[6]\n",
      "[6, 7]\n",
      "[6, 10]\n",
      "[7]\n",
      "[7, 10]\n",
      "[10]\n"
     ]
    },
    {
     "data": {
      "text/plain": [
       "[[1, 1, 6], [1, 2, 5], [1, 7], [2, 6]]"
      ]
     },
     "execution_count": 15,
     "metadata": {},
     "output_type": "execute_result"
    }
   ],
   "source": [
    "def combinationSum2(candidates, target):\n",
    "    curr , res = [] , []\n",
    "    candidates.sort()\n",
    "\n",
    "    def dfs(index):\n",
    "        print(curr)\n",
    "        if sum(curr)==target:\n",
    "            print(\"curr: \",curr)\n",
    "\n",
    "            res.append(curr[:])\n",
    "            print()\n",
    "            return\n",
    "        \n",
    "        if sum(curr)>target: return\n",
    "        if index>=len(candidates): return\n",
    "\n",
    "        for i in range(index, len(candidates)):\n",
    "            if i>index and candidates[i]==candidates[i-1]:\n",
    "                continue\n",
    "            curr.append(candidates[i])\n",
    "            dfs(i+1)\n",
    "            curr.pop()\n",
    "\n",
    "    \n",
    "    dfs(0)\n",
    "    return res\n",
    "\n",
    "candidates = [10,1,2,2,7,6,1,5]\n",
    "target = 8\n",
    "print(sorted(candidates), \"\\n\\n\")\n",
    "combinationSum2(candidates, target)"
   ]
  },
  {
   "cell_type": "markdown",
   "metadata": {},
   "source": [
    "## Combination Sum III"
   ]
  },
  {
   "cell_type": "code",
   "execution_count": 14,
   "metadata": {},
   "outputs": [
    {
     "name": "stdout",
     "output_type": "stream",
     "text": [
      "[1, 2, 3, 4, 5, 6, 7, 8, 9] \n",
      "\n",
      "\n",
      "[]\n",
      "[1]\n",
      "[1, 2]\n",
      "[1, 2, 3]\n",
      "[1, 2, 3, 4]\n",
      "[1, 2, 3, 5]\n",
      "[1, 2, 3, 6]\n",
      "[1, 2, 3, 7]\n",
      "[1, 2, 3, 8]\n",
      "[1, 2, 3, 9]\n",
      "[1, 2, 4]\n",
      "[1, 2, 4, 5]\n",
      "[1, 2, 4, 6]\n",
      "[1, 2, 4, 7]\n",
      "[1, 2, 4, 8]\n",
      "[1, 2, 4, 9]\n",
      "[1, 2, 5]\n",
      "[1, 2, 5, 6]\n",
      "[1, 2, 5, 7]\n",
      "[1, 2, 5, 8]\n",
      "[1, 2, 5, 9]\n",
      "[1, 2, 6]\n",
      "curr:  [1, 2, 6]\n",
      "\n",
      "[1, 2, 7]\n",
      "[1, 2, 8]\n",
      "[1, 2, 9]\n",
      "[1, 3]\n",
      "[1, 3, 4]\n",
      "[1, 3, 4, 5]\n",
      "[1, 3, 4, 6]\n",
      "[1, 3, 4, 7]\n",
      "[1, 3, 4, 8]\n",
      "[1, 3, 4, 9]\n",
      "[1, 3, 5]\n",
      "curr:  [1, 3, 5]\n",
      "\n",
      "[1, 3, 6]\n",
      "[1, 3, 7]\n",
      "[1, 3, 8]\n",
      "[1, 3, 9]\n",
      "[1, 4]\n",
      "[1, 4, 5]\n",
      "[1, 4, 6]\n",
      "[1, 4, 7]\n",
      "[1, 4, 8]\n",
      "[1, 4, 9]\n",
      "[1, 5]\n",
      "[1, 5, 6]\n",
      "[1, 5, 7]\n",
      "[1, 5, 8]\n",
      "[1, 5, 9]\n",
      "[1, 6]\n",
      "[1, 6, 7]\n",
      "[1, 6, 8]\n",
      "[1, 6, 9]\n",
      "[1, 7]\n",
      "[1, 7, 8]\n",
      "[1, 7, 9]\n",
      "[1, 8]\n",
      "[1, 8, 9]\n",
      "[1, 9]\n",
      "[2]\n",
      "[2, 3]\n",
      "[2, 3, 4]\n",
      "curr:  [2, 3, 4]\n",
      "\n",
      "[2, 3, 5]\n",
      "[2, 3, 6]\n",
      "[2, 3, 7]\n",
      "[2, 3, 8]\n",
      "[2, 3, 9]\n",
      "[2, 4]\n",
      "[2, 4, 5]\n",
      "[2, 4, 6]\n",
      "[2, 4, 7]\n",
      "[2, 4, 8]\n",
      "[2, 4, 9]\n",
      "[2, 5]\n",
      "[2, 5, 6]\n",
      "[2, 5, 7]\n",
      "[2, 5, 8]\n",
      "[2, 5, 9]\n",
      "[2, 6]\n",
      "[2, 6, 7]\n",
      "[2, 6, 8]\n",
      "[2, 6, 9]\n",
      "[2, 7]\n",
      "[2, 7, 8]\n",
      "[2, 7, 9]\n",
      "[2, 8]\n",
      "[2, 9]\n",
      "[3]\n",
      "[3, 4]\n",
      "[3, 4, 5]\n",
      "[3, 4, 6]\n",
      "[3, 4, 7]\n",
      "[3, 4, 8]\n",
      "[3, 4, 9]\n",
      "[3, 5]\n",
      "[3, 5, 6]\n",
      "[3, 5, 7]\n",
      "[3, 5, 8]\n",
      "[3, 5, 9]\n",
      "[3, 6]\n",
      "[3, 6, 7]\n",
      "[3, 6, 8]\n",
      "[3, 6, 9]\n",
      "[3, 7]\n",
      "[3, 8]\n",
      "[3, 9]\n",
      "[4]\n",
      "[4, 5]\n",
      "[4, 5, 6]\n",
      "[4, 5, 7]\n",
      "[4, 5, 8]\n",
      "[4, 5, 9]\n",
      "[4, 6]\n",
      "[4, 7]\n",
      "[4, 8]\n",
      "[4, 9]\n",
      "[5]\n",
      "[5, 6]\n",
      "[5, 7]\n",
      "[5, 8]\n",
      "[5, 9]\n",
      "[6]\n",
      "[6, 7]\n",
      "[6, 8]\n",
      "[6, 9]\n",
      "[7]\n",
      "[7, 8]\n",
      "[7, 9]\n",
      "[8]\n",
      "[8, 9]\n",
      "[9]\n"
     ]
    },
    {
     "data": {
      "text/plain": [
       "[[1, 2, 6], [1, 3, 5], [2, 3, 4]]"
      ]
     },
     "execution_count": 14,
     "metadata": {},
     "output_type": "execute_result"
    }
   ],
   "source": [
    "def combinationSum3(candidates, target):\n",
    "    curr , res = [] , []\n",
    "    candidates.sort()\n",
    "\n",
    "    def dfs(index):\n",
    "        print(curr)\n",
    "        if sum(curr)==target and len(curr)==3:\n",
    "            print(\"curr: \",curr)\n",
    "\n",
    "            res.append(curr[:])\n",
    "            print()\n",
    "            return\n",
    "        \n",
    "        if sum(curr)>target: return\n",
    "        if index>=len(candidates): return\n",
    "\n",
    "        for i in range(index, len(candidates)):\n",
    "            if i>index and candidates[i]==candidates[i-1]:\n",
    "                continue\n",
    "            curr.append(candidates[i])\n",
    "            dfs(i+1)\n",
    "            curr.pop()\n",
    "\n",
    "    \n",
    "    dfs(0)\n",
    "    return res\n",
    "\n",
    "candidates = [i for i in range(1,10)]\n",
    "target = 9\n",
    "print(sorted(candidates), \"\\n\\n\")\n",
    "combinationSum3(candidates, target)"
   ]
  },
  {
   "cell_type": "markdown",
   "metadata": {},
   "source": [
    "## Subset Sums"
   ]
  },
  {
   "cell_type": "code",
   "execution_count": 18,
   "metadata": {},
   "outputs": [
    {
     "data": {
      "text/plain": [
       "[0, 2, 3, 5]"
      ]
     },
     "execution_count": 18,
     "metadata": {},
     "output_type": "execute_result"
    }
   ],
   "source": [
    "def subset_sum(arr):\n",
    "    res = []\n",
    "    n = len(arr)\n",
    "\n",
    "    def dfs(cur, index):\n",
    "        if index==n:\n",
    "            res.append(cur)\n",
    "            return\n",
    "        dfs(cur, index+1)\n",
    "        dfs(cur+[arr[index]], index+1)\n",
    "\n",
    "    dfs([],0)\n",
    "    return sorted([sum(i) for i in res])\n",
    "\n",
    "arr = [1,2,1]\n",
    "arr = [2,3]\n",
    "subset_sum(arr)"
   ]
  },
  {
   "cell_type": "markdown",
   "metadata": {},
   "source": [
    "## Subset Sum II"
   ]
  },
  {
   "cell_type": "code",
   "execution_count": 25,
   "metadata": {},
   "outputs": [
    {
     "data": {
      "text/plain": [
       "[[],\n",
       " [1],\n",
       " [1, 4],\n",
       " [1, 4, 4],\n",
       " [1, 4, 4, 4],\n",
       " [1, 4, 4, 4, 4],\n",
       " [4],\n",
       " [4, 4],\n",
       " [4, 4, 4],\n",
       " [4, 4, 4, 4]]"
      ]
     },
     "execution_count": 25,
     "metadata": {},
     "output_type": "execute_result"
    }
   ],
   "source": [
    "def subset_sum2(arr):\n",
    "    res = []\n",
    "    n = len(arr)\n",
    "    arr.sort()\n",
    "\n",
    "    def dfs(cur, index):\n",
    "        res.append(cur[:])\n",
    "\n",
    "        for i in range(index, len(arr)):\n",
    "            if i>index and arr[i]==arr[i-1]: continue\n",
    "\n",
    "            cur.append(arr[i])\n",
    "            dfs(cur, i+1)\n",
    "            cur.pop()\n",
    "\n",
    "    dfs([],0)\n",
    "    return res\n",
    "\n",
    "arr = [1,2,2]\n",
    "arr =[4,4,4,1,4]\n",
    "subset_sum2(arr)"
   ]
  },
  {
   "cell_type": "markdown",
   "metadata": {},
   "source": [
    "## Letter Combinations of a Phone Number"
   ]
  },
  {
   "cell_type": "code",
   "execution_count": 28,
   "metadata": {},
   "outputs": [
    {
     "data": {
      "text/plain": [
       "['ad', 'ae', 'af', 'bd', 'be', 'bf', 'cd', 'ce', 'cf']"
      ]
     },
     "execution_count": 28,
     "metadata": {},
     "output_type": "execute_result"
    }
   ],
   "source": [
    "def letterCombinations(digits):\n",
    "    if len(digits)==0: return []\n",
    "\n",
    "    res = []\n",
    "\n",
    "    letters = {\n",
    "            \"2\": \"abc\",\n",
    "            \"3\": \"def\",\n",
    "            \"4\": \"ghi\",\n",
    "            \"5\": \"jkl\",\n",
    "            \"6\": \"mno\",\n",
    "            \"7\": \"pqrs\",\n",
    "            \"8\": \"tuv\",\n",
    "            \"9\": \"wxyz\",\n",
    "        }\n",
    "    def getComb(index, curr):\n",
    "        if len(curr)==len(digits):\n",
    "            res.append(\"\".join(curr))\n",
    "            return\n",
    "        \n",
    "        possible_letters = letters[digits[index]]\n",
    "\n",
    "        for letter in possible_letters:\n",
    "            curr.append(letter)\n",
    "            getComb(index+1,curr)\n",
    "            curr.pop()\n",
    "    \n",
    "    getComb(0,[])\n",
    "\n",
    "    return res\n",
    "\n",
    "digits = \"23\"\n",
    "letterCombinations(digits)"
   ]
  }
 ],
 "metadata": {
  "kernelspec": {
   "display_name": "env1_38",
   "language": "python",
   "name": "python3"
  },
  "language_info": {
   "codemirror_mode": {
    "name": "ipython",
    "version": 3
   },
   "file_extension": ".py",
   "mimetype": "text/x-python",
   "name": "python",
   "nbconvert_exporter": "python",
   "pygments_lexer": "ipython3",
   "version": "3.8.0"
  }
 },
 "nbformat": 4,
 "nbformat_minor": 2
}
