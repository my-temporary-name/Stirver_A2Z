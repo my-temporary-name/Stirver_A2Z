{
 "cells": [
  {
   "cell_type": "markdown",
   "metadata": {},
   "source": [
    "## Subsequence of String"
   ]
  },
  {
   "cell_type": "code",
   "execution_count": 12,
   "metadata": {},
   "outputs": [
    {
     "data": {
      "text/plain": [
       "['', 'c', 'b', 'bc', 'a', 'ac', 'ab', 'abc']"
      ]
     },
     "execution_count": 12,
     "metadata": {},
     "output_type": "execute_result"
    }
   ],
   "source": [
    "def get_subsequences_recursive(s):\n",
    "\n",
    "    subsequences = []\n",
    "\n",
    "    def helper(index , current):\n",
    "        if index==len(s):\n",
    "            subsequences.append(current)\n",
    "            return\n",
    "        \n",
    "        helper(index+1, current)\n",
    "        helper(index+1, current+s[index])\n",
    "\n",
    "\n",
    "    helper(0,\"\")\n",
    "    return subsequences\n",
    "\n",
    "s = \"abc\"\n",
    "get_subsequences_recursive(s)"
   ]
  },
  {
   "cell_type": "markdown",
   "metadata": {},
   "source": [
    "## \tRecursive Implementation of atoi()"
   ]
  },
  {
   "cell_type": "code",
   "execution_count": 14,
   "metadata": {},
   "outputs": [
    {
     "name": "stdout",
     "output_type": "stream",
     "text": [
      "42\n",
      "-42\n",
      "1337\n",
      "0\n",
      "0\n"
     ]
    }
   ],
   "source": [
    "def myAtoi(s):\n",
    "    INT_MAX = 2**31 - 1\n",
    "    INT_MIN = -2**31\n",
    "\n",
    "    def helper(index , result, sign):\n",
    "        if index>=len(s) or not s[index].isdigit():\n",
    "            return result*sign\n",
    "        \n",
    "        num = int(s[index])\n",
    "        result = result*10 + num\n",
    "\n",
    "        if sign*result>INT_MAX: return INT_MAX\n",
    "        elif sign*result<INT_MIN: return INT_MIN\n",
    "\n",
    "        return helper(index+1, result, sign)\n",
    "\n",
    "    # 1.\n",
    "    index = 0\n",
    "    while index<=len(s) and s[index]==\" \":\n",
    "        index+=1\n",
    "    \n",
    "    # 2.\n",
    "    sign = 1\n",
    "    if index < len(s) and s[index] == \"-\":\n",
    "        sign = -1\n",
    "        index  += 1\n",
    "    elif index < len(s) and s[index] == \"+\":\n",
    "        index += 1\n",
    "    \n",
    "    return helper(index , 0, sign)\n",
    "\n",
    "# Example usage\n",
    "print(myAtoi(\"42\"))        # Output: 42\n",
    "print(myAtoi(\"   -42\"))    # Output: -42\n",
    "print(myAtoi(\"1337c0d3\"))  # Output: 1337\n",
    "print(myAtoi(\"0-1\"))       # Output: 0\n",
    "print(myAtoi(\"words and 987\"))  # Output: 0"
   ]
  },
  {
   "cell_type": "markdown",
   "metadata": {},
   "source": [
    "## Pow(x, n)"
   ]
  },
  {
   "cell_type": "code",
   "execution_count": 1,
   "metadata": {},
   "outputs": [
    {
     "data": {
      "text/plain": [
       "0.25"
      ]
     },
     "execution_count": 1,
     "metadata": {},
     "output_type": "execute_result"
    }
   ],
   "source": [
    "def myPow(x,n):\n",
    "    def func(base , exp):\n",
    "        if exp==0: return 1\n",
    "\n",
    "        if exp%2==0:\n",
    "            return func(base*base , exp//2)\n",
    "        else:\n",
    "            return base*func(base*base , (exp-1)//2)\n",
    "    \n",
    "    res = func(x,abs(n))\n",
    "    return res if n>=0 else 1/res\n",
    "\n",
    "x = 2.00\n",
    "n = 10.00\n",
    "\n",
    "x = 2.0\n",
    "n = -2\n",
    "myPow(x,n)"
   ]
  },
  {
   "cell_type": "markdown",
   "metadata": {},
   "source": [
    "## Count Good Numbers\n"
   ]
  },
  {
   "cell_type": "code",
   "execution_count": 6,
   "metadata": {},
   "outputs": [
    {
     "data": {
      "text/plain": [
       "400"
      ]
     },
     "execution_count": 6,
     "metadata": {},
     "output_type": "execute_result"
    }
   ],
   "source": [
    "def countGoodNumbers(n):\n",
    "    mod = 10**9 + 7\n",
    "    def power(base , exp):\n",
    "        result = 1\n",
    "\n",
    "        while exp>0:\n",
    "            if exp%2!=0:\n",
    "                result = (result*base)% mod\n",
    "                exp -= 1\n",
    "            else:\n",
    "                base = (base*base) % mod\n",
    "                exp = exp//2\n",
    "        return result\n",
    "    return (power(5, (n+1)//2) * power(4, (n//2))) % mod\n",
    "\n",
    "\n",
    "n = 4\n",
    "countGoodNumbers(n)"
   ]
  },
  {
   "cell_type": "markdown",
   "metadata": {},
   "source": [
    "## Sort a stack"
   ]
  },
  {
   "cell_type": "code",
   "execution_count": 8,
   "metadata": {},
   "outputs": [
    {
     "data": {
      "text/plain": [
       "[2, 3, 11, 32, 41]"
      ]
     },
     "execution_count": 8,
     "metadata": {},
     "output_type": "execute_result"
    }
   ],
   "source": [
    "def stack_insert(s, element):\n",
    "    \n",
    "    if len(s)==0 or s[-1]<element:\n",
    "        s.append(element)\n",
    "    else:\n",
    "        top = s.pop()\n",
    "        stack_insert(s, element)\n",
    "        s.append(top)\n",
    "\n",
    "def sorted_stack(s):\n",
    "    if len(s)>1:\n",
    "        top = s.pop()\n",
    "        sorted_stack(s)\n",
    "        stack_insert(s,top)\n",
    "    \n",
    "\n",
    "s = [11, 2, 32, 3, 41]\n",
    "sorted_stack(s)\n",
    "s"
   ]
  },
  {
   "cell_type": "markdown",
   "metadata": {},
   "source": [
    "## Reverse a stack using recursion\n"
   ]
  },
  {
   "cell_type": "code",
   "execution_count": 9,
   "metadata": {},
   "outputs": [
    {
     "data": {
      "text/plain": [
       "[41, 3, 32, 2, 11]"
      ]
     },
     "execution_count": 9,
     "metadata": {},
     "output_type": "execute_result"
    }
   ],
   "source": [
    "def insert_bottom(s, element):\n",
    "    if not s:\n",
    "        s.append(element)\n",
    "    else:\n",
    "        top = s.pop()\n",
    "        insert_bottom(s,element)\n",
    "        s.append(top)\n",
    "\n",
    "def reverse_stack(s):\n",
    "    if s:\n",
    "        top = s.pop()\n",
    "        reverse_stack(s)\n",
    "        insert_bottom(s, top)\n",
    "\n",
    "\n",
    "s = [11, 2, 32, 3, 41]\n",
    "reverse_stack(s)\n",
    "s"
   ]
  },
  {
   "cell_type": "code",
   "execution_count": null,
   "metadata": {},
   "outputs": [],
   "source": []
  }
 ],
 "metadata": {
  "kernelspec": {
   "display_name": "env1_38",
   "language": "python",
   "name": "python3"
  },
  "language_info": {
   "codemirror_mode": {
    "name": "ipython",
    "version": 3
   },
   "file_extension": ".py",
   "mimetype": "text/x-python",
   "name": "python",
   "nbconvert_exporter": "python",
   "pygments_lexer": "ipython3",
   "version": "3.8.0"
  }
 },
 "nbformat": 4,
 "nbformat_minor": 2
}
