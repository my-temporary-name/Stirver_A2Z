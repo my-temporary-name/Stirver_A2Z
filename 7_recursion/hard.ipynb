{
 "cells": [
  {
   "cell_type": "markdown",
   "metadata": {},
   "source": [
    "## Palindrome Partitioning"
   ]
  },
  {
   "cell_type": "code",
   "execution_count": 4,
   "metadata": {},
   "outputs": [
    {
     "data": {
      "text/plain": [
       "[['n', 'i', 't', 'i', 'n'], ['n', 'iti', 'n'], ['nitin']]"
      ]
     },
     "execution_count": 4,
     "metadata": {},
     "output_type": "execute_result"
    }
   ],
   "source": [
    "def partition(s):\n",
    "    res , curr = [] , []\n",
    "\n",
    "    def section(idx):\n",
    "        if idx == len(s):\n",
    "            res.append(curr[:])\n",
    "            return\n",
    "        \n",
    "        for i in range(idx, len(s)):\n",
    "            if isPalindrome(s, idx , i):\n",
    "                curr.append(s[idx:i+1])\n",
    "                section(i+1)\n",
    "                curr.pop()\n",
    "    \n",
    "    def isPalindrome(s , start, end):\n",
    "        while start<=end:\n",
    "            if s[start]!=s[end]: return False\n",
    "            start+=1\n",
    "            end-=1\n",
    "        return True\n",
    "    \n",
    "    section(0)\n",
    "    return res\n",
    "\n",
    "s = \"aab\"\n",
    "s = \"nitin\"\n",
    "partition(s)"
   ]
  },
  {
   "cell_type": "markdown",
   "metadata": {},
   "source": [
    "## Word Search"
   ]
  },
  {
   "cell_type": "code",
   "execution_count": 8,
   "metadata": {},
   "outputs": [
    {
     "data": {
      "text/plain": [
       "True"
      ]
     },
     "execution_count": 8,
     "metadata": {},
     "output_type": "execute_result"
    }
   ],
   "source": [
    "def exist(board, word):\n",
    "    row = len(board)\n",
    "    col = len(board[0])\n",
    "\n",
    "    def dfs(r,c,index):\n",
    "        if index==len(word): return True\n",
    "\n",
    "        if r>=row or r<0 or c>=col or c<0 or board[r][c]!=word[index]:\n",
    "            return False\n",
    "        \n",
    "        temp = board[r][c]\n",
    "        board[r][c] = \"#\"\n",
    "\n",
    "        found = dfs(r+1, c , index+1) or dfs(r-1, c , index+1) or dfs(r, c+1, index+1) or dfs(r,c-1, index+1)\n",
    "        board[r][c]=temp\n",
    "        return found\n",
    "\n",
    "    for i in range(row):\n",
    "        for j in range(col):\n",
    "            if board[i][j]==word[0] and dfs(i,j,0):\n",
    "                return True\n",
    "\n",
    "    return False\n",
    "\n",
    "board = [[\"A\",\"B\",\"C\",\"E\"],[\"S\",\"F\",\"C\",\"S\"],[\"A\",\"D\",\"E\",\"E\"]]\n",
    "word = \"ABCCED\"\n",
    "\n",
    "exist(board, word)"
   ]
  },
  {
   "cell_type": "markdown",
   "metadata": {},
   "source": [
    "## N Queen"
   ]
  },
  {
   "cell_type": "code",
   "execution_count": 16,
   "metadata": {},
   "outputs": [
    {
     "name": "stdout",
     "output_type": "stream",
     "text": [
      ".Q..\n",
      "...Q\n",
      "Q...\n",
      "..Q.\n",
      "\n",
      "..Q.\n",
      "Q...\n",
      "...Q\n",
      ".Q..\n",
      "\n"
     ]
    }
   ],
   "source": [
    "def solveNQueens(n):\n",
    "    board = [[\".\"]*n for _ in range(n)]\n",
    "    result = []\n",
    "\n",
    "    def is_safe(row,col):\n",
    "\n",
    "        for i in range(row):\n",
    "            if board[i][col]==\"Q\": return False\n",
    "        \n",
    "        i , j = row , col\n",
    "        while i>=0 and j>=0: # top left diagonal\n",
    "            if board[i][j]==\"Q\":\n",
    "                return False\n",
    "            i-=1\n",
    "            j-=1\n",
    "        \n",
    "        i , j = row , col\n",
    "        while i>=0 and j<n: # top right diagonal\n",
    "            if board[i][j]==\"Q\":\n",
    "                return False\n",
    "            i-=1\n",
    "            j+=1\n",
    "        return True\n",
    "\n",
    "\n",
    "    def backtrack(row):\n",
    "        if row==n:\n",
    "            solution  = [\"\".join(board[i]) for i in range(n)]\n",
    "            result.append(solution)\n",
    "            return\n",
    "\n",
    "        for col in range(n):\n",
    "            if is_safe(row,col):\n",
    "                board[row][col]=\"Q\"\n",
    "                backtrack(row+1)\n",
    "                board[row][col]=\".\"\n",
    "\n",
    "    backtrack(0)\n",
    "    return result\n",
    "\n",
    "x = solveNQueens(4)\n",
    "for i in x:\n",
    "    for j in i:\n",
    "        print(j)\n",
    "    print()"
   ]
  },
  {
   "cell_type": "code",
   "execution_count": 21,
   "metadata": {},
   "outputs": [
    {
     "name": "stdout",
     "output_type": "stream",
     "text": [
      ".Q..\n",
      "...Q\n",
      "Q...\n",
      "..Q.\n",
      "\n",
      "..Q.\n",
      "Q...\n",
      "...Q\n",
      ".Q..\n",
      "\n"
     ]
    }
   ],
   "source": [
    "def solveNQueens2(n):\n",
    "    board = [[\".\"]*n for _ in range(n)]\n",
    "    result = []\n",
    "\n",
    "    def is_safe(row, col):\n",
    "        for i in range(row):\n",
    "            if board[i][col]==\"Q\": return False\n",
    "\n",
    "        i , j = row , col\n",
    "        while i>=0 and j>=0:\n",
    "            if board[i][j]==\"Q\":\n",
    "                return False\n",
    "            i-=1\n",
    "            j-=1\n",
    "        \n",
    "        i , j = row , col\n",
    "        while i>=0 and j<n:\n",
    "            if board[i][j]==\"Q\":\n",
    "                return False\n",
    "            i-=1\n",
    "            j+=1\n",
    "        \n",
    "        return True\n",
    "        \n",
    "\n",
    "    def backtracking(row):\n",
    "        if row==n:\n",
    "            soln = [\"\".join(board[i]) for i in range(n) ]\n",
    "            result.append(soln)\n",
    "            return\n",
    "        \n",
    "        for col in range(n):\n",
    "            if is_safe(row,col):\n",
    "                board[row][col]=\"Q\"\n",
    "                backtracking(row+1)\n",
    "                board[row][col]=\".\"\n",
    "\n",
    "\n",
    "\n",
    "    backtracking(0)\n",
    "    return result\n",
    "\n",
    "\n",
    "x = solveNQueens2(4)\n",
    "\n",
    "for i in x:\n",
    "    for j in i:\n",
    "        print(j)\n",
    "    print()"
   ]
  },
  {
   "cell_type": "markdown",
   "metadata": {},
   "source": [
    "## Rat in a maze"
   ]
  },
  {
   "cell_type": "code",
   "execution_count": 23,
   "metadata": {},
   "outputs": [
    {
     "data": {
      "text/plain": [
       "['DDRDRR', 'DRDDRR']"
      ]
     },
     "execution_count": 23,
     "metadata": {},
     "output_type": "execute_result"
    }
   ],
   "source": [
    "def findPathHelper(maze):\n",
    "    n = len(maze)\n",
    "\n",
    "    if maze[0][0]==0 or maze[n-1][n-1] == 0: return []\n",
    "\n",
    "    def is_safe(x,y):\n",
    "        if x>=0 and x<n and y>=0 and y<n and maze[x][y]==1 and not visited[x][y]:\n",
    "            return True\n",
    "        return False\n",
    "\n",
    "\n",
    "    def backtrack(x , y , path):\n",
    "        if x==n-1 and y==n-1:\n",
    "            paths.append(path)\n",
    "            return\n",
    "        \n",
    "        visited[x][y] = True\n",
    "\n",
    "        # Down\n",
    "        if is_safe(x+1,y):\n",
    "            backtrack(x+1, y, path+\"D\")\n",
    "        \n",
    "        # UP\n",
    "        if is_safe(x-1,y):\n",
    "            backtrack(x-1, y, path+\"U\")\n",
    "        \n",
    "        # Left\n",
    "        if is_safe(x,y-1):\n",
    "            backtrack(x, y-1, path+\"L\")\n",
    "        \n",
    "        if is_safe(x , y+1):\n",
    "            backtrack(x, y+1, path+\"R\")\n",
    "        \n",
    "        visited[x][y]=False\n",
    "\n",
    "\n",
    "\n",
    "    visited = [[False]*n for _ in range(n)]\n",
    "    paths = []\n",
    "    backtrack(0,0,\"\")\n",
    "\n",
    "    return sorted(paths) if paths else [\"-1\"]\n",
    "\n",
    "maze = [[1, 0, 0, 0], [1, 1, 0, 1], [1, 1, 0, 0], [0, 1, 1, 1]]\n",
    "findPathHelper(maze)"
   ]
  },
  {
   "cell_type": "markdown",
   "metadata": {},
   "source": [
    "## Word Break"
   ]
  },
  {
   "cell_type": "code",
   "execution_count": 35,
   "metadata": {},
   "outputs": [
    {
     "name": "stdout",
     "output_type": "stream",
     "text": [
      "[True, False, False, False, True, False, False, False, True]\n"
     ]
    },
    {
     "data": {
      "text/plain": [
       "True"
      ]
     },
     "execution_count": 35,
     "metadata": {},
     "output_type": "execute_result"
    }
   ],
   "source": [
    "def wordBreak(s, wordDict):\n",
    "    word_dict = set(wordDict)\n",
    "    n = len(s)\n",
    "    dp = [False]*(n+1)\n",
    "    dp[0]=True\n",
    "\n",
    "    for i in range(1,n+1):\n",
    "        for j in range(i):\n",
    "            if dp[j] and s[j:i] in word_dict:\n",
    "                dp[i]=True\n",
    "                break\n",
    "    print(dp)\n",
    "    return dp[n]\n",
    "\n",
    "s = \"leetcode\"\n",
    "wordDict = [\"leet\",\"code\"]\n",
    "wordBreak(s, wordDict)"
   ]
  },
  {
   "cell_type": "markdown",
   "metadata": {},
   "source": [
    "## Sudoku Solver"
   ]
  },
  {
   "cell_type": "code",
   "execution_count": 2,
   "metadata": {},
   "outputs": [
    {
     "data": {
      "text/plain": [
       "[['5', '3', '1', '6', '7', '8', '2', '9', '4'],\n",
       " ['6', '2', '4', '1', '9', '5', '3', '8', '7'],\n",
       " ['7', '9', '8', '2', '3', '4', '1', '6', '5'],\n",
       " ['8', '1', '2', '4', '6', '5', '7', '9', '3'],\n",
       " ['4', '6', '9', '8', '7', '3', '2', '5', '1'],\n",
       " ['7', '3', '5', '1', '2', '9', '4', '8', '6'],\n",
       " ['1', '6', '9', '3', '5', '7', '2', '8', '4'],\n",
       " ['2', '7', '8', '4', '1', '9', '3', '6', '5'],\n",
       " ['3', '4', '5', '2', '8', '6', '1', '7', '9']]"
      ]
     },
     "execution_count": 2,
     "metadata": {},
     "output_type": "execute_result"
    }
   ],
   "source": [
    "def is_Valid(board, c , row , col):\n",
    "    # check row\n",
    "    for i in range(9):\n",
    "        if board[row][i]==c:\n",
    "            return False\n",
    "    \n",
    "    # check col\n",
    "    for j in range(9):\n",
    "        if board[i][col]==c:\n",
    "            return False\n",
    "        \n",
    "    # Check 3x3 sub square\n",
    "    start_row = 3* (row//3)\n",
    "    start_col = 3*(col//3)\n",
    "\n",
    "    for i in range(start_row, start_row+3):\n",
    "        for j in range(start_col, start_col+3):\n",
    "            if board[i][j]==c:\n",
    "                return False\n",
    "    return True\n",
    "\n",
    "\n",
    "def solveSudoku(board):\n",
    "    for i in range(len(board)):\n",
    "        for j in range(len(board[0])):\n",
    "            if board[i][j]==\".\":\n",
    "                for c in \"123456789\":\n",
    "                    if is_Valid(board, c , i , j):\n",
    "                        board[i][j]=c\n",
    "                        if solveSudoku(board):\n",
    "                            return True\n",
    "                        board[i][j]=\".\"\n",
    "                return False\n",
    "    return True\n",
    "\n",
    "\n",
    "board = [[\"5\",\"3\",\".\",\".\",\"7\",\".\",\".\",\".\",\".\"],[\"6\",\".\",\".\",\"1\",\"9\",\"5\",\".\",\".\",\".\"],[\".\",\"9\",\"8\",\".\",\".\",\".\",\".\",\"6\",\".\"],[\"8\",\".\",\".\",\".\",\"6\",\".\",\".\",\".\",\"3\"],[\"4\",\".\",\".\",\"8\",\".\",\"3\",\".\",\".\",\"1\"],[\"7\",\".\",\".\",\".\",\"2\",\".\",\".\",\".\",\"6\"],[\".\",\"6\",\".\",\".\",\".\",\".\",\"2\",\"8\",\".\"],[\".\",\".\",\".\",\"4\",\"1\",\"9\",\".\",\".\",\"5\"],[\".\",\".\",\".\",\".\",\"8\",\".\",\".\",\"7\",\"9\"]]\n",
    "solveSudoku(board)\n",
    "board"
   ]
  },
  {
   "cell_type": "markdown",
   "metadata": {},
   "source": [
    "## Expression Add Operators"
   ]
  },
  {
   "cell_type": "code",
   "execution_count": 5,
   "metadata": {},
   "outputs": [
    {
     "data": {
      "text/plain": [
       "['1+2+3', '1*2*3']"
      ]
     },
     "execution_count": 5,
     "metadata": {},
     "output_type": "execute_result"
    }
   ],
   "source": [
    "def addOperators(num, target):\n",
    "\n",
    "    result = []\n",
    "\n",
    "    def backtracking(index , path , value , last):\n",
    "        if index == len(num):\n",
    "            if value==target:\n",
    "                result.append(path)\n",
    "            return\n",
    "        \n",
    "\n",
    "        for i in range(index , len(num)):\n",
    "            if i>index and num[index]==\"0\":\n",
    "                break\n",
    "\n",
    "            current = int(num[index:i+1])\n",
    "\n",
    "            if index==0:\n",
    "                backtracking(i+1, path+str(current), current, current)\n",
    "    \n",
    "            else:\n",
    "                backtracking(i+1 , path + \"+\" + str(current), value+current, current)\n",
    "                backtracking(i+1 , path+ \"-\" + str(current), value-current, -current)\n",
    "                backtracking(i+1, path + \"*\" + str(current), value-last + last*current, last*current)\n",
    "\n",
    "    backtracking(0,\"\",0,0)\n",
    "    return result\n",
    "\n",
    "num = \"123\"\n",
    "target = 6\n",
    "\n",
    "addOperators(num, target)\n"
   ]
  },
  {
   "cell_type": "markdown",
   "metadata": {},
   "source": [
    "## M-Coloring Problem\n"
   ]
  },
  {
   "cell_type": "code",
   "execution_count": 8,
   "metadata": {},
   "outputs": [
    {
     "data": {
      "text/plain": [
       "True"
      ]
     },
     "execution_count": 8,
     "metadata": {},
     "output_type": "execute_result"
    }
   ],
   "source": [
    "def graphColoring(edges, m , n):\n",
    "    graph = [[] for _ in range(n)]\n",
    "    for u ,v in edges:\n",
    "        graph[u].append(v)\n",
    "        graph[v].append(u)\n",
    "    \n",
    "    colors = [-1]*n\n",
    "\n",
    "    def isSafe(node, color):\n",
    "        for next in graph[node]:\n",
    "            if colors[next]==color:\n",
    "                return False\n",
    "        return True\n",
    "\n",
    "    def backtrack(node):\n",
    "        if node==n: return True\n",
    "\n",
    "        for color in range(1,m+1):\n",
    "            if isSafe(node ,color):\n",
    "                colors[node] = color\n",
    "                if backtrack(node+1):\n",
    "                    return True\n",
    "                color[node]= -1\n",
    "        return False\n",
    "    \n",
    "    return backtrack(0)\n",
    "\n",
    "\n",
    "\n",
    "n = 4\n",
    "edges = [[0,1], [1,2], [2,3], [3,0], [0,2]]\n",
    "m = 3\n",
    "\n",
    "graphColoring(edges, m , n)"
   ]
  },
  {
   "cell_type": "code",
   "execution_count": null,
   "metadata": {},
   "outputs": [],
   "source": []
  }
 ],
 "metadata": {
  "kernelspec": {
   "display_name": "env1_38",
   "language": "python",
   "name": "python3"
  },
  "language_info": {
   "codemirror_mode": {
    "name": "ipython",
    "version": 3
   },
   "file_extension": ".py",
   "mimetype": "text/x-python",
   "name": "python",
   "nbconvert_exporter": "python",
   "pygments_lexer": "ipython3",
   "version": "3.8.0"
  }
 },
 "nbformat": 4,
 "nbformat_minor": 2
}
