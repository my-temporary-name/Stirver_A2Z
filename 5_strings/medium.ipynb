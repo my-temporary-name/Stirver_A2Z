{
 "cells": [
  {
   "cell_type": "markdown",
   "metadata": {},
   "source": [
    "## Sort Characters by frequency"
   ]
  },
  {
   "cell_type": "code",
   "execution_count": 27,
   "metadata": {},
   "outputs": [
    {
     "data": {
      "text/plain": [
       "'bbAa'"
      ]
     },
     "execution_count": 27,
     "metadata": {},
     "output_type": "execute_result"
    }
   ],
   "source": [
    "from collections import Counter\n",
    "def frequencySort(s):\n",
    "    freq = Counter(s)\n",
    "\n",
    "    sorted_char = sorted(freq.keys(), key = lambda x:freq[x], reverse=True)\n",
    "    result = \"\".join(char*freq[char] for char in sorted_char)\n",
    "    return result\n",
    "\n",
    "\n",
    "# s = \"tree\"\n",
    "s = \"Aabb\"\n",
    "frequencySort(s)"
   ]
  },
  {
   "cell_type": "markdown",
   "metadata": {},
   "source": [
    "## Maximum Nesting Depth of Paranthesis"
   ]
  },
  {
   "cell_type": "code",
   "execution_count": 28,
   "metadata": {},
   "outputs": [
    {
     "data": {
      "text/plain": [
       "3"
      ]
     },
     "execution_count": 28,
     "metadata": {},
     "output_type": "execute_result"
    }
   ],
   "source": [
    "def maxDepth(s):\n",
    "    left = 0\n",
    "    mx = -1\n",
    "    for ch in s:\n",
    "        if ch==\"(\":\n",
    "            left+=1\n",
    "            mx = max(left,mx)\n",
    "        elif ch==\")\":\n",
    "            left-=1\n",
    "    return mx\n",
    "\n",
    "s = \"(1+(2*3)+((8)/4))+1\"\n",
    "maxDepth(s)\n"
   ]
  },
  {
   "cell_type": "markdown",
   "metadata": {},
   "source": [
    "## Roman Number to Integer and vice versa"
   ]
  },
  {
   "cell_type": "code",
   "execution_count": 30,
   "metadata": {},
   "outputs": [
    {
     "data": {
      "text/plain": [
       "1994"
      ]
     },
     "execution_count": 30,
     "metadata": {},
     "output_type": "execute_result"
    }
   ],
   "source": [
    "def romanToInt(s):\n",
    "    mpp = {\"I\":1, \"V\":5 , \"X\":10, \"L\":50, \"C\":100, \"D\":500, \"M\":1000}\n",
    "    int_val = 0\n",
    "\n",
    "    for i in range(len(s)):\n",
    "        if i>0 and mpp[s[i]] > mpp[s[i-1]]:\n",
    "            int_val += mpp[s[i]] - 2*mpp[s[i-1]]\n",
    "        else:\n",
    "            int_val += mpp[s[i]]\n",
    "    return int_val\n",
    "    \n",
    "s = \"LVIII\"\n",
    "s = \"MCMXCIV\"\n",
    "romanToInt(s)"
   ]
  },
  {
   "cell_type": "markdown",
   "metadata": {},
   "source": [
    "## Implement Atoi"
   ]
  },
  {
   "cell_type": "code",
   "execution_count": 49,
   "metadata": {},
   "outputs": [
    {
     "data": {
      "text/plain": [
       "0"
      ]
     },
     "execution_count": 49,
     "metadata": {},
     "output_type": "execute_result"
    }
   ],
   "source": [
    "def myAtoi(s):\n",
    "    digits = [\"0\",\"1\",\"2\",\"3\",\"4\",\"5\",\"6\",\"7\", \"8\", \"9\"]\n",
    "    ns = s\n",
    "        \n",
    "    ns = \"\"\n",
    "    if len(s)==0: return 0\n",
    "\n",
    "    if s[0]==\"+\" or s[0]==\"-\" or s[0] in digits:\n",
    "        ns+=s[0]\n",
    "    else:\n",
    "        return 0\n",
    "    \n",
    "    for i in range(1,len(s)):\n",
    "        if s[i] in digits:\n",
    "            ns+=s[i]\n",
    "        else:\n",
    "            break\n",
    "\n",
    "    if ns in [\"+\",\"-\"]: return 0\n",
    "    x = int(ns)\n",
    "\n",
    "    \n",
    "    \n",
    "    if x>(2**31)-1:\n",
    "        return (2**31)-1\n",
    "    elif x< -(2**31):\n",
    "        return (2**31) * -1\n",
    "    else:\n",
    "        return x\n",
    "\n",
    "\n",
    "s = \" -042\"\n",
    "# s= \"42\"\n",
    "# s = \"1337c0d3\"\n",
    "# s = \"0-1\"\n",
    "# s = \"words and 987\"\n",
    "s = \"+-12\"\n",
    "myAtoi(s)"
   ]
  },
  {
   "cell_type": "markdown",
   "metadata": {},
   "source": [
    "## Count number of substrings"
   ]
  },
  {
   "cell_type": "code",
   "execution_count": 62,
   "metadata": {},
   "outputs": [
    {
     "data": {
      "text/plain": [
       "3"
      ]
     },
     "execution_count": 62,
     "metadata": {},
     "output_type": "execute_result"
    }
   ],
   "source": [
    "def count_sub(s,k):\n",
    "    left = 0\n",
    "    right = 0\n",
    "    \n",
    "    char = [0]*26\n",
    "    \n",
    "    cnt = 0\n",
    "    substrings = 0\n",
    "\n",
    "    while right<len(s):\n",
    "        char_idx = ord(s[right]) - ord('a')\n",
    "\n",
    "        char[char_idx] += 1\n",
    "        if char[char_idx]==1:\n",
    "            cnt+=1\n",
    "        \n",
    "        while cnt>k:\n",
    "            char[ord(s[left])-ord('a')] -= 1\n",
    "\n",
    "            if char[ord(s[left])-ord('a')]==0:\n",
    "                cnt -= 1\n",
    "            left+=1\n",
    "\n",
    "        substrings += right-left+1\n",
    "        right+=1\n",
    "        \n",
    "    return substrings\n",
    "\n",
    "\n",
    "\n",
    "def substrCount(s,k):\n",
    "    catk = count_sub(s, k)\n",
    "    catkmo = count_sub(s,k-1)\n",
    "\n",
    "    return catk - catkmo\n",
    "\n",
    "            \n",
    "\n",
    "\n",
    "S = \"abaaca\"\n",
    "K = 1\n",
    "\n",
    "S = \"aba\"\n",
    "K=2\n",
    "substrCount(S,K)"
   ]
  },
  {
   "cell_type": "markdown",
   "metadata": {},
   "source": [
    "## Longest Palindromic Substring\n"
   ]
  },
  {
   "cell_type": "code",
   "execution_count": 68,
   "metadata": {},
   "outputs": [
    {
     "data": {
      "text/plain": [
       "'bab'"
      ]
     },
     "execution_count": 68,
     "metadata": {},
     "output_type": "execute_result"
    }
   ],
   "source": [
    "def longestPalindrome(s):\n",
    "    if len(s)<=1: return 1\n",
    "\n",
    "\n",
    "    max_str = s[0]\n",
    "\n",
    "    def expand_from_centre(left , right):\n",
    "        while left>=0 and right<len(s) and s[left]==s[right]:\n",
    "            left -= 1\n",
    "            right += 1\n",
    "        # print(s[left+1:right])\n",
    "        return s[left+1:right]\n",
    "\n",
    "    for i in range(len(s)-1):\n",
    "        odd = expand_from_centre(i,i)\n",
    "        even = expand_from_centre(i,i+1)\n",
    "\n",
    "        if len(odd) > len(max_str): max_str = odd\n",
    "        if len(even) > len(max_str): max_str = even\n",
    "    \n",
    "    return max_str\n",
    "\n",
    "s = \"babad\"\n",
    "# s = \"cbbd\"\n",
    "longestPalindrome(s)"
   ]
  },
  {
   "cell_type": "markdown",
   "metadata": {},
   "source": [
    "## Sum of Beauty of All Substrings\n"
   ]
  },
  {
   "cell_type": "code",
   "execution_count": 75,
   "metadata": {},
   "outputs": [
    {
     "data": {
      "text/plain": [
       "5"
      ]
     },
     "execution_count": 75,
     "metadata": {},
     "output_type": "execute_result"
    }
   ],
   "source": [
    "def beautySum(s):\n",
    "    from collections import Counter\n",
    "    sm = 0\n",
    "    for i in range(len(s)):\n",
    "        freq = Counter()\n",
    "\n",
    "        for j in range(i, len(s)):\n",
    "            freq[s[j]] += 1\n",
    "\n",
    "            if len(freq)>1:\n",
    "                mx = max(freq.values())\n",
    "                mn = min(freq.values())\n",
    "                sm += mx-mn\n",
    "    return sm\n",
    "       \n",
    "\n",
    "s = \"aabcb\"\n",
    "beautySum(s)"
   ]
  },
  {
   "cell_type": "code",
   "execution_count": null,
   "metadata": {},
   "outputs": [],
   "source": []
  }
 ],
 "metadata": {
  "kernelspec": {
   "display_name": "env1_38",
   "language": "python",
   "name": "python3"
  },
  "language_info": {
   "codemirror_mode": {
    "name": "ipython",
    "version": 3
   },
   "file_extension": ".py",
   "mimetype": "text/x-python",
   "name": "python",
   "nbconvert_exporter": "python",
   "pygments_lexer": "ipython3",
   "version": "3.8.0"
  }
 },
 "nbformat": 4,
 "nbformat_minor": 2
}
