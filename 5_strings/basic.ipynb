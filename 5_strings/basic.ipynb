{
 "cells": [
  {
   "cell_type": "markdown",
   "metadata": {},
   "source": [
    "## Remove outermost Paranthesis"
   ]
  },
  {
   "cell_type": "code",
   "execution_count": 4,
   "metadata": {},
   "outputs": [
    {
     "data": {
      "text/plain": [
       "'()()()()(())'"
      ]
     },
     "execution_count": 4,
     "metadata": {},
     "output_type": "execute_result"
    }
   ],
   "source": [
    "def removeOuterParentheses(s):\n",
    "    l = r = 0\n",
    "    s2=  \"\"\n",
    "    for ch in s:\n",
    "        if l==0 and ch==\"(\":\n",
    "            l+=1\n",
    "        elif l!=0 and ch==\"(\":\n",
    "            l+=1\n",
    "            s2 += ch\n",
    "        else:\n",
    "            l-=1\n",
    "            if l!=0:\n",
    "                s2+=ch\n",
    "    return s2\n",
    "\n",
    "\n",
    "s = \"(()())(())\"\n",
    "s = \"(()())(())(()(()))\"\n",
    "removeOuterParentheses(s)"
   ]
  },
  {
   "cell_type": "markdown",
   "metadata": {},
   "source": [
    "## Reverse Words in a String\n",
    "\n",
    "\n"
   ]
  },
  {
   "cell_type": "code",
   "execution_count": 8,
   "metadata": {},
   "outputs": [
    {
     "data": {
      "text/plain": [
       "'blue is sky the'"
      ]
     },
     "execution_count": 8,
     "metadata": {},
     "output_type": "execute_result"
    }
   ],
   "source": [
    "def reverseWords(s):\n",
    "    return \" \".join(s.split()[::-1])\n",
    "\n",
    "s = \"the sky is blue\"\n",
    "reverseWords(s)"
   ]
  },
  {
   "cell_type": "markdown",
   "metadata": {},
   "source": [
    "## Largest odd number in a string"
   ]
  },
  {
   "cell_type": "code",
   "execution_count": 12,
   "metadata": {},
   "outputs": [
    {
     "data": {
      "text/plain": [
       "'3547'"
      ]
     },
     "execution_count": 12,
     "metadata": {},
     "output_type": "execute_result"
    }
   ],
   "source": [
    "def largestOddNumber(s):\n",
    "    res = \"\"\n",
    "    for i in range(len(s)):\n",
    "        if int(s[i])%2!=0:\n",
    "            res = s[:i+1]\n",
    "    return res\n",
    "\n",
    "s = \"35472\"\n",
    "# s = \"52\"\n",
    "\n",
    "largestOddNumber(s)"
   ]
  },
  {
   "cell_type": "markdown",
   "metadata": {},
   "source": [
    "## Longest Common Prefix"
   ]
  },
  {
   "cell_type": "code",
   "execution_count": 18,
   "metadata": {},
   "outputs": [
    {
     "data": {
      "text/plain": [
       "'fl'"
      ]
     },
     "execution_count": 18,
     "metadata": {},
     "output_type": "execute_result"
    }
   ],
   "source": [
    "def longestCommonPrefix(strs):\n",
    "    if not strs: return\n",
    "\n",
    "    prefix = strs[0]\n",
    "\n",
    "    for s in strs[1:]:\n",
    "        while s[:len(prefix)]!=prefix and prefix:\n",
    "            prefix = prefix[:-1]\n",
    "        if not prefix:\n",
    "            break\n",
    "    return prefix\n",
    "\n",
    "\n",
    "strs = [\"flower\",\"flow\",\"flight\"]\n",
    "longestCommonPrefix(strs)"
   ]
  },
  {
   "cell_type": "markdown",
   "metadata": {},
   "source": [
    "## check whether one string is a rotation of another\n"
   ]
  },
  {
   "cell_type": "code",
   "execution_count": 19,
   "metadata": {},
   "outputs": [
    {
     "data": {
      "text/plain": [
       "True"
      ]
     },
     "execution_count": 19,
     "metadata": {},
     "output_type": "execute_result"
    }
   ],
   "source": [
    "def rotateString(s , goal):\n",
    "    return len(s)==len(goal) and goal in s+s\n",
    "\n",
    "s = \"abcde\"\n",
    "goal = \"cdeab\"\n",
    "\n",
    "rotateString(s , goal)"
   ]
  },
  {
   "cell_type": "markdown",
   "metadata": {},
   "source": [
    "## Anagram"
   ]
  },
  {
   "cell_type": "code",
   "execution_count": 20,
   "metadata": {},
   "outputs": [
    {
     "name": "stdout",
     "output_type": "stream",
     "text": [
      "True\n"
     ]
    }
   ],
   "source": [
    "s = \"anagram\"\n",
    "t = \"nagaram\"\n",
    "\n",
    "from collections import Counter\n",
    "\n",
    "print(Counter(s)==Counter(t))"
   ]
  },
  {
   "cell_type": "markdown",
   "metadata": {},
   "source": [
    "## Isomorphic Strings\n"
   ]
  },
  {
   "cell_type": "code",
   "execution_count": 21,
   "metadata": {},
   "outputs": [
    {
     "name": "stdout",
     "output_type": "stream",
     "text": [
      "[0, 1, 1] [0, 1, 1]\n"
     ]
    },
    {
     "data": {
      "text/plain": [
       "True"
      ]
     },
     "execution_count": 21,
     "metadata": {},
     "output_type": "execute_result"
    }
   ],
   "source": [
    "def isomorphic(s,t):\n",
    "    if len(s) != len(t): return False\n",
    "    m1 = []\n",
    "    m2 = []\n",
    "\n",
    "    for i in s:\n",
    "        m1.append(s.index(i))\n",
    "    \n",
    "    for j in t:\n",
    "        m2.append(t.index(j))\n",
    "    \n",
    "    print(m1 , m2)\n",
    "\n",
    "    return m1==m2\n",
    "\n",
    "s = \"egg\"\n",
    "t = \"add\"\n",
    "\n",
    "isomorphic(s,t)"
   ]
  },
  {
   "cell_type": "code",
   "execution_count": null,
   "metadata": {},
   "outputs": [],
   "source": []
  }
 ],
 "metadata": {
  "kernelspec": {
   "display_name": "env1_38",
   "language": "python",
   "name": "python3"
  },
  "language_info": {
   "codemirror_mode": {
    "name": "ipython",
    "version": 3
   },
   "file_extension": ".py",
   "mimetype": "text/x-python",
   "name": "python",
   "nbconvert_exporter": "python",
   "pygments_lexer": "ipython3",
   "version": "3.8.0"
  }
 },
 "nbformat": 4,
 "nbformat_minor": 2
}
