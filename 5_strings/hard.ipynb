{
 "cells": [
  {
   "cell_type": "markdown",
   "metadata": {},
   "source": [
    "##  Minimum Add to Make Parentheses Valid"
   ]
  },
  {
   "cell_type": "code",
   "execution_count": 3,
   "metadata": {},
   "outputs": [
    {
     "data": {
      "text/plain": [
       "4"
      ]
     },
     "execution_count": 3,
     "metadata": {},
     "output_type": "execute_result"
    }
   ],
   "source": [
    "def minAddToMakeValid(s):\n",
    "    left , right = 0 , 0\n",
    "\n",
    "    for ch in s:\n",
    "        if ch==\"(\":\n",
    "            left+=1\n",
    "        else:\n",
    "            if left>0:\n",
    "                left-=1\n",
    "            else:\n",
    "                right+=1\n",
    "    return left + right\n",
    "\n",
    "\n",
    "s = \")))\"\n",
    "\n",
    "s = \"()))((\"\n",
    "minAddToMakeValid(s)"
   ]
  },
  {
   "cell_type": "markdown",
   "metadata": {},
   "source": [
    "## \tHashing In Strings | Theory"
   ]
  },
  {
   "cell_type": "code",
   "execution_count": 12,
   "metadata": {},
   "outputs": [
    {
     "name": "stdout",
     "output_type": "stream",
     "text": [
      "gff\n",
      "ffg\n",
      "fgf\n",
      "gfg\n"
     ]
    },
    {
     "data": {
      "text/plain": [
       "3"
      ]
     },
     "execution_count": 12,
     "metadata": {},
     "output_type": "execute_result"
    }
   ],
   "source": [
    "def func(text, pattern):\n",
    "        n = len(text)\n",
    "        m = len(pattern)\n",
    "        \n",
    "        for i in range(n-m+1):\n",
    "            print(text[i:m+i])\n",
    "            if text[i:m+i]==pattern:\n",
    "                return i\n",
    "        return -1\n",
    "\n",
    "text = \"gffgfg\"\n",
    "pattern = \"gfg\"\n",
    "func(text, pattern)"
   ]
  },
  {
   "cell_type": "markdown",
   "metadata": {},
   "source": [
    "## Rabin Karp"
   ]
  },
  {
   "cell_type": "code",
   "execution_count": 24,
   "metadata": {},
   "outputs": [
    {
     "name": "stdout",
     "output_type": "stream",
     "text": [
      "abcd 1\n",
      "abcdabcd 2\n",
      "abcdabcdabcd 3\n",
      "---------------\n",
      "abcdabcdabcdabcd 4\n"
     ]
    },
    {
     "data": {
      "text/plain": [
       "4"
      ]
     },
     "execution_count": 24,
     "metadata": {},
     "output_type": "execute_result"
    }
   ],
   "source": [
    "def repeatedStringMatch(a, b):\n",
    "    n = len(a)\n",
    "    m = len(b)\n",
    "\n",
    "    x=a\n",
    "    cnt = 1\n",
    "    while len(x)<m+1:\n",
    "        print(x , cnt)\n",
    "        if b in x:\n",
    "            return cnt\n",
    "        else:\n",
    "            cnt+=1\n",
    "            x = a+x\n",
    "    print(x,cnt)\n",
    "    print(\"---------------\")\n",
    "    cnt+=1\n",
    "    if b in x+a:\n",
    "        print(x+a ,cnt)\n",
    "        return cnt\n",
    "    \n",
    "    return -1\n",
    "\n",
    "\n",
    "a = \"abcd\"\n",
    "b = \"cdabcdab\"\n",
    "\n",
    "# a = \"a\"\n",
    "# b = \"aa\"\n",
    "repeatedStringMatch(a, b)"
   ]
  },
  {
   "cell_type": "markdown",
   "metadata": {},
   "source": [
    "## Shortest Palindrome"
   ]
  },
  {
   "cell_type": "code",
   "execution_count": 27,
   "metadata": {},
   "outputs": [
    {
     "data": {
      "text/plain": [
       "'aaacecaaa'"
      ]
     },
     "execution_count": 27,
     "metadata": {},
     "output_type": "execute_result"
    }
   ],
   "source": [
    "def shortestPalindrome(s):\n",
    "    zone = s[::-1]\n",
    "\n",
    "    for i in range(len(zone)):\n",
    "        pal = zone[:i+1]+s \n",
    "        if pal==pal[::-1]:\n",
    "            return pal\n",
    "\n",
    "s = \"aacecaaa\"\n",
    "# s = \"abcd\"\n",
    "\n",
    "shortestPalindrome(s)"
   ]
  },
  {
   "cell_type": "markdown",
   "metadata": {},
   "source": [
    "## Longest Happy Prefix"
   ]
  },
  {
   "cell_type": "code",
   "execution_count": 43,
   "metadata": {},
   "outputs": [
    {
     "name": "stdout",
     "output_type": "stream",
     "text": [
      "['l', 'le', 'lev', 'leve'] ['l', 'el', 'vel', 'evel']\n"
     ]
    },
    {
     "data": {
      "text/plain": [
       "'l'"
      ]
     },
     "execution_count": 43,
     "metadata": {},
     "output_type": "execute_result"
    }
   ],
   "source": [
    "def longestPrefix(s):\n",
    "    if len(s)<=1: return s\n",
    "\n",
    "    pre , suf = [], []\n",
    "    # prefix\n",
    "    for i in range(len(s)):\n",
    "        # print(s[:i])\n",
    "        pre.append(s[:i])\n",
    "    \n",
    "    # suffix\n",
    "    for j in range(len(s),0,-1):\n",
    "        # print(s[j:])\n",
    "        suf.append(s[j:])\n",
    "    pre.pop(0)\n",
    "    suf.pop(0)\n",
    "\n",
    "    # pre.sort(reverse=True)\n",
    "    # suf.sort(reverse=True)\n",
    "\n",
    "    print(pre , suf)\n",
    "    for i in range(len(pre)-1 , -1 , -1):\n",
    "        if pre[i]==suf[i]:\n",
    "            return pre[i]\n",
    "    \n",
    "    \n",
    "\n",
    "s = \"level\"\n",
    "longestPrefix(s)"
   ]
  },
  {
   "cell_type": "code",
   "execution_count": 48,
   "metadata": {},
   "outputs": [
    {
     "data": {
      "text/plain": [
       "['b', 'a', 'a', 'aa']"
      ]
     },
     "execution_count": 48,
     "metadata": {},
     "output_type": "execute_result"
    }
   ],
   "source": [
    "def subseq(s):\n",
    "    result = []\n",
    "\n",
    "    def backtrack(curr,index):\n",
    "        if index == len(s):\n",
    "            result.append(curr)\n",
    "            return\n",
    "        backtrack(curr, index+1)\n",
    "        backtrack(curr+s[index], index+1)\n",
    "\n",
    "    backtrack(\"\",0)\n",
    "    result.remove(\"\")\n",
    "\n",
    "    lst = []\n",
    "\n",
    "    for i in result:\n",
    "        if i==i[::-1]:\n",
    "            lst.append(i)\n",
    "\n",
    "\n",
    "    return lst\n",
    "\n",
    "s = \"aab\"\n",
    "subseq(s)"
   ]
  },
  {
   "cell_type": "code",
   "execution_count": null,
   "metadata": {},
   "outputs": [],
   "source": []
  }
 ],
 "metadata": {
  "kernelspec": {
   "display_name": "env1_38",
   "language": "python",
   "name": "python3"
  },
  "language_info": {
   "codemirror_mode": {
    "name": "ipython",
    "version": 3
   },
   "file_extension": ".py",
   "mimetype": "text/x-python",
   "name": "python",
   "nbconvert_exporter": "python",
   "pygments_lexer": "ipython3",
   "version": "3.8.0"
  }
 },
 "nbformat": 4,
 "nbformat_minor": 2
}
