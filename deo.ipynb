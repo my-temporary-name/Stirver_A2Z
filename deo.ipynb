{
 "cells": [
  {
   "cell_type": "code",
   "execution_count": 28,
   "metadata": {},
   "outputs": [],
   "source": [
    "from typing import List\n",
    "def sumIndicesWithKSetBits(nums: List[int], k: int) -> int:\n",
    "    tt=0\n",
    "    indices = len(nums)\n",
    "    print(\"indices: \", indices)\n",
    "    # nums.append(1)\n",
    "    for i in range(indices):\n",
    "        n=i\n",
    "        ct=0\n",
    "        while n:\n",
    "            if n%2!=0:\n",
    "                ct+=1\n",
    "            n=n//2\n",
    "        # print(\"i: \", i, \"ct: \", ct)\n",
    "        if ct==k:\n",
    "            print(i, ct)\n",
    "            tt+=nums[i]\n",
    "    return tt"
   ]
  },
  {
   "cell_type": "code",
   "execution_count": 29,
   "metadata": {},
   "outputs": [
    {
     "name": "stdout",
     "output_type": "stream",
     "text": [
      "indices:  5\n",
      "1 1\n",
      "2 1\n",
      "4 1\n",
      "f:  13\n"
     ]
    }
   ],
   "source": [
    "nums = [5,10,1,5,2]\n",
    "k = 1\n",
    "f = sumIndicesWithKSetBits(nums, k)\n",
    "print(\"f: \",f)"
   ]
  },
  {
   "cell_type": "code",
   "execution_count": 9,
   "metadata": {},
   "outputs": [
    {
     "name": "stdout",
     "output_type": "stream",
     "text": [
      "3\n"
     ]
    }
   ],
   "source": [
    "n = 7\n",
    "ct=0\n",
    "while n:\n",
    "    if n%2!=0:\n",
    "        ct+=1\n",
    "    n=n//2\n",
    "\n",
    "print(ct)"
   ]
  },
  {
   "cell_type": "code",
   "execution_count": 33,
   "metadata": {},
   "outputs": [
    {
     "name": "stdout",
     "output_type": "stream",
     "text": [
      "13.0\n"
     ]
    }
   ],
   "source": [
    "n = 14\n",
    "if n==1:\n",
    "    print(0)\n",
    "\n",
    "ct=0\n",
    "\n",
    "while n!=1:\n",
    "    if n%2==0:\n",
    "        n = n/2\n",
    "        ct+=n\n",
    "    else:\n",
    "        n = n//2\n",
    "        ct+=n\n",
    "        n+=1\n",
    "print(ct)"
   ]
  },
  {
   "cell_type": "code",
   "execution_count": 54,
   "metadata": {},
   "outputs": [],
   "source": [
    "def partitionString(s: str) -> int:\n",
    "    ct = 0\n",
    "    st=\"\"\n",
    "    for i in range(len(s)):\n",
    "        \n",
    "        if s[i] not in st:\n",
    "            st+=s[i]\n",
    "            # print(st)\n",
    "        else:\n",
    "            ct+=1\n",
    "            print(f\"String {ct} is {st}\")\n",
    "            st=\"\"\n",
    "            st+=s[i]\n",
    "    print(st)\n",
    "    return ct+1"
   ]
  },
  {
   "cell_type": "code",
   "execution_count": 57,
   "metadata": {},
   "outputs": [
    {
     "name": "stdout",
     "output_type": "stream",
     "text": [
      "String 1 is s\n",
      "String 2 is s\n",
      "String 3 is s\n",
      "String 4 is s\n",
      "String 5 is s\n",
      "s\n",
      "6\n"
     ]
    }
   ],
   "source": [
    "# s = \"abacaba\"\n",
    "s = \"ssssss\"\n",
    "print(partitionString(s))"
   ]
  },
  {
   "cell_type": "code",
   "execution_count": 72,
   "metadata": {},
   "outputs": [],
   "source": [
    "def prefixCount(words: List[str], pref: str) -> int:\n",
    "    ct=0\n",
    "    pl = len(pref)\n",
    "    print(pl, len(words[0]))\n",
    "    for i in range(len(words)):\n",
    "    \n",
    "        if len(str(x)) >= len(pl):\n",
    "            if words[i][:pl]==pref:\n",
    "                ct+=1\n",
    "    return ct"
   ]
  },
  {
   "cell_type": "code",
   "execution_count": 73,
   "metadata": {},
   "outputs": [
    {
     "name": "stdout",
     "output_type": "stream",
     "text": [
      "2 3\n",
      "pay\n"
     ]
    },
    {
     "ename": "TypeError",
     "evalue": "object of type 'int' has no len()",
     "output_type": "error",
     "traceback": [
      "\u001b[1;31m---------------------------------------------------------------------------\u001b[0m",
      "\u001b[1;31mTypeError\u001b[0m                                 Traceback (most recent call last)",
      "Cell \u001b[1;32mIn[73], line 3\u001b[0m\n\u001b[0;32m      1\u001b[0m words \u001b[38;5;241m=\u001b[39m [\u001b[38;5;124m\"\u001b[39m\u001b[38;5;124mpay\u001b[39m\u001b[38;5;124m\"\u001b[39m,\u001b[38;5;124m\"\u001b[39m\u001b[38;5;124mattention\u001b[39m\u001b[38;5;124m\"\u001b[39m,\u001b[38;5;124m\"\u001b[39m\u001b[38;5;124mpractice\u001b[39m\u001b[38;5;124m\"\u001b[39m,\u001b[38;5;124m\"\u001b[39m\u001b[38;5;124mattend\u001b[39m\u001b[38;5;124m\"\u001b[39m]\n\u001b[0;32m      2\u001b[0m pref \u001b[38;5;241m=\u001b[39m \u001b[38;5;124m\"\u001b[39m\u001b[38;5;124mat\u001b[39m\u001b[38;5;124m\"\u001b[39m\n\u001b[1;32m----> 3\u001b[0m \u001b[38;5;28mprint\u001b[39m(\u001b[43mprefixCount\u001b[49m\u001b[43m(\u001b[49m\u001b[43mwords\u001b[49m\u001b[43m,\u001b[49m\u001b[43m \u001b[49m\u001b[43mpref\u001b[49m\u001b[43m)\u001b[49m)\n",
      "Cell \u001b[1;32mIn[72], line 8\u001b[0m, in \u001b[0;36mprefixCount\u001b[1;34m(words, pref)\u001b[0m\n\u001b[0;32m      6\u001b[0m x\u001b[38;5;241m=\u001b[39m words[i]\n\u001b[0;32m      7\u001b[0m \u001b[38;5;28mprint\u001b[39m(x)\n\u001b[1;32m----> 8\u001b[0m \u001b[38;5;28;01mif\u001b[39;00m \u001b[38;5;28mlen\u001b[39m(\u001b[38;5;28mstr\u001b[39m(x)) \u001b[38;5;241m>\u001b[39m\u001b[38;5;241m=\u001b[39m \u001b[38;5;28;43mlen\u001b[39;49m\u001b[43m(\u001b[49m\u001b[43mpl\u001b[49m\u001b[43m)\u001b[49m:\n\u001b[0;32m      9\u001b[0m     \u001b[38;5;28;01mif\u001b[39;00m words[i][:pl]\u001b[38;5;241m==\u001b[39mpref:\n\u001b[0;32m     10\u001b[0m         ct\u001b[38;5;241m+\u001b[39m\u001b[38;5;241m=\u001b[39m\u001b[38;5;241m1\u001b[39m\n",
      "\u001b[1;31mTypeError\u001b[0m: object of type 'int' has no len()"
     ]
    }
   ],
   "source": [
    "words = [\"pay\",\"attention\",\"practice\",\"attend\"]\n",
    "pref = \"at\"\n",
    "print(prefixCount(words, pref))"
   ]
  },
  {
   "cell_type": "code",
   "execution_count": 87,
   "metadata": {},
   "outputs": [],
   "source": [
    "def checkIfPangram( sentence: str) -> bool:\n",
    "        alphabets = \"abcdefghijklmnopqrstuvwxyz\"\n",
    "        x = sorted(alphabets)\n",
    "        x = set(x)\n",
    "        x = list(x)\n",
    "        print(x , len(x))\n",
    "        return sorted(x) == sorted(alphabets)"
   ]
  },
  {
   "cell_type": "code",
   "execution_count": 88,
   "metadata": {},
   "outputs": [
    {
     "name": "stdout",
     "output_type": "stream",
     "text": [
      "['m', 'i', 'q', 'p', 't', 'c', 'b', 'u', 'd', 'h', 'n', 'a', 'o', 's', 'k', 'j', 'l', 'v', 'w', 'y', 'z', 'x', 'g', 'f', 'r', 'e'] 26\n",
      "True\n"
     ]
    }
   ],
   "source": [
    "# sentence = \"thequickbrownfoxjumpsoverthelazydog\"\n",
    "sentence = \"leetcode\"\n",
    "print(checkIfPangram(sentence))"
   ]
  },
  {
   "cell_type": "code",
   "execution_count": null,
   "metadata": {},
   "outputs": [],
   "source": []
  }
 ],
 "metadata": {
  "kernelspec": {
   "display_name": "env1_38",
   "language": "python",
   "name": "python3"
  },
  "language_info": {
   "codemirror_mode": {
    "name": "ipython",
    "version": 3
   },
   "file_extension": ".py",
   "mimetype": "text/x-python",
   "name": "python",
   "nbconvert_exporter": "python",
   "pygments_lexer": "ipython3",
   "version": "3.8.0"
  }
 },
 "nbformat": 4,
 "nbformat_minor": 2
}
