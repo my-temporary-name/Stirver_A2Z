{
 "cells": [
  {
   "cell_type": "markdown",
   "metadata": {},
   "source": [
    "## Length of Longest Substring without any Repeating Character\n",
    "\n",
    "\n"
   ]
  },
  {
   "cell_type": "code",
   "execution_count": 1,
   "metadata": {},
   "outputs": [
    {
     "data": {
      "text/plain": [
       "9"
      ]
     },
     "execution_count": 1,
     "metadata": {},
     "output_type": "execute_result"
    }
   ],
   "source": [
    "def lengthOfLongestSubstring(s):\n",
    "\n",
    "    n = len(s)\n",
    "    left = 0\n",
    "    right = 0\n",
    "    mpp = [-1]*256\n",
    "    length = 0\n",
    "\n",
    "    while right<n:\n",
    "\n",
    "        if mpp[ord(s[right])]!=-1:\n",
    "            left = max(mpp[ord(s[right])]+1 , left)\n",
    "\n",
    "        mpp[ord(s[right])]=right\n",
    "\n",
    "        length = max(length, right-left+1)\n",
    "        right+=1\n",
    "    \n",
    "    return length\n",
    "\n",
    "\n",
    "s = \"takeUforward\"\n",
    "lengthOfLongestSubstring(s)"
   ]
  },
  {
   "cell_type": "markdown",
   "metadata": {},
   "source": [
    "## Max Consecutive Ones\n",
    "\n",
    "---\n",
    "Given a binary array nums, return the maximum number of consecutive 1's in the array."
   ]
  },
  {
   "cell_type": "code",
   "execution_count": 2,
   "metadata": {},
   "outputs": [
    {
     "data": {
      "text/plain": [
       "3"
      ]
     },
     "execution_count": 2,
     "metadata": {},
     "output_type": "execute_result"
    }
   ],
   "source": [
    "def findMaxConsecutiveOnes(nums):\n",
    "    cnt = 0\n",
    "    mx = -1\n",
    "    for i in nums:\n",
    "        if i==1:\n",
    "            cnt+=1\n",
    "            mx = max(mx,cnt)\n",
    "        else:\n",
    "            cnt=0\n",
    "\n",
    "    return mx\n",
    "\n",
    "\n",
    "nums = [1,1,0,1,1,1]\n",
    "findMaxConsecutiveOnes(nums)"
   ]
  },
  {
   "cell_type": "markdown",
   "metadata": {},
   "source": [
    "## Max Consecutive Ones II\n",
    "---\n",
    "Given a binary array, find the maximum number of consecutive 1s in this array if you can flip at most one 0.\n",
    "\n"
   ]
  },
  {
   "cell_type": "code",
   "execution_count": 5,
   "metadata": {},
   "outputs": [
    {
     "data": {
      "text/plain": [
       "7"
      ]
     },
     "execution_count": 5,
     "metadata": {},
     "output_type": "execute_result"
    }
   ],
   "source": [
    "def findMaxConsecutiveOnes2(nums):\n",
    "\n",
    "    n = len(nums)\n",
    "    left = 0\n",
    "    zero_count = 0\n",
    "    mx = -1\n",
    "\n",
    "    for right in range(n):\n",
    "        if nums[right]==0:\n",
    "            zero_count+=1\n",
    "        \n",
    "        while zero_count>1:\n",
    "            if nums[left]==0:\n",
    "                zero_count-=1\n",
    "            left+=1\n",
    "        \n",
    "        mx = max(mx, right-left+1)\n",
    "    return mx\n",
    "\n",
    "\n",
    "nums = [1,0,1,1,0,0,1,1,1,1,1,0,1]\n",
    "findMaxConsecutiveOnes2(nums)"
   ]
  },
  {
   "cell_type": "markdown",
   "metadata": {},
   "source": [
    "## \tMax Consecutive Ones III\n",
    "---\n",
    "Given a binary array nums and an integer k, return the maximum number of consecutive 1's in the array if you can flip at most k 0's."
   ]
  },
  {
   "cell_type": "code",
   "execution_count": 7,
   "metadata": {},
   "outputs": [
    {
     "data": {
      "text/plain": [
       "10"
      ]
     },
     "execution_count": 7,
     "metadata": {},
     "output_type": "execute_result"
    }
   ],
   "source": [
    "def findMaxConsecutiveOnes3(nums,k):\n",
    "    left = 0\n",
    "    zeros_count = 0\n",
    "    mx = -1\n",
    "    n = len(nums)\n",
    "\n",
    "    for right in range(n):\n",
    "        if nums[right]==0:\n",
    "            zeros_count+=1\n",
    "        \n",
    "        while zeros_count>k:\n",
    "            if nums[left]==0:\n",
    "                zeros_count-=1\n",
    "            left+=1\n",
    "        \n",
    "        mx = max(mx, right-left+1)\n",
    "    \n",
    "    return mx\n",
    "\n",
    "nums = [1,1,1,0,0,0,1,1,1,1,0]\n",
    "k=2\n",
    "\n",
    "nums = [0,0,1,1,0,0,1,1,1,0,1,1,0,0,0,1,1,1,1]\n",
    "k = 3\n",
    "\n",
    "findMaxConsecutiveOnes3(nums,k)"
   ]
  },
  {
   "cell_type": "markdown",
   "metadata": {},
   "source": [
    "## Fruit Into Baskets\n"
   ]
  },
  {
   "cell_type": "code",
   "execution_count": 8,
   "metadata": {},
   "outputs": [
    {
     "data": {
      "text/plain": [
       "5"
      ]
     },
     "execution_count": 8,
     "metadata": {},
     "output_type": "execute_result"
    }
   ],
   "source": [
    "def totalFruits(arr):\n",
    "    left = 0\n",
    "    mpp = {}\n",
    "    mx = -1\n",
    "\n",
    "    for right in range(len(arr)):\n",
    "        key = arr[right]\n",
    "        if key not in mpp:\n",
    "            mpp[key]=0\n",
    "        \n",
    "        mpp[key]+=1\n",
    "\n",
    "        while len(mpp)>2:\n",
    "            key2 = arr[left]\n",
    "\n",
    "            mpp[key2]-=1\n",
    "            if mpp[key2]==0:\n",
    "                del mpp[key2]\n",
    "            left+=1\n",
    "        \n",
    "        mx = max(mx , right-left+1)\n",
    "    \n",
    "    return mx\n",
    "\n",
    "\n",
    "arr =[3, 1, 2, 2, 2, 2]\n",
    "totalFruits(arr)"
   ]
  },
  {
   "cell_type": "markdown",
   "metadata": {},
   "source": [
    "## Longest Repeating Character Replacement"
   ]
  },
  {
   "cell_type": "code",
   "execution_count": 21,
   "metadata": {},
   "outputs": [
    {
     "data": {
      "text/plain": [
       "4"
      ]
     },
     "execution_count": 21,
     "metadata": {},
     "output_type": "execute_result"
    }
   ],
   "source": [
    "def characterReplacement(s, k):\n",
    "    arr = list(s)\n",
    "    left = 0\n",
    "    mpp = {}\n",
    "    mx = 0\n",
    "\n",
    "    right = 0\n",
    "\n",
    "    while right<len(arr):\n",
    "        key = arr[right]\n",
    "\n",
    "        if key not in mpp:\n",
    "            mpp[key]=0\n",
    "        mpp[key]+=1\n",
    "\n",
    "        curr = right-left+1\n",
    "        \n",
    "\n",
    "        if curr - max(mpp.values()) > k:\n",
    "            key2 = arr[left]\n",
    "            mpp[key2]-=1\n",
    "            if mpp[key2]==0:\n",
    "                del mpp[key2]\n",
    "            left+=1\n",
    "        else:\n",
    "            mx = max(mx, curr)\n",
    "        right+=1\n",
    "\n",
    "    return mx\n",
    "\n",
    "\n",
    "\n",
    "\n",
    "s = \"AABABBA\"\n",
    "k = 1\n",
    "\n",
    "# s = \"ABABABA\"\n",
    "# k = 2\n",
    "\n",
    "characterReplacement(s, k)"
   ]
  },
  {
   "cell_type": "markdown",
   "metadata": {},
   "source": [
    "## Binary Subarrays With Sum\n"
   ]
  },
  {
   "cell_type": "code",
   "execution_count": 22,
   "metadata": {},
   "outputs": [
    {
     "data": {
      "text/plain": [
       "4"
      ]
     },
     "execution_count": 22,
     "metadata": {},
     "output_type": "execute_result"
    }
   ],
   "source": [
    "def atmost(arr, k):\n",
    "    left = 0\n",
    "    cnt = 0\n",
    "    res = 0\n",
    "\n",
    "    for right in range(len(arr)):\n",
    "        cnt+=arr[right]\n",
    "\n",
    "        while left<=right and cnt>k:\n",
    "            cnt -= arr[left]\n",
    "            left+=1\n",
    "        res += right-left+1\n",
    "    \n",
    "    return res\n",
    "\n",
    "def numSubarraysWithSum(nums, goal):\n",
    "    return atmost(nums,goal) - atmost(nums,goal-1)\n",
    "\n",
    "nums = [1,0,1,0,1]\n",
    "goal = 2\n",
    "\n",
    "numSubarraysWithSum(nums, goal)"
   ]
  },
  {
   "cell_type": "markdown",
   "metadata": {},
   "source": [
    "## Count Number of Nice Subarrays"
   ]
  },
  {
   "cell_type": "code",
   "execution_count": 27,
   "metadata": {},
   "outputs": [
    {
     "data": {
      "text/plain": [
       "16"
      ]
     },
     "execution_count": 27,
     "metadata": {},
     "output_type": "execute_result"
    }
   ],
   "source": [
    "def atmost(arr,k):\n",
    "    cnt=0\n",
    "    left = 0\n",
    "    res = 0\n",
    "\n",
    "    for right in range(len(arr)):\n",
    "        cnt+=arr[right]\n",
    "\n",
    "        while left<=right and cnt>k:\n",
    "            cnt-=arr[left]\n",
    "            left+=1\n",
    "        res += (right-left+1)\n",
    "    return res\n",
    "\n",
    "def numberOfSubarrays(nums, k):\n",
    "    arr = []\n",
    "    for i in nums:\n",
    "        if i%2==0:\n",
    "            arr.append(0)\n",
    "        else:\n",
    "            arr.append(1)\n",
    "    \n",
    "    return atmost(arr,k) - atmost(arr,k-1)\n",
    "\n",
    "nums = [1,1,2,1,1]\n",
    "k = 3\n",
    "\n",
    "nums = [2,2,2,1,2,2,1,2,2,2]\n",
    "k = 2\n",
    "numberOfSubarrays(nums, k)"
   ]
  },
  {
   "cell_type": "markdown",
   "metadata": {},
   "source": [
    "## Number of Substrings Containing All Three Characters"
   ]
  },
  {
   "cell_type": "code",
   "execution_count": 30,
   "metadata": {},
   "outputs": [
    {
     "data": {
      "text/plain": [
       "10"
      ]
     },
     "execution_count": 30,
     "metadata": {},
     "output_type": "execute_result"
    }
   ],
   "source": [
    "def numberOfSubstrings(s):\n",
    "    mpp = {\"a\":0, \"b\":0, \"c\":0}\n",
    "    left = 0\n",
    "    res = 0\n",
    "\n",
    "    for right in range(len(s)):\n",
    "        mpp[s[right]] += 1\n",
    "\n",
    "        while mpp[\"a\"] and mpp[\"b\"] and mpp[\"c\"]:\n",
    "            res += len(s)-right\n",
    "            mpp[s[left]]-=1\n",
    "            left+=1\n",
    "    \n",
    "    return res\n",
    "\n",
    "s = \"abcabc\"\n",
    "numberOfSubstrings(s)\n",
    "\n",
    "# Total substrings possible from index 3 to end?\n",
    "# length of s - right => 6-2 = 4\n",
    "\n",
    "# Which 4 substirngs?\n",
    "# 'abc' [the one we got when dict is set]\n",
    "\n",
    "# [Remaining substring's]\n",
    "# 'abc'a\n",
    "# 'abc'ab\n",
    "# 'abc'abc"
   ]
  },
  {
   "cell_type": "markdown",
   "metadata": {},
   "source": [
    "## Maximum Points You Can Obtain from Cards"
   ]
  },
  {
   "cell_type": "code",
   "execution_count": 32,
   "metadata": {},
   "outputs": [
    {
     "data": {
      "text/plain": [
       "12"
      ]
     },
     "execution_count": 32,
     "metadata": {},
     "output_type": "execute_result"
    }
   ],
   "source": [
    "def maxScore(arr,k):\n",
    "    n = len(arr)\n",
    "    curr = sum(arr[:k])\n",
    "    max_score = curr\n",
    "\n",
    "    for i in range(1,k+1):\n",
    "        curr += arr[-i]-arr[k-i]\n",
    "        max_score = max(max_score, curr)\n",
    "    return max_score\n",
    "\n",
    "cardPoints = [1,2,3,4,5,6,1]\n",
    "k = 3\n",
    "\n",
    "maxScore(cardPoints, k)"
   ]
  },
  {
   "cell_type": "markdown",
   "metadata": {},
   "source": [
    "## Longest Substring with At Most K Distinct Characters"
   ]
  },
  {
   "cell_type": "code",
   "execution_count": 33,
   "metadata": {},
   "outputs": [
    {
     "data": {
      "text/plain": [
       "3"
      ]
     },
     "execution_count": 33,
     "metadata": {},
     "output_type": "execute_result"
    }
   ],
   "source": [
    "def kDistinctChars(s,k):\n",
    "    left = 0\n",
    "    mx = -1\n",
    "    mpp = {}\n",
    "\n",
    "    for right in range(len(s)):\n",
    "        key = s[right]\n",
    "\n",
    "        if key not in mpp:\n",
    "            mpp[key]=0\n",
    "        mpp[key]+=1\n",
    "\n",
    "        while len(mpp)>k:\n",
    "            key2 = s[left]\n",
    "            mpp[key2]-=1\n",
    "            if mpp[key2]==0:\n",
    "                del mpp[key2]\n",
    "            left+=1\n",
    "        \n",
    "        mx = max(mx, right-left+1)\n",
    "\n",
    "    return mx\n",
    "\n",
    "s = \"aabcabb\"\n",
    "k = 2\n",
    "kDistinctChars(s,k)"
   ]
  },
  {
   "cell_type": "markdown",
   "metadata": {},
   "source": [
    "## Subarrays with K Different Integers\n"
   ]
  },
  {
   "cell_type": "code",
   "execution_count": 36,
   "metadata": {},
   "outputs": [
    {
     "data": {
      "text/plain": [
       "7"
      ]
     },
     "execution_count": 36,
     "metadata": {},
     "output_type": "execute_result"
    }
   ],
   "source": [
    "def subKDiff(arr,k):\n",
    "    mpp = {}\n",
    "    left = 0\n",
    "    res = 0\n",
    "\n",
    "    for right in range(len(arr)):\n",
    "        key = arr[right]\n",
    "        if key not in mpp:\n",
    "            mpp[key]=0\n",
    "        mpp[key]+=1\n",
    "\n",
    "\n",
    "        while left<=right and len(mpp)>k:\n",
    "            key2 = arr[left]\n",
    "\n",
    "            mpp[key2]-=1\n",
    "            if mpp[key2]==0:\n",
    "                del mpp[key2]\n",
    "            left+=1\n",
    "        res += right-left+1\n",
    "    \n",
    "    return res\n",
    "\n",
    "def subarraysWithKDistinct(nums, k):\n",
    "    return subKDiff(nums, k) - subKDiff(nums, k-1)\n",
    "\n",
    "nums = [1,2,1,2,3]\n",
    "k = 2\n",
    "subarraysWithKDistinct(nums, k)"
   ]
  },
  {
   "cell_type": "markdown",
   "metadata": {},
   "source": []
  },
  {
   "cell_type": "code",
   "execution_count": null,
   "metadata": {},
   "outputs": [],
   "source": []
  }
 ],
 "metadata": {
  "kernelspec": {
   "display_name": "env1_38",
   "language": "python",
   "name": "python3"
  },
  "language_info": {
   "codemirror_mode": {
    "name": "ipython",
    "version": 3
   },
   "file_extension": ".py",
   "mimetype": "text/x-python",
   "name": "python",
   "nbconvert_exporter": "python",
   "pygments_lexer": "ipython3",
   "version": "3.8.0"
  }
 },
 "nbformat": 4,
 "nbformat_minor": 2
}
