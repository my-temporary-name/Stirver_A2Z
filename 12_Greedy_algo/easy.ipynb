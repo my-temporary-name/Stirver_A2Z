{
 "cells": [
  {
   "cell_type": "markdown",
   "metadata": {},
   "source": [
    "## Assign cookies"
   ]
  },
  {
   "cell_type": "code",
   "execution_count": 1,
   "metadata": {},
   "outputs": [
    {
     "data": {
      "text/plain": [
       "1"
      ]
     },
     "execution_count": 1,
     "metadata": {},
     "output_type": "execute_result"
    }
   ],
   "source": [
    "def findContentChildren(g,s):\n",
    "    cnt = 0\n",
    "    n = len(g)\n",
    "    m = len(s)\n",
    "\n",
    "    g.sort()\n",
    "    s.sort()\n",
    "    i ,j = 0, 0\n",
    "    while i<n and j<m:\n",
    "        if g[i]<=s[j]:\n",
    "            cnt+=1\n",
    "            i+=1\n",
    "        j+=1\n",
    "    \n",
    "    return cnt\n",
    "\n",
    "\n",
    "g = [1,2,3]\n",
    "s = [1,1]\n",
    "findContentChildren(g,s)"
   ]
  },
  {
   "cell_type": "markdown",
   "metadata": {},
   "source": [
    "## Fractional Knapsack\n"
   ]
  },
  {
   "cell_type": "code",
   "execution_count": 15,
   "metadata": {},
   "outputs": [
    {
     "name": "stdout",
     "output_type": "stream",
     "text": [
      "[[6, 60, 10], [5, 100, 20], [4, 120, 30]]\n",
      "20\n"
     ]
    },
    {
     "data": {
      "text/plain": [
       "240.0"
      ]
     },
     "execution_count": 15,
     "metadata": {},
     "output_type": "execute_result"
    }
   ],
   "source": [
    "def fractionalknapsack(values, weights, w):\n",
    "    \n",
    "    profit = []\n",
    "    for i in range(len(values)):\n",
    "        profit.append([values[i]//weights[i], values[i], weights[i]])\n",
    "    \n",
    "    profit.sort(reverse=True)\n",
    "    print(profit)\n",
    "\n",
    "    i=0\n",
    "    cnt=0\n",
    "    while w>0 and i<len(values):\n",
    "        if w>profit[i][2]:\n",
    "            w-=profit[i][2]\n",
    "            cnt+=profit[i][1]\n",
    "        else:\n",
    "            print(w)\n",
    "            perc = (w/profit[i][2])*profit[i][1]\n",
    "            w=0\n",
    "            cnt+=perc\n",
    "        i+=1\n",
    "    return cnt\n",
    "\n",
    "\n",
    "values= [60, 100, 120]\n",
    "weights = [10, 20, 30]\n",
    "w = 50\n",
    "\n",
    "fractionalknapsack(values, weights, w)"
   ]
  },
  {
   "cell_type": "code",
   "execution_count": 18,
   "metadata": {},
   "outputs": [
    {
     "name": "stdout",
     "output_type": "stream",
     "text": [
      "[0, 1, 1, 2, 2, 1, 2, 2, 3, 3, 2, 3]\n"
     ]
    },
    {
     "data": {
      "text/plain": [
       "3"
      ]
     },
     "execution_count": 18,
     "metadata": {},
     "output_type": "execute_result"
    }
   ],
   "source": [
    "from typing import List\n",
    "def coinChange(coins: List[int], amount: int) -> int:\n",
    "    dp = [amount+1]*(amount+1)\n",
    "    dp[0]=0\n",
    "\n",
    "    for a in range(1,amount+1):\n",
    "        for c in coins:\n",
    "            if a-c>=0:\n",
    "                dp[a] = min(dp[a], 1+dp[a-c])\n",
    "    print(dp)\n",
    "    return dp[amount] if dp[amount]!=amount+1 else -1\n",
    " \n",
    "\n",
    "\n",
    "coins = [1,2,5]\n",
    "amount = 11\n",
    "coinChange(coins, amount)"
   ]
  },
  {
   "cell_type": "markdown",
   "metadata": {},
   "source": [
    "## Lemonade Change"
   ]
  },
  {
   "cell_type": "code",
   "execution_count": 20,
   "metadata": {},
   "outputs": [
    {
     "data": {
      "text/plain": [
       "True"
      ]
     },
     "execution_count": 20,
     "metadata": {},
     "output_type": "execute_result"
    }
   ],
   "source": [
    "def lemonadeChange(bills):\n",
    "    five , ten, twenty = 0 , 0 , 0\n",
    "\n",
    "    for  i in bills:\n",
    "        if i==5:\n",
    "            five+=1\n",
    "        elif i==10:\n",
    "            if five>0:\n",
    "                five-=1\n",
    "                ten+=1\n",
    "            else:\n",
    "                return False\n",
    "        else:\n",
    "            if ten>0 and five>0:\n",
    "                ten-=1\n",
    "                five-=1\n",
    "                twenty+=1\n",
    "            elif five>2:\n",
    "                five-=3\n",
    "                twenty+=1\n",
    "            else:\n",
    "                return False\n",
    "        return True\n",
    "            \n",
    "\n",
    "\n",
    "bills = [5,5,5,10,20]\n",
    "lemonadeChange(bills)"
   ]
  },
  {
   "cell_type": "markdown",
   "metadata": {},
   "source": [
    "## Valid Parenthesis String\n"
   ]
  },
  {
   "cell_type": "code",
   "execution_count": null,
   "metadata": {},
   "outputs": [],
   "source": [
    "def checkValidString(s):\n",
    "    \n",
    "    \n",
    "s = \"(*))\"\n",
    "checkValidString(s)"
   ]
  }
 ],
 "metadata": {
  "kernelspec": {
   "display_name": "env1_38",
   "language": "python",
   "name": "python3"
  },
  "language_info": {
   "codemirror_mode": {
    "name": "ipython",
    "version": 3
   },
   "file_extension": ".py",
   "mimetype": "text/x-python",
   "name": "python",
   "nbconvert_exporter": "python",
   "pygments_lexer": "ipython3",
   "version": "3.8.0"
  }
 },
 "nbformat": 4,
 "nbformat_minor": 2
}
