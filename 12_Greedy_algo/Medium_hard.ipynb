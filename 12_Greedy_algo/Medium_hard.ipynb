{
 "cells": [
  {
   "cell_type": "markdown",
   "metadata": {},
   "source": [
    "## N meetings in one room\n"
   ]
  },
  {
   "cell_type": "code",
   "execution_count": 4,
   "metadata": {},
   "outputs": [
    {
     "name": "stdout",
     "output_type": "stream",
     "text": [
      "4\n"
     ]
    }
   ],
   "source": [
    "def maximumMeetings(start, end):\n",
    "    arr = []\n",
    "    for i in range(len(start)):\n",
    "        arr.append([end[i], start[i], i + 1])  # Append each meeting as [end, start, index]\n",
    "    arr.sort()  # Sort by end times\n",
    "    \n",
    "    cnt = 1  # Count the first meeting\n",
    "    limit = arr[0][0]  # Set the limit to the end time of the first meeting\n",
    "\n",
    "    for i in range(1, len(arr)):\n",
    "        if arr[i][1] > limit:  # If the start time of the current meeting is after the limit\n",
    "            cnt += 1  # Increment count\n",
    "            limit = arr[i][0]  # Update the limit to the current meeting's end time\n",
    "            \n",
    "    return cnt  # Return the maximum count of meetings\n",
    "\n",
    "# Example usage\n",
    "start = [1, 3, 0, 5, 8, 5]\n",
    "end = [2, 4, 6, 7, 9, 9]\n",
    "print(maximumMeetings(start, end))  # Expected output: 4\n"
   ]
  },
  {
   "cell_type": "markdown",
   "metadata": {},
   "source": [
    "## Jump Game"
   ]
  },
  {
   "cell_type": "code",
   "execution_count": 5,
   "metadata": {},
   "outputs": [
    {
     "data": {
      "text/plain": [
       "True"
      ]
     },
     "execution_count": 5,
     "metadata": {},
     "output_type": "execute_result"
    }
   ],
   "source": [
    "def canJump(nums):\n",
    "    n = len(nums)\n",
    "    goal = n-1\n",
    "    for i in range(n-1,-1,-1):\n",
    "        if i + nums[i]>=goal:\n",
    "            goal=i\n",
    "    \n",
    "    return True if goal==0 else False\n",
    "\n",
    "\n",
    "\n",
    "nums = [2,3,1,1,4]\n",
    "canJump(nums)"
   ]
  },
  {
   "cell_type": "markdown",
   "metadata": {},
   "source": [
    "## Jump Game II"
   ]
  },
  {
   "cell_type": "code",
   "execution_count": 14,
   "metadata": {},
   "outputs": [
    {
     "name": "stdout",
     "output_type": "stream",
     "text": [
      "index: 0, current_end: 2, farthest: 2, Jumps: 1\n",
      "index: 2, current_end: 3, farthest: 3, Jumps: 2\n",
      "index: 3, current_end: 4, farthest: 4, Jumps: 3\n"
     ]
    },
    {
     "data": {
      "text/plain": [
       "3"
      ]
     },
     "execution_count": 14,
     "metadata": {},
     "output_type": "execute_result"
    }
   ],
   "source": [
    "def minJumps(nums):\n",
    "    if len(nums) == 1:\n",
    "        return 0\n",
    "    \n",
    "    jumps = 0  # The number of jumps needed\n",
    "    current_end = 0  # End of the range that can be reached with current number of jumps\n",
    "    farthest = 0  # Farthest point that can be reached from the current index\n",
    "    \n",
    "    for i in range(len(nums) - 1):\n",
    "        # Update farthest point reachable from current position\n",
    "        farthest = max(farthest, i + nums[i])\n",
    "        \n",
    "        # When we reach the end of the current range, increase jump count\n",
    "        if i == current_end:\n",
    "            jumps += 1\n",
    "            current_end = farthest  # Update the end of the range for the next jump\n",
    "            \n",
    "            print(f\"index: {i}, current_end: {current_end}, farthest: {farthest}, Jumps: {jumps}\")\n",
    "            # If we can reach or go beyond the last index, return jumps\n",
    "            if current_end >= len(nums) - 1:\n",
    "                return jumps\n",
    "        \n",
    "\n",
    "    return jumps\n",
    "\n",
    "\n",
    "\n",
    "\n",
    "nums = [2,3,1,1,4]\n",
    "\n",
    "nums = [2,1,1,1,4]\n",
    "minJumps(nums)"
   ]
  },
  {
   "cell_type": "markdown",
   "metadata": {},
   "source": [
    "## Minimum Platforms\n"
   ]
  },
  {
   "cell_type": "code",
   "execution_count": 15,
   "metadata": {},
   "outputs": [
    {
     "name": "stdout",
     "output_type": "stream",
     "text": [
      "Minimum number of Platforms required 3\n"
     ]
    }
   ],
   "source": [
    "def countPlatforms(n, arr, dep):\n",
    "    arr.sort()\n",
    "    dep.sort()\n",
    "\n",
    "    ans = 1\n",
    "    cnt = 1\n",
    "\n",
    "    i = 1\n",
    "    j = 0\n",
    "\n",
    "    while i<len(arr) and j<len(dep):\n",
    "        if arr[i]<=dep[j]:\n",
    "            cnt+=1\n",
    "            i+=1\n",
    "        else:\n",
    "            cnt-=1\n",
    "            j+=1\n",
    "        ans = max(ans,cnt)\n",
    "    return ans\n",
    "\n",
    "\n",
    "if __name__ == \"__main__\":\n",
    "    arr = [900, 945, 955, 1100, 1500, 1800]\n",
    "    dep = [920, 1200, 1130, 1150, 1900, 2000]\n",
    "    n = len(dep)\n",
    "    print(\"Minimum number of Platforms required\", countPlatforms(n, arr, dep))"
   ]
  },
  {
   "cell_type": "code",
   "execution_count": 22,
   "metadata": {},
   "outputs": [
    {
     "name": "stdout",
     "output_type": "stream",
     "text": [
      "[(3, 1, 40), (4, 1, 30), (1, 4, 20), (2, 1, 1)]\n",
      "(2, 60)\n",
      "\n",
      "[(1, 2, 100), (3, 2, 27), (4, 1, 25), (2, 1, 19), (5, 1, 15)]\n",
      "(2, 127)\n"
     ]
    }
   ],
   "source": [
    "def jobScheduling(jobs):\n",
    "    jobs.sort(key=lambda x:x[2], reverse = True)\n",
    "    print(jobs)\n",
    "\n",
    "    max_deadline = max([job[1] for job in jobs])\n",
    "\n",
    "    slots = [-1]*(max_deadline+1)\n",
    "    job_count = 0\n",
    "    max_profit = 0\n",
    "\n",
    "    for job in jobs:\n",
    "        job_id, deadline, profit = job\n",
    "\n",
    "        for j in range(deadline, 0, -1):\n",
    "            if slots[j]==-1:\n",
    "                slots[j] = job_id\n",
    "                job_count +=1\n",
    "                max_profit += profit\n",
    "                break\n",
    "    return job_count , max_profit\n",
    "\n",
    "    pass\n",
    "# Example usage\n",
    "jobs1 = [(1, 4, 20), (2, 1, 1), (3, 1, 40), (4, 1, 30)]\n",
    "jobs2 = [(1, 2, 100), (2, 1, 19), (3, 2, 27), (4, 1, 25), (5, 1, 15)]\n",
    "\n",
    "print(jobScheduling(jobs1))  # Output: [2, 60]\n",
    "print()\n",
    "print(jobScheduling(jobs2))  # Output: [2, 127]"
   ]
  },
  {
   "cell_type": "markdown",
   "metadata": {},
   "source": [
    "## Candy"
   ]
  },
  {
   "cell_type": "code",
   "execution_count": 26,
   "metadata": {},
   "outputs": [
    {
     "name": "stdout",
     "output_type": "stream",
     "text": [
      "[1, 1, 2]\n",
      "[2, 1, 2]\n"
     ]
    },
    {
     "data": {
      "text/plain": [
       "5"
      ]
     },
     "execution_count": 26,
     "metadata": {},
     "output_type": "execute_result"
    }
   ],
   "source": [
    "def candy(arr):\n",
    "    n = len(arr)\n",
    "\n",
    "    cnt = [1 for _ in range(n)]\n",
    "\n",
    "    for i in range(1,n):\n",
    "        if arr[i]>arr[i-1]:\n",
    "            cnt[i] = cnt[i]+1\n",
    "    \n",
    "    print(cnt)\n",
    "\n",
    "    for i in range(n-2, -1 ,-1):\n",
    "        if arr[i]>arr[i+1]:\n",
    "            cnt[i] = max(cnt[i], cnt[i+1]+1)\n",
    "    \n",
    "    print(cnt)\n",
    "\n",
    "    return sum(cnt)\n",
    "\n",
    "\n",
    "    pass\n",
    "\n",
    "ratings = [1,0,2]\n",
    "# ratings = [1,2,2]\n",
    "candy(ratings)"
   ]
  },
  {
   "cell_type": "markdown",
   "metadata": {},
   "source": [
    "## Page Fault LRU"
   ]
  },
  {
   "cell_type": "code",
   "execution_count": 27,
   "metadata": {},
   "outputs": [],
   "source": [
    "class Solution:\n",
    "    def pageFaults(self, N, C, pages):\n",
    "        # code here\n",
    "        arr = []\n",
    "        fault = 0\n",
    "        size = 0\n",
    "        for i in range(N):\n",
    "            val = pages[i]\n",
    "            if val not in arr and size<C:\n",
    "                arr.append(val)\n",
    "                fault+=1\n",
    "                size +=1\n",
    "            elif val not in arr and size==C:\n",
    "                arr.pop(0)\n",
    "                arr.append(val)\n",
    "                fault+=1\n",
    "            elif val in arr:\n",
    "                idx = arr.index(val)\n",
    "                # idx = len(arr):\n",
    "                # print(\"---\", val, idx)\n",
    "                arr.pop(idx)\n",
    "                arr.append(val)\n",
    "\n",
    "        return fault"
   ]
  },
  {
   "cell_type": "markdown",
   "metadata": {},
   "source": [
    "## Insert Interval"
   ]
  },
  {
   "cell_type": "code",
   "execution_count": 42,
   "metadata": {},
   "outputs": [
    {
     "name": "stdout",
     "output_type": "stream",
     "text": [
      "[[1, 3], [2, 5], [6, 9]]\n"
     ]
    },
    {
     "data": {
      "text/plain": [
       "[[1, 5], [6, 9]]"
      ]
     },
     "execution_count": 42,
     "metadata": {},
     "output_type": "execute_result"
    }
   ],
   "source": [
    "def insert_bw(arr, newInterval):\n",
    "    arr += [newInterval]\n",
    "    arr.sort()\n",
    "\n",
    "    print(arr)\n",
    "\n",
    "    res = 0\n",
    "\n",
    "    for i in range(1,len(arr)):\n",
    "        if arr[res][1]>=arr[i][0]:\n",
    "            arr[res][1] = max(arr[res][1], arr[i][1])\n",
    "        else:\n",
    "            res+=1\n",
    "            arr[res] = arr[i]\n",
    "    \n",
    "    return arr[:res+1]\n",
    "\n",
    "\n",
    "intervals = [[1,2],[3,5],[6,7],[8,10],[12,16]]\n",
    "newInterval = [4,8]\n",
    "\n",
    "intervals = [[1,3],[6,9]]\n",
    "newInterval = [2,5]\n",
    "\n",
    "insert_bw(intervals, newInterval)"
   ]
  },
  {
   "cell_type": "markdown",
   "metadata": {},
   "source": [
    "## Merge Interval"
   ]
  },
  {
   "cell_type": "code",
   "execution_count": 30,
   "metadata": {},
   "outputs": [
    {
     "data": {
      "text/plain": [
       "[[1, 5]]"
      ]
     },
     "execution_count": 30,
     "metadata": {},
     "output_type": "execute_result"
    }
   ],
   "source": [
    "def merge(arr):\n",
    "    arr.sort()\n",
    "\n",
    "    res = 0\n",
    "\n",
    "    for i in range(1,len(arr)):\n",
    "        if arr[res][1] >=arr[i][0]:\n",
    "            arr[res][1] = max(arr[res][1], arr[i][i])\n",
    "        else:\n",
    "            res+=1\n",
    "            arr[res] = arr[i]\n",
    "    \n",
    "    return arr[:res+1]\n",
    "\n",
    "\n",
    "intervals = [[1,3],[2,6],[8,10],[15,18]]\n",
    "intervals = [[1,4],[4,5]]\n",
    "merge(intervals)"
   ]
  },
  {
   "cell_type": "markdown",
   "metadata": {},
   "source": [
    "## Non-overlapping Intervals"
   ]
  },
  {
   "cell_type": "code",
   "execution_count": 32,
   "metadata": {},
   "outputs": [
    {
     "name": "stdout",
     "output_type": "stream",
     "text": [
      "[[1, 2], [2, 3], [1, 4], [3, 5]]\n"
     ]
    },
    {
     "data": {
      "text/plain": [
       "1"
      ]
     },
     "execution_count": 32,
     "metadata": {},
     "output_type": "execute_result"
    }
   ],
   "source": [
    "def eraseOverlapIntervals(arr):\n",
    "    arr.sort(key=lambda x:x[1])\n",
    "    print(arr)\n",
    "\n",
    "    res = 0\n",
    "\n",
    "    prev = arr[0][1]\n",
    "\n",
    "    for i in range(1,len(arr)):\n",
    "        if prev>arr[i][0]:\n",
    "            res+=1\n",
    "        else:\n",
    "            prev = arr[i][1]\n",
    "    return res\n",
    "\n",
    "    \n",
    "\n",
    "intervals = [[1,2],[2,3],[3,5],[1,4]]\n",
    "eraseOverlapIntervals(intervals)"
   ]
  },
  {
   "cell_type": "code",
   "execution_count": null,
   "metadata": {},
   "outputs": [],
   "source": []
  }
 ],
 "metadata": {
  "kernelspec": {
   "display_name": "env1_38",
   "language": "python",
   "name": "python3"
  },
  "language_info": {
   "codemirror_mode": {
    "name": "ipython",
    "version": 3
   },
   "file_extension": ".py",
   "mimetype": "text/x-python",
   "name": "python",
   "nbconvert_exporter": "python",
   "pygments_lexer": "ipython3",
   "version": "3.8.0"
  }
 },
 "nbformat": 4,
 "nbformat_minor": 2
}
