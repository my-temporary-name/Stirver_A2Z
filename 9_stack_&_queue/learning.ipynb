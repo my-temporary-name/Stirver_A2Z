{
 "cells": [
  {
   "cell_type": "markdown",
   "metadata": {},
   "source": [
    "## Implement Stack using Arrays\n"
   ]
  },
  {
   "cell_type": "code",
   "execution_count": 7,
   "metadata": {},
   "outputs": [
    {
     "name": "stdout",
     "output_type": "stream",
     "text": [
      "Top of stack is before deleting any element 7\n",
      "Size of stack before deleting any element 3\n",
      "The element deleted is 7\n",
      "Size of stack after deleting an element 2\n",
      "Top of stack after deleting an element 3\n"
     ]
    }
   ],
   "source": [
    "class Stack:\n",
    "    def __init__(self):\n",
    "        self.top = -1\n",
    "        self.size = 1000\n",
    "        self.arr = [0]*self.size\n",
    "\n",
    "    def push(self, x):\n",
    "        self.top +=1 \n",
    "        self.arr[self.top] = x\n",
    "        \n",
    "\n",
    "    def pop(self):\n",
    "        x = self.arr[self.top]\n",
    "        self.top-=1\n",
    "        return x\n",
    "\n",
    "    def Top(self)->int:\n",
    "        return self.arr[self.top]\n",
    "    \n",
    "    def Size(self):\n",
    "        return self.top+1\n",
    "\n",
    "\n",
    "if __name__ == \"__main__\":\n",
    "    s = Stack()\n",
    "    s.push(6)\n",
    "    s.push(3)\n",
    "    s.push(7)\n",
    "    print(\"Top of stack is before deleting any element\", s.Top())\n",
    "    print(\"Size of stack before deleting any element\", s.Size())\n",
    "    print(\"The element deleted is\", s.pop())\n",
    "    print(\"Size of stack after deleting an element\", s.Size())\n",
    "    print(\"Top of stack after deleting an element\", s.Top())"
   ]
  },
  {
   "cell_type": "markdown",
   "metadata": {},
   "source": [
    "## Implement Queue Using Array\n",
    "\n",
    "\n"
   ]
  },
  {
   "cell_type": "code",
   "execution_count": 9,
   "metadata": {},
   "outputs": [
    {
     "name": "stdout",
     "output_type": "stream",
     "text": [
      "The peek of the queue before deleting any element 4\n",
      "The size of the queue before deletion 4\n",
      "The first element to be deleted 4\n",
      "The peek of the queue after deleting an element 14\n",
      "The size of the queue after deleting an element 3\n"
     ]
    }
   ],
   "source": [
    "class Queue:\n",
    "    def __init__(self):\n",
    "        self.start = -1\n",
    "        self.end = -1\n",
    "        self.currSize = 0\n",
    "        self.maxSize = 16\n",
    "        self.arr = [0]*self.maxSize\n",
    "    def push(self, newElement):\n",
    "        if self.currSize==self.maxSize:\n",
    "            print(\"Full\")\n",
    "            exit()\n",
    "        \n",
    "        if self.start==-1 and self.end==-1:\n",
    "            self.start=0\n",
    "            self.end=0\n",
    "        else:\n",
    "            self.end = (self.end+1) % self.maxSize\n",
    "            \n",
    "        self.arr[self.end]=newElement\n",
    "        self.currSize+=1\n",
    "    \n",
    "    def pop(self):\n",
    "        if self.start==-1:\n",
    "            print(\"Empty\")\n",
    "            exit()\n",
    "        \n",
    "        popped = self.arr[self.start]\n",
    "\n",
    "        if self.currSize==1:\n",
    "            self.start=-1\n",
    "            self.end=-1\n",
    "        else:\n",
    "            self.start = (self.start+1)%self.maxSize\n",
    "        self.currSize -= 1\n",
    "        return popped\n",
    "\n",
    "\n",
    "    def top(self):\n",
    "        if self.start==-1:\n",
    "            print(\"Empty\")\n",
    "            exit()\n",
    "        return self.arr[self.start] \n",
    "    \n",
    "    def size(self):\n",
    "        return self.currSize\n",
    "\n",
    "\n",
    "if __name__ == \"__main__\":\n",
    "    q = Queue()\n",
    "    q.push(4)\n",
    "    q.push(14)\n",
    "    q.push(24)\n",
    "    q.push(34)\n",
    "    print(\"The peek of the queue before deleting any element\", q.top())\n",
    "    print(\"The size of the queue before deletion\", q.size())\n",
    "    print(\"The first element to be deleted\", q.pop())\n",
    "    print(\"The peek of the queue after deleting an element\", q.top())\n",
    "    print(\"The size of the queue after deleting an element\", q.size())"
   ]
  },
  {
   "cell_type": "markdown",
   "metadata": {},
   "source": [
    "## Implement Stack using single Queue\n",
    "\n",
    "\n"
   ]
  },
  {
   "cell_type": "code",
   "execution_count": 11,
   "metadata": {},
   "outputs": [
    {
     "name": "stdout",
     "output_type": "stream",
     "text": [
      "Top of the stack:  1\n",
      "Size of the stack before removing element:  4\n",
      "The deleted element is:  1\n",
      "Top of the stack after removing element:  4\n",
      "Size of the stack after removing element:  3\n"
     ]
    }
   ],
   "source": [
    "from queue import Queue\n",
    "\n",
    "class Stack:\n",
    "    def __init__(self):\n",
    "        self.q = Queue()\n",
    "    \n",
    "    def push(self, x):\n",
    "        s = self.q.qsize()\n",
    "\n",
    "        self.q.put(x)\n",
    "        for i in range(s):\n",
    "            self.q.put(self.q.get())\n",
    "    \n",
    "    def pop(self):\n",
    "        n = self.q.get()\n",
    "        return n\n",
    "    \n",
    "    def top(self):\n",
    "        return self.q.queue[0]\n",
    "    \n",
    "    def size(self):\n",
    "        return self.q.qsize()\n",
    "\n",
    "if __name__ == \"__main__\":\n",
    "    s = Stack()\n",
    "    s.push(3)\n",
    "    s.push(2)\n",
    "    s.push(4)\n",
    "    s.push(1)\n",
    "    print(\"Top of the stack: \", s.top())\n",
    "    print(\"Size of the stack before removing element: \", s.size())\n",
    "    print(\"The deleted element is: \", s.pop())\n",
    "    print(\"Top of the stack after removing element: \", s.top())\n",
    "    print(\"Size of the stack after removing element: \", s.size())"
   ]
  },
  {
   "cell_type": "markdown",
   "metadata": {},
   "source": [
    "## Implement Stack using Queues *(2 Queues)*"
   ]
  },
  {
   "cell_type": "code",
   "execution_count": null,
   "metadata": {},
   "outputs": [],
   "source": [
    "class MyStack:\n",
    "    def __init__(self):\n",
    "        self.q1 = []\n",
    "        self.q2 = []\n",
    "    \n",
    "    def push(self,x):\n",
    "        self.q2.append(x)\n",
    "        while self.q1:\n",
    "            self.q2.append(self.q1.pop(0))\n",
    "        self.q1, self.q2 = self.q2 , self.q1\n",
    "    \n",
    "    def pop(self):\n",
    "        if not self.q1:\n",
    "            return -1\n",
    "        return self.q1.pop(0)\n",
    "    \n",
    "    def top(self):\n",
    "        if not self.q1:\n",
    "            return -1\n",
    "        return self.q1[0]\n",
    "    \n",
    "    def empty(self):\n",
    "        if not self.q1: return True\n",
    "        return False\n",
    "\n"
   ]
  },
  {
   "cell_type": "markdown",
   "metadata": {},
   "source": [
    "## Check for Balanced Parentheses\n",
    "\n",
    "\n"
   ]
  },
  {
   "cell_type": "code",
   "execution_count": 14,
   "metadata": {},
   "outputs": [
    {
     "data": {
      "text/plain": [
       "False"
      ]
     },
     "execution_count": 14,
     "metadata": {},
     "output_type": "execute_result"
    }
   ],
   "source": [
    "def isValid(s):\n",
    "    lst = []\n",
    "\n",
    "    for ch in s:\n",
    "        if ch in \"({[\":\n",
    "            lst.append(ch)\n",
    "        else:\n",
    "            if len(lst)==0: return\n",
    "            last = lst[-1]\n",
    "            lst.pop()\n",
    "\n",
    "            if (last == \"(\" and ch==\")\") or (last == \"{\" and ch==\"}\") or (last == \"[\" and ch==\"]\"):\n",
    "                continue\n",
    "            else: \n",
    "                return False\n",
    "    return len(lst)==0\n",
    "\n",
    "\n",
    "\n",
    "s = \"([])\"\n",
    "s = \"()[]{}\"\n",
    "s = \"(]\"\n",
    "isValid(s)"
   ]
  },
  {
   "cell_type": "markdown",
   "metadata": {},
   "source": [
    "## Implement Min Stack : O(N) Space Complexity\n",
    "\n",
    "Problem Statement: Implement Min Stack | O(2N) and O(N) Space Complexity. Design a stack that supports push, pop, top, and retrieving the minimum element in constant time.\n",
    "\n",
    "\n"
   ]
  },
  {
   "cell_type": "code",
   "execution_count": 15,
   "metadata": {},
   "outputs": [],
   "source": [
    "class MinStack:\n",
    "    def __init__(self):\n",
    "        self.arr = []\n",
    "        self.mn = float(\"inf\")\n",
    "        self.length = 0\n",
    "     \n",
    "\n",
    "    def push(self, val: int) -> None:\n",
    "        if self.length>=1:\n",
    "            self.mn = min(self.arr[-1][1], val)\n",
    "        else:\n",
    "            self.mn = val\n",
    "        \n",
    "        self.arr.append([val, self.mn])\n",
    "        self.length+=1\n",
    "\n",
    "\n",
    "    def pop(self) -> None:\n",
    "        if self.length==0: return -1\n",
    "        self.length-=1\n",
    "        return self.arr.pop()\n",
    "\n",
    "        \n",
    "    def top(self) -> int:\n",
    "        if self.length==0:\n",
    "            return -1\n",
    "        return self.arr[-1][0]\n",
    "\n",
    "        \n",
    "    def getMin(self) -> int:\n",
    "        if self.length==0: return -1\n",
    "        return self.arr[-1][1]\n"
   ]
  },
  {
   "cell_type": "code",
   "execution_count": null,
   "metadata": {},
   "outputs": [],
   "source": []
  }
 ],
 "metadata": {
  "kernelspec": {
   "display_name": "env1_38",
   "language": "python",
   "name": "python3"
  },
  "language_info": {
   "codemirror_mode": {
    "name": "ipython",
    "version": 3
   },
   "file_extension": ".py",
   "mimetype": "text/x-python",
   "name": "python",
   "nbconvert_exporter": "python",
   "pygments_lexer": "ipython3",
   "version": "3.8.0"
  }
 },
 "nbformat": 4,
 "nbformat_minor": 2
}
