{
 "cells": [
  {
   "cell_type": "markdown",
   "metadata": {},
   "source": [
    "## Next Greater Element 1"
   ]
  },
  {
   "cell_type": "code",
   "execution_count": 2,
   "metadata": {},
   "outputs": [
    {
     "name": "stdout",
     "output_type": "stream",
     "text": [
      "[3, 4, -1, -1]\n"
     ]
    },
    {
     "data": {
      "text/plain": [
       "[-1, 3, -1]"
      ]
     },
     "execution_count": 2,
     "metadata": {},
     "output_type": "execute_result"
    }
   ],
   "source": [
    "def nextGreaterElement(nums1, nums2):\n",
    "    n = len(nums2)\n",
    "    res = [None]*n\n",
    "    stack = []\n",
    "\n",
    "    for i in range(n-1,-1,-1):\n",
    "        while stack and stack[-1]<=nums2[i]:\n",
    "            stack.pop()\n",
    "        res[i] = -1 if not stack else stack[-1]\n",
    "        stack.append(nums2[i])\n",
    "    \n",
    "    lst = []\n",
    "    print(res)\n",
    "\n",
    "    for ch in nums1:\n",
    "        idx = nums2.index(ch)\n",
    "        lst.append(res[idx])\n",
    "    return lst\n",
    "\n",
    "\n",
    "nums1 = [4,1,2]\n",
    "nums2 = [1,3,4,2]\n",
    "nextGreaterElement(nums1, nums2)"
   ]
  },
  {
   "cell_type": "markdown",
   "metadata": {},
   "source": [
    "## Next Greater Element 2"
   ]
  },
  {
   "cell_type": "code",
   "execution_count": 4,
   "metadata": {},
   "outputs": [
    {
     "data": {
      "text/plain": [
       "[2, 3, 4, -1, 4]"
      ]
     },
     "execution_count": 4,
     "metadata": {},
     "output_type": "execute_result"
    }
   ],
   "source": [
    "def nextGreaterElements(nums):\n",
    "    n = len(nums)\n",
    "    res = [None]*n\n",
    "    stack = []\n",
    "\n",
    "    for i in range(2*n-1 , -1, -1):\n",
    "        while stack and stack[-1] <= nums[i%n]:\n",
    "            stack.pop()\n",
    "        res[i%n] = -1 if not stack else stack[-1]\n",
    "        stack.append(nums[i%n])\n",
    "\n",
    "    return res\n",
    "\n",
    "nums = [1,2,3,4,3]\n",
    "nextGreaterElements(nums)"
   ]
  },
  {
   "cell_type": "markdown",
   "metadata": {},
   "source": [
    "## Next Greater"
   ]
  },
  {
   "cell_type": "code",
   "execution_count": 6,
   "metadata": {},
   "outputs": [
    {
     "data": {
      "text/plain": [
       "[18, 18, -1, -1, 6, 8, 8, -1]"
      ]
     },
     "execution_count": 6,
     "metadata": {},
     "output_type": "execute_result"
    }
   ],
   "source": [
    "def nextGreater(nums):\n",
    "    n = len(nums)\n",
    "    res = [None]*n\n",
    "    stack = []\n",
    "\n",
    "    for i in range(n-1, -1 ,-1):\n",
    "        while stack and stack[-1]<=nums[i]:\n",
    "            stack.pop()\n",
    "        res[i] = -1 if not stack else stack[-1]\n",
    "        stack.append(nums[i])\n",
    "    return res\n",
    "\n",
    "nums = [15, 10, 18, 12, 4, 6, 2, 8]\n",
    "nextGreater(nums)"
   ]
  },
  {
   "cell_type": "markdown",
   "metadata": {},
   "source": [
    "## Previous Greater"
   ]
  },
  {
   "cell_type": "code",
   "execution_count": 7,
   "metadata": {},
   "outputs": [
    {
     "data": {
      "text/plain": [
       "[-1, 15, -1, 18, 12, 12, 6, 12]"
      ]
     },
     "execution_count": 7,
     "metadata": {},
     "output_type": "execute_result"
    }
   ],
   "source": [
    "def PrevGreater(nums):\n",
    "    n = len(nums)\n",
    "    res = [None]*n\n",
    "    stack = []\n",
    "\n",
    "    for i in range(n):\n",
    "        while stack and stack[-1]<=nums[i]:\n",
    "            stack.pop()\n",
    "        res[i] = -1 if not stack else stack[-1]\n",
    "        stack.append(nums[i])\n",
    "    return res\n",
    "\n",
    "nums = [15, 10, 18, 12, 4, 6, 2, 8]\n",
    "PrevGreater(nums)"
   ]
  },
  {
   "cell_type": "markdown",
   "metadata": {},
   "source": [
    "## Next Smaller"
   ]
  },
  {
   "cell_type": "code",
   "execution_count": 9,
   "metadata": {},
   "outputs": [
    {
     "data": {
      "text/plain": [
       "[10, 4, 12, 4, 2, 2, -1, -1]"
      ]
     },
     "execution_count": 9,
     "metadata": {},
     "output_type": "execute_result"
    }
   ],
   "source": [
    "def nextSmaller(nums):\n",
    "    n = len(nums)\n",
    "    res = [None]*n\n",
    "    stack = []\n",
    "\n",
    "    for i in range(n-1, -1 ,-1):\n",
    "        while stack and stack[-1]>=nums[i]:\n",
    "            stack.pop()\n",
    "        res[i] = -1 if not stack else stack[-1]\n",
    "        stack.append(nums[i])\n",
    "    return res\n",
    "\n",
    "nums = [15, 10, 18, 12, 4, 6, 2, 8]\n",
    "nextSmaller(nums)"
   ]
  },
  {
   "cell_type": "markdown",
   "metadata": {},
   "source": [
    "## Previous Smaller"
   ]
  },
  {
   "cell_type": "code",
   "execution_count": 10,
   "metadata": {},
   "outputs": [
    {
     "data": {
      "text/plain": [
       "[-1, -1, 10, 10, -1, 4, -1, 2]"
      ]
     },
     "execution_count": 10,
     "metadata": {},
     "output_type": "execute_result"
    }
   ],
   "source": [
    "def PrevSmaller(nums):\n",
    "    n = len(nums)\n",
    "    res = [None]*n\n",
    "    stack = []\n",
    "\n",
    "    for i in range(n):\n",
    "        while stack and stack[-1]>=nums[i]:\n",
    "            stack.pop()\n",
    "        res[i] = -1 if not stack else stack[-1]\n",
    "        stack.append(nums[i])\n",
    "    return res\n",
    "\n",
    "nums = [15, 10, 18, 12, 4, 6, 2, 8]\n",
    "PrevSmaller(nums)"
   ]
  },
  {
   "cell_type": "markdown",
   "metadata": {},
   "source": [
    "## Trapping Rain Water"
   ]
  },
  {
   "cell_type": "code",
   "execution_count": 15,
   "metadata": {},
   "outputs": [
    {
     "name": "stdout",
     "output_type": "stream",
     "text": [
      "Left:   [0, 1, 1, 2, 2, 2, 2, 3, 3, 3, 3, 3]\n",
      "Right:  [3, 3, 3, 3, 3, 3, 3, 3, 2, 2, 2, 1]\n",
      "Water:  [0, 0, 1, 0, 1, 2, 1, 0, 0, 1, 0, 0]\n"
     ]
    },
    {
     "data": {
      "text/plain": [
       "6"
      ]
     },
     "execution_count": 15,
     "metadata": {},
     "output_type": "execute_result"
    }
   ],
   "source": [
    "def trap(height):\n",
    "    n = len(height)\n",
    "\n",
    "    left = [0]*n\n",
    "    left[0] = height[0]\n",
    "    for i in range(1,n):\n",
    "        left[i] = max(left[i-1], height[i])\n",
    "    print(\"Left:  \", left)\n",
    "\n",
    "    right = [0]*n\n",
    "    right[n-1] = height[n-1]\n",
    "    for i in range(n-2,-1,-1):\n",
    "        right[i] = max(right[i+1], height[i])\n",
    "    print(\"Right: \", right)\n",
    "\n",
    "    sm = [0]*n\n",
    "    for i in range(n):\n",
    "        sm[i] = min(left[i], right[i])-height[i]\n",
    "    print(\"Water: \",sm)\n",
    "\n",
    "    return sum(sm)\n",
    "\n",
    "\n",
    "height = [0,1,0,2,1,0,1,3,2,1,2,1]\n",
    "trap(height)"
   ]
  },
  {
   "cell_type": "markdown",
   "metadata": {},
   "source": [
    "## Asteroid Collision\n"
   ]
  },
  {
   "cell_type": "code",
   "execution_count": 18,
   "metadata": {},
   "outputs": [
    {
     "data": {
      "text/plain": [
       "[5, 10]"
      ]
     },
     "execution_count": 18,
     "metadata": {},
     "output_type": "execute_result"
    }
   ],
   "source": [
    "def asteroidCollision(asteroids):\n",
    "    stack = []\n",
    "\n",
    "    for i in asteroids:\n",
    "        if i>0:\n",
    "            stack.append(i)\n",
    "        else:\n",
    "            while stack and stack[-1]>0:\n",
    "                if abs(i)==stack[-1]:\n",
    "                    stack.pop()\n",
    "                    break\n",
    "                elif i + stack[-1]<0:\n",
    "                    stack.pop()\n",
    "                    continue\n",
    "                else:\n",
    "                    break\n",
    "            else:\n",
    "                stack.append(i)\n",
    "    return stack\n",
    "\n",
    "\n",
    "asteroids = [10,2,-5]\n",
    "asteroids = [5,10,-5]\n",
    "asteroidCollision(asteroids)"
   ]
  },
  {
   "cell_type": "markdown",
   "metadata": {},
   "source": [
    "## Sum of Subarray Minimums\n"
   ]
  },
  {
   "cell_type": "code",
   "execution_count": 31,
   "metadata": {},
   "outputs": [
    {
     "name": "stdout",
     "output_type": "stream",
     "text": [
      "Previous Smaller:  [[-1, -1], [-1, -1], [1, 1], [2, 2]]\n",
      "Next Smaller:      [[1, 1], [-1, -1], [-1, -1], [-1, -1]]\n",
      "List:              [[1, 1], [2, 3], [1, 2], [1, 1]]\n"
     ]
    },
    {
     "data": {
      "text/plain": [
       "17"
      ]
     },
     "execution_count": 31,
     "metadata": {},
     "output_type": "execute_result"
    }
   ],
   "source": [
    "def sumSubarrayMins(arr):\n",
    "    n = len(arr)\n",
    "\n",
    "    # 1. find prev smaller\n",
    "    prev = [[None, None] for _ in range(n)]\n",
    "    stack = []\n",
    "\n",
    "    for i in range(n):\n",
    "        while stack and stack[-1][0]>=arr[i]:\n",
    "            stack.pop()\n",
    "        prev[i] = [-1,-1] if not stack else stack[-1]\n",
    "        stack.append([arr[i],i])\n",
    "    print(\"Previous Smaller: \", prev)\n",
    "\n",
    "    # 2. find next smaller\n",
    "    next = [[None, None] for _ in range(n)]\n",
    "    stack = []\n",
    "\n",
    "    for i in range(n-1,-1,-1):\n",
    "        while stack and stack[-1][0]>=arr[i]:\n",
    "            stack.pop()\n",
    "        next[i] = [-1,-1] if not stack else stack[-1]\n",
    "        stack.append([arr[i],i])\n",
    "    print(\"Next Smaller:     \", next)\n",
    "\n",
    "    lst = []\n",
    "    sm = 0\n",
    "    for i in range(n):\n",
    "        from_left = prev[i][1]\n",
    "        from_right = next[i][1]\n",
    "\n",
    "        if from_left>-1:\n",
    "            left_dis = i - from_left\n",
    "        else:\n",
    "            left_dis = i+1\n",
    "        \n",
    "        if from_right>-1:\n",
    "            right_dis = from_right-i\n",
    "        else:\n",
    "            right_dis = n-i\n",
    "        \n",
    "        lst.append([left_dis, right_dis])\n",
    "        \n",
    "        sm += left_dis*right_dis*arr[i]\n",
    "    \n",
    "    print(\"List:             \", lst)\n",
    "    \n",
    "    return sm\n",
    "\n",
    "\n",
    "\n",
    "\n",
    "arr = [3,1,2,4]\n",
    "# arr = [11,81,94,43,3]\n",
    "sumSubarrayMins(arr)"
   ]
  },
  {
   "cell_type": "markdown",
   "metadata": {},
   "source": [
    "## Remove K Digits"
   ]
  },
  {
   "cell_type": "code",
   "execution_count": 35,
   "metadata": {},
   "outputs": [
    {
     "data": {
      "text/plain": [
       "'0'"
      ]
     },
     "execution_count": 35,
     "metadata": {},
     "output_type": "execute_result"
    }
   ],
   "source": [
    "def removeKdigits(num,k):\n",
    "    stack = []\n",
    "\n",
    "    for ch in num:\n",
    "        while k>0 and stack and stack[-1]>ch:\n",
    "            stack.pop()\n",
    "            k-=1\n",
    "\n",
    "        stack.append(ch)\n",
    "    \n",
    "    while stack and k>0:\n",
    "        stack.pop()\n",
    "        k-=1\n",
    "    \n",
    "    result = \"\".join(stack).lstrip(\"0\")\n",
    "\n",
    "    return result if result else \"0\"\n",
    "\n",
    "\n",
    "num = \"1432219\"\n",
    "k = 3\n",
    "\n",
    "num =\"112\"\n",
    "k = 1\n",
    "\n",
    "\n",
    "removeKdigits(num,k)"
   ]
  },
  {
   "cell_type": "markdown",
   "metadata": {},
   "source": [
    "## Largest Rectangle in Histogram"
   ]
  },
  {
   "cell_type": "code",
   "execution_count": 40,
   "metadata": {},
   "outputs": [
    {
     "data": {
      "text/plain": [
       "10"
      ]
     },
     "execution_count": 40,
     "metadata": {},
     "output_type": "execute_result"
    }
   ],
   "source": [
    "def largestRectangleArea(heights):\n",
    "    n = len(heights)\n",
    "\n",
    "    stack = []\n",
    "\n",
    "    left = [0]*n\n",
    "    right = [0]*n\n",
    "\n",
    "    # previous/left boundary\n",
    "    for i in range(n):\n",
    "        while stack and heights[stack[-1]]>=heights[i]:\n",
    "            stack.pop()\n",
    "        left[i] = 0 if not stack else stack[-1]+1\n",
    "        stack.append(i)\n",
    "    \n",
    "    stack.clear()\n",
    "\n",
    "    # Next/right boundary\n",
    "    for i in range(n-1,-1,-1):\n",
    "        while stack and heights[stack[-1]]>=heights[i]:\n",
    "            stack.pop()\n",
    "        right[i] = n-1 if not stack else stack[-1]-1\n",
    "        stack.append(i)\n",
    "    \n",
    "    max_area = 0\n",
    "\n",
    "    for i in range(n):\n",
    "        width = right[i]-left[i]+1\n",
    "        max_area = max(max_area, width*heights[i])\n",
    "    \n",
    "    return max_area\n",
    "\n",
    "heights = [2,1,5,6,2,3]\n",
    "largestRectangleArea(heights)"
   ]
  },
  {
   "cell_type": "markdown",
   "metadata": {},
   "source": [
    "## Maximal Rectangle"
   ]
  },
  {
   "cell_type": "code",
   "execution_count": 42,
   "metadata": {},
   "outputs": [
    {
     "data": {
      "text/plain": [
       "6"
      ]
     },
     "execution_count": 42,
     "metadata": {},
     "output_type": "execute_result"
    }
   ],
   "source": [
    "def maximalRectangle(matrix):\n",
    "    arr = [[0]*len(matrix[0]) for _ in range(len(matrix))]\n",
    "\n",
    "    for i in range(len(arr)):\n",
    "        for j in range(len(arr[0])):\n",
    "            arr[i][j] = int(matrix[i][j])\n",
    "    \n",
    "    res = largestRectangleArea(arr[0])\n",
    "\n",
    "    for i in range(len(arr)):\n",
    "        for j in range(len(arr[0])):\n",
    "            if arr[i][j]:\n",
    "                arr[i][j] += arr[i-1][j]\n",
    "            res = max(res, largestRectangleArea(arr[i]))\n",
    "\n",
    "    return res    \n",
    "\n",
    "\n",
    "matrix = [[\"1\",\"0\",\"1\",\"0\",\"0\"],[\"1\",\"0\",\"1\",\"1\",\"1\"],[\"1\",\"1\",\"1\",\"1\",\"1\"],[\"1\",\"0\",\"0\",\"1\",\"0\"]]\n",
    "maximalRectangle(matrix)"
   ]
  },
  {
   "cell_type": "code",
   "execution_count": 47,
   "metadata": {},
   "outputs": [
    {
     "data": {
      "text/plain": [
       "[3, 3, 5, 5, 6, 7]"
      ]
     },
     "execution_count": 47,
     "metadata": {},
     "output_type": "execute_result"
    }
   ],
   "source": [
    "from collections import deque\n",
    "from typing import List\n",
    "\n",
    "def maxSlidingWindow(nums: List[int], k: int) -> List[int]:\n",
    "    # Deque to store indices of elements in `nums`\n",
    "    deque_indices = deque()\n",
    "    result = []\n",
    "\n",
    "    for i in range(len(nums)):\n",
    "        # Remove elements from the deque if they are out of the current window bounds\n",
    "        if deque_indices and deque_indices[0] < i - k + 1:\n",
    "            deque_indices.popleft()\n",
    "        \n",
    "        # Remove elements from the deque while they are less than the current element\n",
    "        # as they cannot be the maximum for any future windows\n",
    "        while deque_indices and nums[deque_indices[-1]] <= nums[i]:\n",
    "            deque_indices.pop()\n",
    "        \n",
    "        # Add the current index to the deque\n",
    "        deque_indices.append(i)\n",
    "        \n",
    "        # If we've processed at least `k` elements, add the maximum for the current window\n",
    "        if i >= k - 1:\n",
    "            result.append(nums[deque_indices[0]])\n",
    "\n",
    "    return result\n",
    "\n",
    "nums = [1,3,-1,-3,5,3,6,7]\n",
    "k = 3\n",
    "maxSlidingWindow(nums, k)"
   ]
  },
  {
   "cell_type": "code",
   "execution_count": null,
   "metadata": {},
   "outputs": [],
   "source": []
  }
 ],
 "metadata": {
  "kernelspec": {
   "display_name": "env1_38",
   "language": "python",
   "name": "python3"
  },
  "language_info": {
   "codemirror_mode": {
    "name": "ipython",
    "version": 3
   },
   "file_extension": ".py",
   "mimetype": "text/x-python",
   "name": "python",
   "nbconvert_exporter": "python",
   "pygments_lexer": "ipython3",
   "version": "3.8.0"
  }
 },
 "nbformat": 4,
 "nbformat_minor": 2
}
