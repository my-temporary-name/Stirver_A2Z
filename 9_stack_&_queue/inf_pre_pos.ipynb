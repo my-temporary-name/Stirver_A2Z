{
 "cells": [
  {
   "cell_type": "markdown",
   "metadata": {},
   "source": [
    "## Infix to Postfix"
   ]
  },
  {
   "cell_type": "code",
   "execution_count": 5,
   "metadata": {},
   "outputs": [
    {
     "data": {
      "text/plain": [
       "'abcd^e-fgh*+^*+i-'"
      ]
     },
     "execution_count": 5,
     "metadata": {},
     "output_type": "execute_result"
    }
   ],
   "source": [
    "def inf_to_pre(exp):\n",
    "    operators = [\"+\", \"-\", \"*\", \"/\", \"^\", \"(\", \")\"]\n",
    "    precedence = {\"+\":1, \"-\":1, \"*\":2, \"/\":2, \"^\":3}\n",
    "\n",
    "    stack = []\n",
    "    output = \"\"\n",
    "\n",
    "    for ch in exp:\n",
    "        if ch not in operators:\n",
    "            output += ch\n",
    "        \n",
    "        elif ch==\"(\":\n",
    "            stack.append(ch)\n",
    "        elif ch==\")\":\n",
    "            while stack and stack[-1]!=\"(\":\n",
    "                output+=stack.pop()\n",
    "            stack.pop()\n",
    "        else:\n",
    "            while stack and stack[-1]!=\"(\" and precedence[ch]<=precedence[stack[-1]]:\n",
    "                output+=stack.pop()\n",
    "            stack.append(ch)\n",
    "    \n",
    "    while stack:\n",
    "        output+=stack.pop()\n",
    "    \n",
    "    return output\n",
    "\n",
    "exp = \"a+b*(c^d-e)^(f+g*h)-i\"\n",
    "inf_to_pre(exp) # abcd^e-fgh*+^*+i-"
   ]
  },
  {
   "cell_type": "markdown",
   "metadata": {},
   "source": [
    "## Infix to Prefix"
   ]
  },
  {
   "cell_type": "code",
   "execution_count": 14,
   "metadata": {},
   "outputs": [
    {
     "name": "stdout",
     "output_type": "stream",
     "text": [
      "expression is :  x+y*z/w+u\n",
      "Postfix is:  uwzy*/x++\n",
      "Prefix is:  ++x/*yzwu\n"
     ]
    }
   ],
   "source": [
    "def InfixToPostfix(exp):\n",
    "    operators = [\"+\",\"-\",\"*\",\"/\",\"^\",\"(\",\")\"]\n",
    "    precedence = {\"+\":1, \"-\":1, \"*\":2, \"/\":2, \"^\":3}\n",
    "    output=\"\"\n",
    "    stack = []\n",
    "    for i in exp:\n",
    "        if i not in operators:\n",
    "            output+=i\n",
    "        elif i==\"(\":\n",
    "            stack.append(i)\n",
    "        elif i==\")\":\n",
    "            while stack and stack[-1]!=\"(\":\n",
    "                output+=stack.pop()\n",
    "            stack.pop()\n",
    "        else:\n",
    "            if i==\"^\":\n",
    "                while stack and stack[-1]!=\"(\" and precedence[i]<=precedence[stack[-1]]:\n",
    "                    output+=stack.pop()\n",
    "                    # stack.append(i)\n",
    "            else:\n",
    "                while stack and stack[-1]!=\"(\" and precedence[i]<precedence[stack[-1]]:\n",
    "                    output+=stack.pop()\n",
    "            stack.append(i)\n",
    "    \n",
    "    while stack:\n",
    "        output+=stack.pop()\n",
    "    print(\"Postfix is: \",output)\n",
    "    return output\n",
    "\n",
    "def infixToPrefix(exp):\n",
    "    rev_exp = exp[::-1]\n",
    "\n",
    "    for i in range(len(exp)):\n",
    "        if rev_exp[i]==\"(\":\n",
    "            rev_exp[i]=\")\"\n",
    "        elif rev_exp[i]==\")\":\n",
    "            rev_exp[i]=\"(\"\n",
    "    \n",
    "    prefix = InfixToPostfix(rev_exp)\n",
    "\n",
    "    return prefix[::-1]\n",
    "\n",
    "    \n",
    "\n",
    "\n",
    "\n",
    "\n",
    "expression = \"x+y*z/w+u\"\n",
    "print(\"expression is : \",expression)\n",
    "print(\"Prefix is: \",infixToPrefix(expression))\n"
   ]
  },
  {
   "cell_type": "markdown",
   "metadata": {},
   "source": [
    "## Prefix to Infix"
   ]
  },
  {
   "cell_type": "code",
   "execution_count": 15,
   "metadata": {},
   "outputs": [
    {
     "data": {
      "text/plain": [
       "'((A-(B/C))*((A/K)-L))'"
      ]
     },
     "execution_count": 15,
     "metadata": {},
     "output_type": "execute_result"
    }
   ],
   "source": [
    "def pref_to_inf(exp):\n",
    "    stack = []\n",
    "    \n",
    "    for ch in exp[::-1]:\n",
    "        if ch.isalpha():\n",
    "            stack.append(ch)\n",
    "        else:\n",
    "            x = stack.pop()\n",
    "            y = stack.pop()\n",
    "            s = \"(\" + x + ch + y + \")\"\n",
    "            stack.append(s)\n",
    "    return stack.pop()\n",
    "\n",
    "\n",
    "s = \"*-A/BC-/AKL\"\n",
    "pref_to_inf(s) # ((A-(B/C))*((A/K)-L))\n"
   ]
  },
  {
   "cell_type": "markdown",
   "metadata": {},
   "source": [
    "## Postfix to Infix"
   ]
  },
  {
   "cell_type": "code",
   "execution_count": 16,
   "metadata": {},
   "outputs": [
    {
     "data": {
      "text/plain": [
       "'((a*b)+c)'"
      ]
     },
     "execution_count": 16,
     "metadata": {},
     "output_type": "execute_result"
    }
   ],
   "source": [
    "def post_to_inf(exp):\n",
    "    stack = []\n",
    "\n",
    "    for ch in exp:\n",
    "        if ch.isalpha():\n",
    "            stack.append(ch)\n",
    "        else:\n",
    "            y = stack.pop()\n",
    "            x = stack.pop()\n",
    "            ss = \"(\" + x + ch + y + \")\"\n",
    "            stack.append(ss)\n",
    "    return stack.pop()\n",
    "\n",
    "s = \"ab*c+\"\n",
    "post_to_inf(s) # ((a*b)+c)\n"
   ]
  },
  {
   "cell_type": "markdown",
   "metadata": {},
   "source": [
    "## Prefix to Postfix"
   ]
  },
  {
   "cell_type": "code",
   "execution_count": 21,
   "metadata": {},
   "outputs": [
    {
     "data": {
      "text/plain": [
       "'xyz*w/+u+'"
      ]
     },
     "execution_count": 21,
     "metadata": {},
     "output_type": "execute_result"
    }
   ],
   "source": [
    "def pref_to_pos(exp):\n",
    "    \n",
    "    stack = []\n",
    "    for ch in exp[::-1]:\n",
    "        if ch.isalpha():\n",
    "            stack.append(ch)\n",
    "        else:\n",
    "            x = stack.pop()\n",
    "            y = stack.pop()\n",
    "            stack.append( str(x+y+ch))\n",
    "    \n",
    "    return stack.pop()\n",
    "    \n",
    "\n",
    "\n",
    "exp = \"++x/*yzwu\"\n",
    "pref_to_pos(exp)\n",
    "\n",
    "# expression is :  x+y*z/w+u\n",
    "# Postfix is:  xyz*w/+u+\n",
    "# Prefix is:  ++x/*yzwu"
   ]
  },
  {
   "cell_type": "markdown",
   "metadata": {},
   "source": [
    "## Postfix to Prefix"
   ]
  },
  {
   "cell_type": "code",
   "execution_count": 18,
   "metadata": {},
   "outputs": [
    {
     "data": {
      "text/plain": [
       "'++x/*yzwu'"
      ]
     },
     "execution_count": 18,
     "metadata": {},
     "output_type": "execute_result"
    }
   ],
   "source": [
    "def post_to_pref(exp):\n",
    "    stack = []\n",
    "    for ch in exp:\n",
    "        if ch.isalpha():\n",
    "            stack.append(ch)\n",
    "        else:\n",
    "            y = stack.pop()\n",
    "            x = stack.pop()\n",
    "            stack.append( str(ch+x+y))\n",
    "    \n",
    "    return stack.pop()\n",
    "\n",
    "exp = \"xyz*w/+u+\"\n",
    "post_to_pref(exp)"
   ]
  },
  {
   "cell_type": "code",
   "execution_count": null,
   "metadata": {},
   "outputs": [],
   "source": []
  }
 ],
 "metadata": {
  "kernelspec": {
   "display_name": "env1_38",
   "language": "python",
   "name": "python3"
  },
  "language_info": {
   "codemirror_mode": {
    "name": "ipython",
    "version": 3
   },
   "file_extension": ".py",
   "mimetype": "text/x-python",
   "name": "python",
   "nbconvert_exporter": "python",
   "pygments_lexer": "ipython3",
   "version": "3.8.0"
  }
 },
 "nbformat": 4,
 "nbformat_minor": 2
}
