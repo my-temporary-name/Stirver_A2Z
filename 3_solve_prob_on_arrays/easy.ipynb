{
 "cells": [
  {
   "cell_type": "markdown",
   "metadata": {},
   "source": [
    "## Largest ELement in Array"
   ]
  },
  {
   "cell_type": "code",
   "execution_count": 1,
   "metadata": {},
   "outputs": [
    {
     "data": {
      "text/plain": [
       "90"
      ]
     },
     "execution_count": 1,
     "metadata": {},
     "output_type": "execute_result"
    }
   ],
   "source": [
    "def large_element(arr):\n",
    "    return max(arr)\n",
    "\n",
    "arr = [1, 8, 7, 56, 90]\n",
    "large_element(arr)"
   ]
  },
  {
   "cell_type": "markdown",
   "metadata": {},
   "source": [
    "## Find Second Smallest and Second Largest Element in an array\n",
    "\n",
    "\n"
   ]
  },
  {
   "cell_type": "code",
   "execution_count": 2,
   "metadata": {},
   "outputs": [
    {
     "data": {
      "text/plain": [
       "56"
      ]
     },
     "execution_count": 2,
     "metadata": {},
     "output_type": "execute_result"
    }
   ],
   "source": [
    "def Second_large_element(arr):\n",
    "    one = arr[0]\n",
    "    two = float(\"-inf\")\n",
    "\n",
    "    for i in range(len(arr)):\n",
    "        if arr[i]>one:\n",
    "            two = one\n",
    "            one = arr[i]\n",
    "        elif arr[i]<one and arr[i]>two:\n",
    "            two = arr[i]\n",
    "    return two\n",
    "\n",
    "\n",
    "arr = [1, 8, 7, 56, 90]\n",
    "Second_large_element(arr)"
   ]
  },
  {
   "cell_type": "markdown",
   "metadata": {},
   "source": [
    "## Check if an Array is Sorted\n",
    "\n",
    "\n"
   ]
  },
  {
   "cell_type": "code",
   "execution_count": 5,
   "metadata": {},
   "outputs": [
    {
     "name": "stdout",
     "output_type": "stream",
     "text": [
      "False\n"
     ]
    }
   ],
   "source": [
    "def isSorted(arr, n):\n",
    "    for i in range(n-1):\n",
    "        if not arr[i]<arr[i+1]:\n",
    "            return False\n",
    "    return\n",
    "\n",
    "if __name__ == \"__main__\":\n",
    "    arr = [1, 2, 3, 4, 5]\n",
    "    n = 5\n",
    "    print(\"True\" if isSorted(arr, n) else \"False\")"
   ]
  },
  {
   "cell_type": "markdown",
   "metadata": {},
   "source": [
    "## Check if Array Is Sorted and Rotated\n"
   ]
  },
  {
   "cell_type": "code",
   "execution_count": 35,
   "metadata": {},
   "outputs": [
    {
     "name": "stdout",
     "output_type": "stream",
     "text": [
      "2\n",
      "[1, 2, 3, 4, 5]\n"
     ]
    },
    {
     "data": {
      "text/plain": [
       "True"
      ]
     },
     "execution_count": 35,
     "metadata": {},
     "output_type": "execute_result"
    }
   ],
   "source": [
    "def sort_rotated(arr):\n",
    "    j = 0\n",
    "    n = len(arr)\n",
    "\n",
    "    while j<n-1 and arr[j]<=arr[j+1]:\n",
    "        j+=1 \n",
    "\n",
    "    print(j)\n",
    "    # if j==0: return True\n",
    "    new_arr = arr[j+1:]+arr[:j+1]\n",
    "    print(new_arr)\n",
    "    for i in range(n-1):\n",
    "        if not new_arr[i]<new_arr[i+1]:\n",
    "            return False\n",
    "    return True\n",
    "\n",
    "\n",
    "nums = [3,4,5,1,2]\n",
    "# nums= [1,2,3]\n",
    "# nums = [2,1,3,4]\n",
    "sort_rotated(nums)"
   ]
  },
  {
   "cell_type": "markdown",
   "metadata": {},
   "source": [
    "## Remove Duplicates in-place from Sorted Array\n",
    "\n",
    "\n"
   ]
  },
  {
   "cell_type": "code",
   "execution_count": 44,
   "metadata": {},
   "outputs": [
    {
     "data": {
      "text/plain": [
       "5"
      ]
     },
     "execution_count": 44,
     "metadata": {},
     "output_type": "execute_result"
    }
   ],
   "source": [
    "def remove_dups(arr):\n",
    "    s = 0\n",
    "    for i in range(1,len(arr)):\n",
    "        # print(s,i)\n",
    "        if arr[i]!=arr[s]:\n",
    "            s+=1\n",
    "            arr[s]=arr[i]\n",
    "\n",
    "        # print(arr)\n",
    "    \n",
    "    return s+1\n",
    "\n",
    "\n",
    "nums = [0,0,1,1,1,2,2,3,3,4]\n",
    "remove_dups(nums)"
   ]
  },
  {
   "cell_type": "markdown",
   "metadata": {},
   "source": [
    "## Rotate Array"
   ]
  },
  {
   "cell_type": "code",
   "execution_count": 49,
   "metadata": {},
   "outputs": [
    {
     "name": "stdout",
     "output_type": "stream",
     "text": [
      "[7, 6, 5, 4, 3, 2, 1]\n",
      "[5, 6, 7, 4, 3, 2, 1]\n"
     ]
    },
    {
     "data": {
      "text/plain": [
       "[5, 6, 7, 1, 2, 3, 4]"
      ]
     },
     "execution_count": 49,
     "metadata": {},
     "output_type": "execute_result"
    }
   ],
   "source": [
    "def rotate(arr,k):\n",
    "    # k = k%len(arr)\n",
    "    # for i in range(k):\n",
    "    #     arr.insert(0,arr.pop())\n",
    "    # return arr\n",
    "\n",
    "    n = len(arr)\n",
    "    k = k%n\n",
    "\n",
    "    def reverse(s ,e ):\n",
    "        while s<e:\n",
    "            arr[s],arr[e] = arr[e] , arr[s]\n",
    "            s += 1\n",
    "            e -= 1\n",
    "    \n",
    "    reverse(0,n-1)\n",
    "    print(arr)\n",
    "    reverse(0,k-1)\n",
    "    print(arr)\n",
    "    reverse(k,n-1)\n",
    "    \n",
    "    return arr\n",
    "\n",
    "arr = [1,2,3,4,5,6,7]\n",
    "k = 3\n",
    "rotate(arr,k)"
   ]
  },
  {
   "cell_type": "code",
   "execution_count": 50,
   "metadata": {},
   "outputs": [
    {
     "name": "stdout",
     "output_type": "stream",
     "text": [
      "j is : 1\n",
      "[1, 2, 0, 3, 2, 0, 0, 4, 5, 1]\n",
      "[1, 2, 3, 0, 2, 0, 0, 4, 5, 1]\n",
      "[1, 2, 3, 2, 0, 0, 0, 4, 5, 1]\n",
      "[1, 2, 3, 2, 0, 0, 0, 4, 5, 1]\n",
      "[1, 2, 3, 2, 0, 0, 0, 4, 5, 1]\n",
      "[1, 2, 3, 2, 4, 0, 0, 0, 5, 1]\n",
      "[1, 2, 3, 2, 4, 5, 0, 0, 0, 1]\n",
      "[1, 2, 3, 2, 4, 5, 1, 0, 0, 0]\n",
      "\n"
     ]
    },
    {
     "data": {
      "text/plain": [
       "[1, 2, 3, 2, 4, 5, 1, 0, 0, 0]"
      ]
     },
     "execution_count": 50,
     "metadata": {},
     "output_type": "execute_result"
    }
   ],
   "source": [
    "def moveZeros(n, arr):\n",
    "    j = -1\n",
    "    for i in range(n):\n",
    "        if arr[i]==0:\n",
    "            j=i\n",
    "            break\n",
    "    if j== -1: return arr\n",
    "\n",
    "    print(\"j is :\", j)\n",
    "\n",
    "    for i in range(j+1, len(arr)):\n",
    "        if arr[i]!=0:\n",
    "            arr[i], arr[j] = arr[j], arr[i]\n",
    "            j+=1\n",
    "        print(arr)\n",
    "    \n",
    "    print()\n",
    "    return arr\n",
    "\n",
    "arr = [1, 0, 2, 3, 2, 0, 0, 4, 5, 1]\n",
    "n = 10\n",
    "moveZeros(n, arr)"
   ]
  },
  {
   "cell_type": "markdown",
   "metadata": {},
   "source": [
    "## Union of Two Sorted Arrays with Duplicate Elements\n"
   ]
  },
  {
   "cell_type": "code",
   "execution_count": 51,
   "metadata": {},
   "outputs": [
    {
     "data": {
      "text/plain": [
       "[1, 2, 3, 4, 5]"
      ]
     },
     "execution_count": 51,
     "metadata": {},
     "output_type": "execute_result"
    }
   ],
   "source": [
    "def findUnion(a,b):\n",
    "    i,j = 0, 0\n",
    "    union = []\n",
    "\n",
    "    while i<len(a) and j<len(b):\n",
    "        if a[i]<=b[j]:\n",
    "            if len(union)==0 or union[-1]!=a[i]:\n",
    "                union.append(a[i])\n",
    "            i+=1\n",
    "        else:\n",
    "            if len(union)==0 or union[-1]!=b[j]:\n",
    "                union.append(b[j])\n",
    "            j+=1\n",
    "\n",
    "    while i<len(a):\n",
    "        if len(union)==0 or union[-1]!=a[i]:\n",
    "            union.append(a[i])\n",
    "        i+=1\n",
    "    \n",
    "    while j<len(b):\n",
    "        if len(union)==0 or union[-1]!=b[j]:\n",
    "            union.append(b[j])\n",
    "        j+=1\n",
    "    \n",
    "    return union\n",
    "\n",
    "\n",
    "a = [2, 2, 3, 4, 5]\n",
    "b = [1, 1, 2, 3, 4]\n",
    "findUnion(a,b)\n"
   ]
  },
  {
   "cell_type": "markdown",
   "metadata": {},
   "source": [
    "## Find the missing number in an array\n",
    "\n",
    "\n"
   ]
  },
  {
   "cell_type": "code",
   "execution_count": 52,
   "metadata": {},
   "outputs": [
    {
     "data": {
      "text/plain": [
       "8"
      ]
     },
     "execution_count": 52,
     "metadata": {},
     "output_type": "execute_result"
    }
   ],
   "source": [
    "def missing_num(arr):\n",
    "    n = len(arr)\n",
    "    n_sum = (n*(n+1))//2\n",
    "\n",
    "    return n_sum-sum(arr)\n",
    "\n",
    "\n",
    "\n",
    "nums = [9,6,4,2,3,5,7,0,1]\n",
    "missing_num(nums)"
   ]
  },
  {
   "cell_type": "markdown",
   "metadata": {},
   "source": [
    "## Count Maximum Consecutive One's in the array\n",
    "\n",
    "\n"
   ]
  },
  {
   "cell_type": "code",
   "execution_count": 53,
   "metadata": {},
   "outputs": [
    {
     "data": {
      "text/plain": [
       "3"
      ]
     },
     "execution_count": 53,
     "metadata": {},
     "output_type": "execute_result"
    }
   ],
   "source": [
    "def findMaxConsecutiveOnes(arr):\n",
    "    cnt = 0\n",
    "    mx = -1\n",
    "    for i in range(len(arr)):\n",
    "        if arr[i]==1:\n",
    "            cnt+=1\n",
    "            mx = max(mx, cnt)\n",
    "        else:\n",
    "            cnt = 0\n",
    "    return mx\n",
    "            \n",
    "\n",
    "nums = [1,1,0,1,1,1]\n",
    "findMaxConsecutiveOnes(nums)"
   ]
  },
  {
   "cell_type": "markdown",
   "metadata": {},
   "source": [
    "## Find the number that appears once, and other numbers twice."
   ]
  },
  {
   "cell_type": "code",
   "execution_count": 54,
   "metadata": {},
   "outputs": [
    {
     "data": {
      "text/plain": [
       "4"
      ]
     },
     "execution_count": 54,
     "metadata": {},
     "output_type": "execute_result"
    }
   ],
   "source": [
    "def singleNumber(nums):\n",
    "    s = 0\n",
    "    for i in nums:\n",
    "        s = s^i\n",
    "    return s\n",
    "\n",
    "nums = [4,1,2,1,2]\n",
    "singleNumber(nums)"
   ]
  },
  {
   "cell_type": "markdown",
   "metadata": {},
   "source": [
    "## Longest Subarray with given Sum K(Positives)\n",
    "\n",
    "\n"
   ]
  },
  {
   "cell_type": "code",
   "execution_count": 70,
   "metadata": {},
   "outputs": [
    {
     "data": {
      "text/plain": [
       "-1"
      ]
     },
     "execution_count": 70,
     "metadata": {},
     "output_type": "execute_result"
    }
   ],
   "source": [
    "def lenOfLongSubarr(arr, k):\n",
    "    # mpp = {}\n",
    "    # sm = 0\n",
    "    # mx = -1\n",
    "    # for i in range(len(arr)):\n",
    "    #     sm+=arr[i]\n",
    "    #     if sm==k:\n",
    "    #         mx = max(mx , i+1)\n",
    "        \n",
    "    #     rem = sm - k\n",
    "\n",
    "    #     if rem in mpp:\n",
    "    #         length = i-mpp[rem]\n",
    "    #         mx = max(mx , length)\n",
    "\n",
    "    #     if sm not in mpp:\n",
    "    #         mpp[sm] = i\n",
    "    \n",
    "    # return mx\n",
    "\n",
    "    right , left = 0 , 0\n",
    "    mx = -1\n",
    "    n = len(arr)\n",
    "    sm = arr[0]\n",
    "\n",
    "    while right < n:\n",
    "        if sm>k and left<=right:\n",
    "            sm -= arr[left]\n",
    "            left+=1\n",
    "        \n",
    "        if sm==k:\n",
    "            mx = max(mx, right-left+1)\n",
    "        \n",
    "        right+=1\n",
    "        if right<n:\n",
    "            sm+=arr[right]\n",
    "    return mx\n",
    "        \n",
    "            \n",
    "        \n",
    "\n",
    "\n",
    "\n",
    "# arr = [10, 5, 2, 7, 1, 9]\n",
    "# k = 15\n",
    "\n",
    "arr = [-1, 2, 3]\n",
    "k=6\n",
    "\n",
    "lenOfLongSubarr(arr, k)"
   ]
  },
  {
   "cell_type": "code",
   "execution_count": null,
   "metadata": {},
   "outputs": [],
   "source": []
  }
 ],
 "metadata": {
  "kernelspec": {
   "display_name": "env1_38",
   "language": "python",
   "name": "python3"
  },
  "language_info": {
   "codemirror_mode": {
    "name": "ipython",
    "version": 3
   },
   "file_extension": ".py",
   "mimetype": "text/x-python",
   "name": "python",
   "nbconvert_exporter": "python",
   "pygments_lexer": "ipython3",
   "version": "3.8.0"
  }
 },
 "nbformat": 4,
 "nbformat_minor": 2
}
