{
 "cells": [
  {
   "cell_type": "markdown",
   "metadata": {},
   "source": [
    "## Program to generate Pascal's Triangle\n",
    "\n",
    "\n"
   ]
  },
  {
   "cell_type": "code",
   "execution_count": 11,
   "metadata": {},
   "outputs": [
    {
     "data": {
      "text/plain": [
       "[[1], [1, 1], [1, 2, 1], [1, 3, 3, 1], [1, 4, 6, 4, 1]]"
      ]
     },
     "execution_count": 11,
     "metadata": {},
     "output_type": "execute_result"
    }
   ],
   "source": [
    "def generate(n):\n",
    "    if n==0: return []\n",
    "    if n==1: return [[1]]\n",
    "    if n==2: return [[1], [1,1]]\n",
    "    lst = [[1], [1,1]]\n",
    "\n",
    "    for i in range(2,n):\n",
    "        lst2 = []\n",
    "        # print(len(lst[-1]), lst[-1])\n",
    "        for j in range(len(lst[-1])-1):\n",
    "            a = lst[-1][j]\n",
    "            b = lst[-1][j+1]\n",
    "            lst2.append(a+b)\n",
    "        lst2 = [1] + lst2 + [1]\n",
    "        lst.append(lst2)\n",
    "    return lst\n",
    "\n",
    "n = 5\n",
    "generate(n)"
   ]
  },
  {
   "cell_type": "markdown",
   "metadata": {},
   "source": [
    "## Majority Elements(&gt;N/3 times) | Find the elements that appears more than N/3 times in the array"
   ]
  },
  {
   "cell_type": "code",
   "execution_count": 13,
   "metadata": {},
   "outputs": [
    {
     "data": {
      "text/plain": [
       "[1, 2]"
      ]
     },
     "execution_count": 13,
     "metadata": {},
     "output_type": "execute_result"
    }
   ],
   "source": [
    "def majority_ele(arr):\n",
    "    e1 , e2 = float(\"-inf\") , float(\"-inf\")\n",
    "    c1 , c2 = 0 , 0\n",
    "\n",
    "    for i in arr:\n",
    "        if c1==0 and e2!=i:\n",
    "            c1=1\n",
    "            e1 = i\n",
    "        elif c2==0 and e1!=i:\n",
    "            c2=1\n",
    "            e2=i\n",
    "        elif i==e1: c1+=1\n",
    "        elif i==e2: c2+=1\n",
    "        else:\n",
    "            c1-=1\n",
    "            c2-=1\n",
    "    \n",
    "    c1 , c2 = 0 , 0\n",
    "    for i in arr:\n",
    "        if e1==i: c1+=1\n",
    "        if e2==i: c2+=1\n",
    "    \n",
    "    lst = []\n",
    "\n",
    "    n = len(arr)\n",
    "    mn = int(n/3)+1\n",
    "    if c1>=mn: lst.append(e1)\n",
    "    if c2>=mn: lst.append(e2)\n",
    "\n",
    "    return lst\n",
    "\n",
    "\n",
    "        \n",
    "\n",
    "nums = [1,2]\n",
    "majority_ele(nums)"
   ]
  },
  {
   "cell_type": "markdown",
   "metadata": {},
   "source": [
    "## 3 Sum Problem"
   ]
  },
  {
   "cell_type": "code",
   "execution_count": 21,
   "metadata": {},
   "outputs": [
    {
     "data": {
      "text/plain": [
       "[[-1, -1, 2], [-1, 0, 1]]"
      ]
     },
     "execution_count": 21,
     "metadata": {},
     "output_type": "execute_result"
    }
   ],
   "source": [
    "def threeSum(arr):\n",
    "    arr.sort()\n",
    "    n = len(arr)\n",
    "    lst = []\n",
    "\n",
    "    for i in range(n):\n",
    "        if i!=0 and arr[i]==arr[i-1]:\n",
    "            continue\n",
    "        j = i+1\n",
    "        k = n-1\n",
    "\n",
    "        while j<k:\n",
    "            sm = arr[i]+arr[j]+arr[k]\n",
    "            if sm<0: j+=1\n",
    "            elif sm>0: k-=1\n",
    "            else:\n",
    "                lst.append([arr[i], arr[j], arr[k]])\n",
    "                j+=1\n",
    "                k-=1\n",
    "\n",
    "                while j<k and arr[j]==arr[j-1]: j+=1\n",
    "                while j<k and arr[k]==arr[k+1]: k-=1\n",
    "    \n",
    "    return lst\n",
    "\n",
    "arr  = [-1,0,1,2,-1,-4]\n",
    "threeSum(arr)"
   ]
  },
  {
   "cell_type": "markdown",
   "metadata": {},
   "source": [
    "## 4 Sum problem"
   ]
  },
  {
   "cell_type": "code",
   "execution_count": 22,
   "metadata": {},
   "outputs": [
    {
     "data": {
      "text/plain": [
       "[[-2, -1, 1, 2], [-2, 0, 0, 2], [-1, 0, 0, 1]]"
      ]
     },
     "execution_count": 22,
     "metadata": {},
     "output_type": "execute_result"
    }
   ],
   "source": [
    "def fourSum(arr):\n",
    "    arr.sort()\n",
    "    lst = []\n",
    "    n = len(arr)\n",
    "\n",
    "    for i in range(n):\n",
    "        if i!=0 and arr[i]==arr[i-1]: continue\n",
    "        \n",
    "        for j in range(i+1,n):\n",
    "            if j>i+1 and arr[j]==arr[j-1]: continue\n",
    "\n",
    "            k=j+1\n",
    "            l=n-1\n",
    "\n",
    "            while k<l:\n",
    "                sm = arr[i]+arr[j]+arr[k]+arr[l]\n",
    "                if sm<0:\n",
    "                    k+=1\n",
    "                elif sm>0:\n",
    "                    l-=1\n",
    "                else:\n",
    "                    lst.append([arr[i],arr[j],arr[k],arr[l]])\n",
    "                    k+=1\n",
    "                    l-=1\n",
    "                    while k<l and arr[k] == arr[k-1]: k+=1\n",
    "                    while k<l and arr[l]==arr[l+1]: l-=1\n",
    "    return lst\n",
    "\n",
    "arr = [1,0,-1,0,-2,2]\n",
    "fourSum(arr)"
   ]
  },
  {
   "cell_type": "markdown",
   "metadata": {},
   "source": [
    "## Length of the longest subarray with zero Sum\n",
    "\n",
    "\n"
   ]
  },
  {
   "cell_type": "code",
   "execution_count": 29,
   "metadata": {},
   "outputs": [
    {
     "data": {
      "text/plain": [
       "5"
      ]
     },
     "execution_count": 29,
     "metadata": {},
     "output_type": "execute_result"
    }
   ],
   "source": [
    "def maxLen(arr):\n",
    "    mpp = {}\n",
    "    sm = 0\n",
    "    mx = 0\n",
    "    for i in range(len(arr)):\n",
    "        sm+=arr[i]\n",
    "        if sm==0:\n",
    "            mx = max(mx,i+1)\n",
    "        \n",
    "        rem = sm\n",
    "        if sm in mpp:\n",
    "            l = i-mpp[sm]\n",
    "            mx = max(mx,l)\n",
    "        \n",
    "        if sm not in mpp:\n",
    "            mpp[sm]=i\n",
    "    return mx\n",
    "\n",
    "arr = [15,-2,2,-8,1,7,10,23]\n",
    "# arr = [2,10,4]\n",
    "# arr = [1, 0, -4, 3, 1, 0]\n",
    "\n",
    "maxLen(arr)"
   ]
  },
  {
   "cell_type": "markdown",
   "metadata": {},
   "source": [
    "## Count the number of subarrays with given xor K\n",
    "\n",
    "\n"
   ]
  },
  {
   "cell_type": "code",
   "execution_count": 31,
   "metadata": {},
   "outputs": [
    {
     "name": "stdout",
     "output_type": "stream",
     "text": [
      "The number of subarrays with XOR k is: 4\n"
     ]
    }
   ],
   "source": [
    "from collections import defaultdict\n",
    "def subarraysWithXorK(arr,k):\n",
    "    mpp = defaultdict(int)\n",
    "    cnt = 0\n",
    "    xr = 0\n",
    "    mpp[0]=1\n",
    "\n",
    "    for i in range(len(arr)):\n",
    "        xr = xr^arr[i]\n",
    "        x = xr^k\n",
    "\n",
    "        cnt += mpp[x]\n",
    "        mpp[xr]+=1\n",
    "    return cnt\n",
    "\n",
    "\n",
    "a = [4, 2, 2, 6, 4]\n",
    "k = 6\n",
    "ans = subarraysWithXorK(a, k)\n",
    "print(\"The number of subarrays with XOR k is:\", ans)"
   ]
  },
  {
   "cell_type": "markdown",
   "metadata": {},
   "source": [
    "## Merge Overlapping Sub-intervals\n",
    "\n",
    "\n"
   ]
  },
  {
   "cell_type": "code",
   "execution_count": 41,
   "metadata": {},
   "outputs": [
    {
     "name": "stdout",
     "output_type": "stream",
     "text": [
      "[[1, 3], [2, 6], [8, 10], [15, 18]]\n"
     ]
    },
    {
     "data": {
      "text/plain": [
       "[[1, 6], [8, 10], [15, 18]]"
      ]
     },
     "execution_count": 41,
     "metadata": {},
     "output_type": "execute_result"
    }
   ],
   "source": [
    "def merge(arr):\n",
    "    arr.sort()\n",
    "    print(arr)\n",
    "\n",
    "    res = 0\n",
    "\n",
    "    for i in range(1,len(arr)):\n",
    "        if arr[i][0]<arr[res][1]:\n",
    "            a = arr[res][0]\n",
    "            b = max(arr[i][1], arr[res][1])\n",
    "            arr[res] = [a,b]\n",
    "        else:\n",
    "            res+=1\n",
    "            arr[res] = arr[i]\n",
    "    return arr[:res+1]\n",
    "\n",
    "\n",
    "intervals = [[1,3],[2,6],[8,10],[15,18]]\n",
    "merge(intervals)"
   ]
  },
  {
   "cell_type": "markdown",
   "metadata": {},
   "source": [
    "## Merge two Sorted Arrays Without Extra Space\n",
    "\n",
    "\n"
   ]
  },
  {
   "cell_type": "code",
   "execution_count": 45,
   "metadata": {},
   "outputs": [
    {
     "name": "stdout",
     "output_type": "stream",
     "text": [
      "[1, 2, 2, 0, 0, 0] [3, 5, 6]\n"
     ]
    },
    {
     "data": {
      "text/plain": [
       "[1, 2, 2, 3, 5, 6]"
      ]
     },
     "execution_count": 45,
     "metadata": {},
     "output_type": "execute_result"
    }
   ],
   "source": [
    "def merge2(arr1, arr2 , n , m):\n",
    "    left = n-1\n",
    "    right  = 0\n",
    "\n",
    "    while left>=0 and right<m:\n",
    "        if arr1[left]>arr2[right]:\n",
    "            arr1[left], arr2[right] = arr2[right], arr1[left]\n",
    "            left -= 1\n",
    "            right += 1\n",
    "        else:\n",
    "            break\n",
    "    print(arr1, arr2)\n",
    "    return arr1[:n]+arr2[:]\n",
    "\n",
    "\n",
    "arr1 = [1,2,3,0,0,0]\n",
    "n = 3\n",
    "arr2 = [2,5,6]\n",
    "m = 3\n",
    "\n",
    "merge2(arr1, arr2 , n , m)"
   ]
  },
  {
   "cell_type": "markdown",
   "metadata": {},
   "source": [
    "## Count Inversions\n",
    "\n"
   ]
  },
  {
   "cell_type": "code",
   "execution_count": 49,
   "metadata": {},
   "outputs": [
    {
     "data": {
      "text/plain": [
       "3"
      ]
     },
     "execution_count": 49,
     "metadata": {},
     "output_type": "execute_result"
    }
   ],
   "source": [
    "def merge(arr , s , m , e):\n",
    "    cnt = 0\n",
    "    lst = []\n",
    "    left = s\n",
    "    right = m+1\n",
    "\n",
    "    while left<=m and right<=e:\n",
    "        if arr[left]<=arr[right]: \n",
    "            lst.append(arr[left])\n",
    "            left+=1\n",
    "        else:\n",
    "            cnt += (m-left+1)\n",
    "            lst.append(arr[right])\n",
    "            right+=1\n",
    "    \n",
    "    while left<=m:\n",
    "        lst.append(arr[left])\n",
    "        left+=1\n",
    "    while right<=e:\n",
    "        lst.append(arr[right])\n",
    "        right+=1\n",
    "    \n",
    "    for i in range(s , e+1):\n",
    "        arr[i] = lst[i-s]\n",
    "    return cnt\n",
    "\n",
    "\n",
    "def mergesort(arr, s , e):\n",
    "    cnt = 0\n",
    "    if s>=e:\n",
    "        return cnt\n",
    "    \n",
    "    mid = (s+e)//2\n",
    "    cnt += mergesort(arr, s, mid)\n",
    "    cnt += mergesort(arr, mid+1, e)\n",
    "    cnt += merge(arr, s , mid , e)\n",
    "\n",
    "    return cnt\n",
    "\n",
    "def count_inversions(arr):\n",
    "    n = len(arr)\n",
    "    return mergesort(arr, 0, n-1)\n",
    "\n",
    "arr = [2, 4, 1, 3, 5]\n",
    "count_inversions(arr)"
   ]
  },
  {
   "cell_type": "markdown",
   "metadata": {},
   "source": [
    "## Reverse Pairs"
   ]
  },
  {
   "cell_type": "code",
   "execution_count": 54,
   "metadata": {},
   "outputs": [
    {
     "data": {
      "text/plain": [
       "3"
      ]
     },
     "execution_count": 54,
     "metadata": {},
     "output_type": "execute_result"
    }
   ],
   "source": [
    "def merge(arr , s , m , e):\n",
    "    lst = []\n",
    "    left = s\n",
    "    right = m+1\n",
    "\n",
    "    while left<=m and right<=e:\n",
    "        if arr[left]<=arr[right]: \n",
    "            lst.append(arr[left])\n",
    "            left+=1\n",
    "        else:\n",
    "            lst.append(arr[right])\n",
    "            right+=1\n",
    "    \n",
    "    while left<=m:\n",
    "        lst.append(arr[left])\n",
    "        left+=1\n",
    "    while right<=e:\n",
    "        lst.append(arr[right])\n",
    "        right+=1\n",
    "    \n",
    "    for i in range(s , e+1):\n",
    "        arr[i] = lst[i-s]\n",
    "\n",
    "def  countPairs(arr, s , mid , e):\n",
    "    \n",
    "    cnt = 0\n",
    "    right = mid+1\n",
    "\n",
    "    for i in range(s , m+1):\n",
    "        while right<=e and arr[i]>2*arr[right]:\n",
    "            right += 1\n",
    "        cnt += (right - (mid+1))\n",
    "    return cnt\n",
    "\n",
    "\n",
    "\n",
    "def mergesort(arr, s , e):\n",
    "    cnt = 0\n",
    "    if s>=e:\n",
    "        return cnt\n",
    "    \n",
    "    mid = (s+e)//2\n",
    "    cnt += mergesort(arr, s, mid)\n",
    "    cnt += mergesort(arr, mid+1, e)\n",
    "    cnt += countPairs(arr, s , mid , e)\n",
    "    merge(arr, s , mid , e)\n",
    "\n",
    "    return cnt\n",
    "\n",
    "def reverse_pair(arr):\n",
    "    n = len(arr)\n",
    "    return mergesort(arr, 0, n-1)\n",
    "\n",
    "nums = [1,3,2,3,1]\n",
    "reverse_pair(nums)"
   ]
  },
  {
   "cell_type": "markdown",
   "metadata": {},
   "source": [
    "## Maximum product subarray"
   ]
  },
  {
   "cell_type": "code",
   "execution_count": 57,
   "metadata": {},
   "outputs": [
    {
     "data": {
      "text/plain": [
       "6"
      ]
     },
     "execution_count": 57,
     "metadata": {},
     "output_type": "execute_result"
    }
   ],
   "source": [
    "def max_prod(arr):\n",
    "    if len(arr)==0: return 0\n",
    "\n",
    "    mx = arr[0]\n",
    "    mn = arr[0]\n",
    "    res = mx\n",
    "\n",
    "    for i in range(1,len(arr)):\n",
    "        curr = arr[i]\n",
    "        temp = max(curr, mx*curr , mn*curr)\n",
    "        mn = min(curr , mx*curr , mn*curr)\n",
    "        mx = temp\n",
    "        res = max(mx,res)\n",
    "    return res\n",
    "\n",
    "nums = [2,3,-2,4]\n",
    "max_prod(nums)"
   ]
  },
  {
   "cell_type": "markdown",
   "metadata": {},
   "source": [
    "## Return max product subarray"
   ]
  },
  {
   "cell_type": "code",
   "execution_count": 62,
   "metadata": {},
   "outputs": [
    {
     "data": {
      "text/plain": [
       "(20, [0, -4, -5])"
      ]
     },
     "execution_count": 62,
     "metadata": {},
     "output_type": "execute_result"
    }
   ],
   "source": [
    "def max_prod(arr):\n",
    "    if len(arr)==0: return 0\n",
    "\n",
    "    mx = arr[0]\n",
    "    mn = arr[0]\n",
    "    res = mx\n",
    "\n",
    "    start = end = temp_start = 0\n",
    "\n",
    "    for i in range(1,len(arr)):\n",
    "        curr = arr[i]\n",
    "        temp = max(curr, mx*curr , mn*curr)\n",
    "        mn = min(curr , mx*curr , mn*curr)\n",
    "        mx = temp\n",
    "\n",
    "        if mx == arr[i]:\n",
    "            temp_start = i\n",
    "        \n",
    "        if mx > res:\n",
    "            res = mx\n",
    "            start = temp_start\n",
    "            end = i\n",
    "\n",
    "\n",
    "    return res , arr[start:end+1]\n",
    "\n",
    "nums = [1, 2, -3, 0, -4, -5]\n",
    "max_prod(nums)"
   ]
  },
  {
   "cell_type": "code",
   "execution_count": 64,
   "metadata": {},
   "outputs": [
    {
     "name": "stdout",
     "output_type": "stream",
     "text": [
      "Original array: [1, 2, -3, 0, -4, -5]\n",
      "Subarray with maximum product: [0, -4, -5]\n",
      "Maximum product: 0\n"
     ]
    }
   ],
   "source": [
    "def max_product_subarray(arr):\n",
    "    if not arr:\n",
    "        return []\n",
    "    \n",
    "    # Initialize variables to track max and min products up to current index\n",
    "    max_ending_here = arr[0]\n",
    "    min_ending_here = arr[0]\n",
    "    max_so_far = arr[0]\n",
    "    start = 0\n",
    "    end = 0\n",
    "    temp_start = 0\n",
    "    \n",
    "    for i in range(1, len(arr)):\n",
    "        curr = arr[i]\n",
    "        # Store the previous max value before updating\n",
    "        prev_max = max_ending_here\n",
    "        \n",
    "        # Update max_ending_here and min_ending_here\n",
    "        max_ending_here = max(curr, max(curr * max_ending_here, curr * min_ending_here))\n",
    "        min_ending_here = min(curr, min(curr * prev_max, curr * min_ending_here))\n",
    "        \n",
    "        # Update result if we found a greater product\n",
    "        if max_ending_here > max_so_far:\n",
    "            max_so_far = max_ending_here\n",
    "            end = i\n",
    "            start = temp_start\n",
    "            \n",
    "        # Reset temp_start if current element is chosen independently\n",
    "        if max_ending_here == curr:\n",
    "            temp_start = i\n",
    "            \n",
    "    return arr[start:end + 1]\n",
    "\n",
    "# Test the function\n",
    "arr = [1, 2, -3, 0, -4, -5]\n",
    "result = max_product_subarray(arr)\n",
    "print(f\"Original array: {arr}\")\n",
    "print(f\"Subarray with maximum product: {result}\")\n",
    "print(f\"Maximum product: {eval('*'.join(map(str, result)))}\")"
   ]
  },
  {
   "cell_type": "code",
   "execution_count": 65,
   "metadata": {},
   "outputs": [
    {
     "name": "stdout",
     "output_type": "stream",
     "text": [
      "Original array: [1, 2, -3, 0, -4, -5]\n",
      "Subarray with maximum product: [-4, -5]\n",
      "Maximum product: 20\n"
     ]
    }
   ],
   "source": [
    "def max_product_subarray(arr):\n",
    "    if not arr:\n",
    "        return []\n",
    "    \n",
    "    n = len(arr)\n",
    "    max_product = float('-inf')\n",
    "    start = 0\n",
    "    end = 0\n",
    "    \n",
    "    for i in range(n):\n",
    "        current_product = 1\n",
    "        for j in range(i, n):\n",
    "            current_product *= arr[j]\n",
    "            if current_product > max_product:\n",
    "                max_product = current_product\n",
    "                start = i\n",
    "                end = j\n",
    "    \n",
    "    return arr[start:end + 1]\n",
    "\n",
    "# Test the function\n",
    "arr = [1, 2, -3, 0, -4, -5]\n",
    "result = max_product_subarray(arr)\n",
    "print(f\"Original array: {arr}\")\n",
    "print(f\"Subarray with maximum product: {result}\")\n",
    "print(f\"Maximum product: {eval('*'.join(map(str, result)))}\")"
   ]
  },
  {
   "cell_type": "code",
   "execution_count": 66,
   "metadata": {},
   "outputs": [
    {
     "name": "stdout",
     "output_type": "stream",
     "text": [
      "Original array: [1, 2, -3, 0, -4, -5]\n",
      "Subarray with maximum product: [-5]\n",
      "Maximum product: -5\n"
     ]
    }
   ],
   "source": [
    "def max_product_subarray(arr):\n",
    "    if not arr:\n",
    "        return []\n",
    "    \n",
    "    n = len(arr)\n",
    "    max_ending = arr[0]  # max product ending at current position\n",
    "    min_ending = arr[0]  # min product ending at current position\n",
    "    max_so_far = arr[0]  # overall maximum product\n",
    "    start = 0\n",
    "    end = 0\n",
    "    curr_start = 0\n",
    "    \n",
    "    for i in range(1, n):\n",
    "        curr = arr[i]\n",
    "        # Save previous max since we'll need it for min calculation\n",
    "        prev_max = max_ending\n",
    "        \n",
    "        # For each number, we have two possibilities:\n",
    "        # 1. Start new subarray from current element\n",
    "        # 2. Multiply current element with previous max/min products\n",
    "        max_ending = max(curr, curr * max_ending, curr * min_ending)\n",
    "        min_ending = min(curr, curr * prev_max, curr * min_ending)\n",
    "        \n",
    "        # Update start and end indices when we find a bigger product\n",
    "        if max_ending > max_so_far:\n",
    "            max_so_far = max_ending\n",
    "            if curr * prev_max == max_ending or curr * min_ending == max_ending:\n",
    "                # If we used previous result, keep the old start\n",
    "                end = i\n",
    "            else:\n",
    "                # If we started fresh from current element\n",
    "                start = i\n",
    "                end = i\n",
    "                curr_start = i\n",
    "                \n",
    "        # Reset tracking if max_ending becomes curr\n",
    "        if max_ending == curr:\n",
    "            curr_start = i\n",
    "            \n",
    "    return arr[start:end + 1]\n",
    "\n",
    "# Test the function\n",
    "arr = [1, 2, -3, 0, -4, -5]\n",
    "result = max_product_subarray(arr)\n",
    "print(f\"Original array: {arr}\")\n",
    "print(f\"Subarray with maximum product: {result}\")\n",
    "print(f\"Maximum product: {eval('*'.join(map(str, result)))}\")"
   ]
  },
  {
   "cell_type": "code",
   "execution_count": null,
   "metadata": {},
   "outputs": [],
   "source": []
  }
 ],
 "metadata": {
  "kernelspec": {
   "display_name": "env1_38",
   "language": "python",
   "name": "python3"
  },
  "language_info": {
   "codemirror_mode": {
    "name": "ipython",
    "version": 3
   },
   "file_extension": ".py",
   "mimetype": "text/x-python",
   "name": "python",
   "nbconvert_exporter": "python",
   "pygments_lexer": "ipython3",
   "version": "3.8.0"
  }
 },
 "nbformat": 4,
 "nbformat_minor": 2
}
