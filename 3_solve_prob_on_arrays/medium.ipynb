{
 "cells": [
  {
   "cell_type": "markdown",
   "metadata": {},
   "source": [
    "## Two Sum : Check if a pair with given sum exists in Array\n",
    "\n",
    "\n"
   ]
  },
  {
   "cell_type": "code",
   "execution_count": 3,
   "metadata": {},
   "outputs": [
    {
     "name": "stdout",
     "output_type": "stream",
     "text": [
      "{}\n",
      "{7: 0}\n",
      "{7: 0, 11: 1}\n",
      "{7: 0, 11: 1, 15: 2}\n"
     ]
    },
    {
     "data": {
      "text/plain": [
       "[0, 3]"
      ]
     },
     "execution_count": 3,
     "metadata": {},
     "output_type": "execute_result"
    }
   ],
   "source": [
    "def twoSum(nums, target):\n",
    "    mpp = {}\n",
    "\n",
    "    for i in range(len(nums)):\n",
    "        print(mpp)\n",
    "        rem = target-nums[i]\n",
    "\n",
    "        if rem in mpp:\n",
    "            return [mpp[rem], i]\n",
    "        mpp[nums[i]] = i\n",
    "    return []\n",
    "\n",
    "nums = [7,11,15,2]\n",
    "target = 9\n",
    "twoSum(nums, target)"
   ]
  },
  {
   "cell_type": "markdown",
   "metadata": {},
   "source": [
    "## Sort an array of 0s, 1s and 2s\n",
    "\n",
    "\n"
   ]
  },
  {
   "cell_type": "code",
   "execution_count": 5,
   "metadata": {},
   "outputs": [
    {
     "name": "stdout",
     "output_type": "stream",
     "text": [
      "[2, 0, 2, 1, 1, 0]\n",
      "[0, 0, 2, 1, 1, 2]\n",
      "[0, 0, 2, 1, 1, 2]\n",
      "[0, 0, 2, 1, 1, 2]\n",
      "[0, 0, 1, 1, 2, 2]\n",
      "[0, 0, 1, 1, 2, 2]\n"
     ]
    },
    {
     "data": {
      "text/plain": [
       "[0, 0, 1, 1, 2, 2]"
      ]
     },
     "execution_count": 5,
     "metadata": {},
     "output_type": "execute_result"
    }
   ],
   "source": [
    "def sortColors(arr):\n",
    "    n = len(arr)\n",
    "    a , b = 0 , 0\n",
    "    c = n-1\n",
    "\n",
    "    while b <= c:\n",
    "        print(arr)\n",
    "        if  arr[b]==0:\n",
    "            arr[a] , arr[b] = arr[b] , arr[a]\n",
    "            a+=1\n",
    "            b+=1\n",
    "        elif arr[b]==1:\n",
    "            b+=1\n",
    "        else:\n",
    "            arr[b] , arr[c] = arr[c] , arr[b]\n",
    "            c-=1\n",
    "    return arr\n",
    "\n",
    "nums = [2,0,2,1,1,0]\n",
    "sortColors(nums)"
   ]
  },
  {
   "cell_type": "markdown",
   "metadata": {},
   "source": [
    "## Find the Majority Element that occurs more than N/2 times\n",
    "\n",
    "\n"
   ]
  },
  {
   "cell_type": "code",
   "execution_count": 6,
   "metadata": {},
   "outputs": [
    {
     "data": {
      "text/plain": [
       "2"
      ]
     },
     "execution_count": 6,
     "metadata": {},
     "output_type": "execute_result"
    }
   ],
   "source": [
    "def majorityElement(arr):\n",
    "    cnt = 0\n",
    "    ele = None\n",
    "\n",
    "    for i in range(len(arr)):\n",
    "        if cnt == 0:\n",
    "            cnt+=1\n",
    "            ele = arr[i]\n",
    "        if arr[i] == ele:\n",
    "            cnt+=1\n",
    "        else:\n",
    "            cnt-=1\n",
    "    \n",
    "    cnt2 = 0\n",
    "\n",
    "    for i in range(len(arr)):\n",
    "        if arr[i]==ele:\n",
    "            cnt2+=1\n",
    "    \n",
    "    return ele if cnt2> len(arr)//2 else -1\n",
    "\n",
    "\n",
    "arr = [2,2,1,1,1,2,2]\n",
    "majorityElement(arr)"
   ]
  },
  {
   "cell_type": "markdown",
   "metadata": {},
   "source": [
    "## Kadane's Algorithm : Maximum Subarray Sum in an Array\n",
    "\n",
    "\n"
   ]
  },
  {
   "cell_type": "code",
   "execution_count": 9,
   "metadata": {},
   "outputs": [
    {
     "data": {
      "text/plain": [
       "23"
      ]
     },
     "execution_count": 9,
     "metadata": {},
     "output_type": "execute_result"
    }
   ],
   "source": [
    "def maxSubArray(arr):\n",
    "    sm = 0\n",
    "    mx = float(\"-inf\")\n",
    "\n",
    "    for i in range(len(arr)):\n",
    "        sm += arr[i]\n",
    "\n",
    "        if arr[i]>sm: sm=arr[i]\n",
    "        mx = max(mx , sm)\n",
    "    return mx\n",
    "\n",
    "arr = [-2,1,-3,4,-1,2,1,-5,4]\n",
    "maxSubArray(arr)"
   ]
  },
  {
   "cell_type": "markdown",
   "metadata": {},
   "source": [
    "#### There might be more than one subarray with the maximum sum. We need to print any of them.\n",
    "\n"
   ]
  },
  {
   "cell_type": "code",
   "execution_count": 13,
   "metadata": {},
   "outputs": [
    {
     "data": {
      "text/plain": [
       "[3, 6]"
      ]
     },
     "execution_count": 13,
     "metadata": {},
     "output_type": "execute_result"
    }
   ],
   "source": [
    "def maxSubArray(arr):\n",
    "    sm = 0\n",
    "    mx = -999\n",
    "    start = 0\n",
    "    ans_s , ans_e = -1 , -1\n",
    "    for i in range(len(arr)):\n",
    "        if sm==0:\n",
    "            start = i\n",
    "        \n",
    "        sm+= arr[i]\n",
    "\n",
    "        if sm>mx:\n",
    "            mx = sm\n",
    "            ans_s = start\n",
    "            ans_e = i\n",
    "        \n",
    "        if sm<0:\n",
    "            sm=0\n",
    "\n",
    "    return [ans_s, ans_e] \n",
    "arr = [-2,1,-3,4,-1,2,1,-5,4]\n",
    "maxSubArray(arr)"
   ]
  },
  {
   "cell_type": "markdown",
   "metadata": {},
   "source": [
    "## Stock Buy And Sell\n",
    "\n",
    "\n"
   ]
  },
  {
   "cell_type": "code",
   "execution_count": 16,
   "metadata": {},
   "outputs": [
    {
     "name": "stdout",
     "output_type": "stream",
     "text": [
      "0 7\n",
      "\n",
      "0 1\n",
      "\n",
      "4 1\n",
      "\n",
      "4 1\n",
      "\n",
      "5 1\n",
      "\n",
      "5 1\n",
      "\n"
     ]
    },
    {
     "data": {
      "text/plain": [
       "5"
      ]
     },
     "execution_count": 16,
     "metadata": {},
     "output_type": "execute_result"
    }
   ],
   "source": [
    "def maxProfit(prices):\n",
    "    mx = float(\"-inf\")\n",
    "    mn = float(\"inf\")\n",
    "\n",
    "    for i in range(len(prices)):\n",
    "        mn = min(mn , prices[i])\n",
    "        mx = max(mx , prices[i] - mn)\n",
    "        print(mx, mn)\n",
    "        print()\n",
    "    return mx\n",
    "\n",
    "prices = [7,1,5,3,6,4]\n",
    "maxProfit(prices)"
   ]
  },
  {
   "cell_type": "markdown",
   "metadata": {},
   "source": [
    "## Rearrange Array Elements by Sign\n",
    "\n",
    "\n"
   ]
  },
  {
   "cell_type": "code",
   "execution_count": 19,
   "metadata": {},
   "outputs": [
    {
     "name": "stdout",
     "output_type": "stream",
     "text": [
      "[3, 1, 2] [-2, -5, -4]\n"
     ]
    },
    {
     "data": {
      "text/plain": [
       "[3, -2, 1, -5, 2, -4]"
      ]
     },
     "execution_count": 19,
     "metadata": {},
     "output_type": "execute_result"
    }
   ],
   "source": [
    "def rearrangeArray(nums):\n",
    "    pos = []\n",
    "    neg = []\n",
    "    for i in nums:\n",
    "        if i<0: neg.append(i)\n",
    "        else: pos.append(i)\n",
    "    \n",
    "    print(pos , neg)\n",
    "    \n",
    "    for i in range(0,len(nums)//2,1):\n",
    "        nums[2*i] = pos[i]\n",
    "        nums[2*i+1] = neg[i]\n",
    "        \n",
    "    \n",
    "    return nums\n",
    "\n",
    "nums = [3,1,-2,-5,2,-4]\n",
    "rearrangeArray(nums)"
   ]
  },
  {
   "cell_type": "markdown",
   "metadata": {},
   "source": [
    "## Leaders in an Array\n",
    "\n",
    "\n"
   ]
  },
  {
   "cell_type": "code",
   "execution_count": 27,
   "metadata": {},
   "outputs": [
    {
     "data": {
      "text/plain": [
       "[17, 5, 2]"
      ]
     },
     "execution_count": 27,
     "metadata": {},
     "output_type": "execute_result"
    }
   ],
   "source": [
    "def leaders(arr):\n",
    "    ans = []\n",
    "    ans.append(arr[-1])\n",
    "    for i in range(len(arr)-2,-1,-1):\n",
    "        if arr[i]>=ans[-1]:\n",
    "            ans.append(arr[i])\n",
    "    return ans[::-1]\n",
    "\n",
    "        \n",
    "\n",
    "    return arr\n",
    "arr = [16, 17, 4, 3, 5, 2]\n",
    "# arr= [10, 4, 2, 4, 1]\n",
    "leaders(arr)"
   ]
  },
  {
   "cell_type": "markdown",
   "metadata": {},
   "source": [
    "## Longest Consecutive Sequence in an Array\n",
    "\n",
    "\n"
   ]
  },
  {
   "cell_type": "code",
   "execution_count": 30,
   "metadata": {},
   "outputs": [
    {
     "data": {
      "text/plain": [
       "4"
      ]
     },
     "execution_count": 30,
     "metadata": {},
     "output_type": "execute_result"
    }
   ],
   "source": [
    "def longestConsecutive(arr):\n",
    "    n = len(arr)\n",
    "    if n==0: return 0\n",
    "\n",
    "    longest = 1\n",
    "    st = set()\n",
    "\n",
    "    for i in arr:\n",
    "        st.add(i)\n",
    "\n",
    "    for i in st:\n",
    "        if i-1 not in st:\n",
    "            ct = 1\n",
    "            while i+1 in st:\n",
    "                ct+=1\n",
    "                i+=1\n",
    "            longest = max(longest,ct)\n",
    "    return longest\n",
    "\n",
    "arr = [100,4,200,1,3,2]\n",
    "longestConsecutive(arr)"
   ]
  },
  {
   "cell_type": "markdown",
   "metadata": {},
   "source": [
    "## Set Matrix Zero\n",
    "\n",
    "\n"
   ]
  },
  {
   "cell_type": "code",
   "execution_count": 35,
   "metadata": {},
   "outputs": [
    {
     "name": "stdout",
     "output_type": "stream",
     "text": [
      "[0, 1, 0] [0, 1, 0]\n",
      "[1, 0, 1]\n",
      "[0, 0, 0]\n",
      "[1, 0, 1]\n"
     ]
    }
   ],
   "source": [
    "def setZeroes(matrix):\n",
    "    row , col = [0]*len(matrix) , [0]*len(matrix[0])\n",
    "\n",
    "    for i in range(len(matrix)):\n",
    "        for j in range(len(matrix[0])):\n",
    "            if matrix[i][j]==0:\n",
    "                row[i]=1\n",
    "                col[j]=1\n",
    "    \n",
    "    print(row, col)\n",
    "\n",
    "    for i in range(len(matrix)):\n",
    "        for j in range(len(matrix[0])):\n",
    "            if row[i]==1 or col[j]==1:\n",
    "                matrix[i][j]=0\n",
    "    \n",
    "    for i in matrix:\n",
    "        print(i)\n",
    "                \n",
    "matrix = [[1,1,1],[1,0,1],[1,1,1]]\n",
    "setZeroes(matrix)"
   ]
  },
  {
   "cell_type": "markdown",
   "metadata": {},
   "source": [
    "## Spiral Traversal of Matrix\n",
    "\n",
    "\n"
   ]
  },
  {
   "cell_type": "code",
   "execution_count": 41,
   "metadata": {},
   "outputs": [
    {
     "data": {
      "text/plain": [
       "[1, 2, 3, 4, 8, 12, 11, 10, 9, 5, 6, 7]"
      ]
     },
     "execution_count": 41,
     "metadata": {},
     "output_type": "execute_result"
    }
   ],
   "source": [
    "def spiralOrder(arr):\n",
    "    r = len(arr)\n",
    "    c = len(arr[0])\n",
    "    left  , up = 0 , 0\n",
    "    right , down = c-1 , r-1\n",
    "\n",
    "    lst = []\n",
    "    while left<=right and up<=down:\n",
    "\n",
    "        for i in range(left,right+1):\n",
    "            lst.append(arr[up][i])\n",
    "        up+=1\n",
    "\n",
    "        for i in range(up,down+1):\n",
    "            lst.append(arr[i][right])\n",
    "        right-=1\n",
    "\n",
    "        if up<=down:\n",
    "            for i in range(right, left-1, -1):\n",
    "                lst.append(arr[down][i])\n",
    "            down -=1 \n",
    "        \n",
    "        if left<=right:\n",
    "            for i in range(down , up-1 ,-1 ):\n",
    "                lst.append(arr[i][left])\n",
    "            left+=1\n",
    "    \n",
    "    return lst\n",
    "\n",
    "\n",
    "matrix = [[1,2,3,4],[5,6,7,8],[9,10,11,12]]\n",
    "spiralOrder(matrix)"
   ]
  },
  {
   "cell_type": "markdown",
   "metadata": {},
   "source": [
    "## Count Subarray sum Equals K\n",
    "\n",
    "\n"
   ]
  },
  {
   "cell_type": "code",
   "execution_count": 45,
   "metadata": {},
   "outputs": [
    {
     "name": "stdout",
     "output_type": "stream",
     "text": [
      "{0: 1, 1: 1, 2: 1, 3: 1}\n"
     ]
    },
    {
     "data": {
      "text/plain": [
       "2"
      ]
     },
     "execution_count": 45,
     "metadata": {},
     "output_type": "execute_result"
    }
   ],
   "source": [
    "def subarraySum(arr, k):\n",
    "    mpp = {0:1}\n",
    "    cnt = 0\n",
    "    sm = 0\n",
    "    for i in arr:\n",
    "        sm += i\n",
    "\n",
    "        if sm-k in mpp:\n",
    "            cnt += mpp[sm-k]\n",
    "        if sm in mpp:\n",
    "            mpp[sm] += 1\n",
    "        else:\n",
    "            mpp[sm] = 1\n",
    "    print(mpp)\n",
    "\n",
    "    return cnt\n",
    "\n",
    "nums = [1,1,1]\n",
    "k = 2\n",
    "\n",
    "subarraySum(nums, k)"
   ]
  },
  {
   "cell_type": "code",
   "execution_count": null,
   "metadata": {},
   "outputs": [],
   "source": []
  }
 ],
 "metadata": {
  "kernelspec": {
   "display_name": "env1_38",
   "language": "python",
   "name": "python3"
  },
  "language_info": {
   "codemirror_mode": {
    "name": "ipython",
    "version": 3
   },
   "file_extension": ".py",
   "mimetype": "text/x-python",
   "name": "python",
   "nbconvert_exporter": "python",
   "pygments_lexer": "ipython3",
   "version": "3.8.0"
  }
 },
 "nbformat": 4,
 "nbformat_minor": 2
}
